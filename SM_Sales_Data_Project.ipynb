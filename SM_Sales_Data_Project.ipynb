{
  "cells": [
    {
      "cell_type": "markdown",
      "metadata": {
        "id": "view-in-github",
        "colab_type": "text"
      },
      "source": [
        "<a href=\"https://colab.research.google.com/github/KalpitWalekar/projects/blob/main/SM_Sales_Data_Project.ipynb\" target=\"_parent\"><img src=\"https://colab.research.google.com/assets/colab-badge.svg\" alt=\"Open In Colab\"/></a>"
      ]
    },
    {
      "cell_type": "markdown",
      "source": [
        "#Importing libraries"
      ],
      "metadata": {
        "id": "q8KpUa0tIXs8"
      }
    },
    {
      "cell_type": "code",
      "source": [
        "import pandas as pd\n",
        "import numpy as np\n",
        "import seaborn as sb\n",
        "import plotly.express as px\n",
        "import matplotlib.pyplot as plt\n",
        "from google.colab import drive\n",
        "drive.mount(\"/content/gdrive\", force_remount=True)\n",
        "file_path=\"/content/gdrive/My Drive/python_docs/SM_data.csv\"\n",
        "#!ls\n",
        "SW_sales=pd.read_csv(file_path)\n",
        "print(SW_sales)"
      ],
      "metadata": {
        "colab": {
          "base_uri": "https://localhost:8080/"
        },
        "id": "SjuJk6zTGs55",
        "outputId": "c0fc06a2-b1da-406b-af4d-5466c07b94aa"
      },
      "execution_count": null,
      "outputs": [
        {
          "output_type": "stream",
          "name": "stdout",
          "text": [
            "Mounted at /content/gdrive\n",
            "      Invoice ID Branch       City Customer type  Gender  \\\n",
            "0    750-67-8428      A     Yangon        Member  Female   \n",
            "1    226-31-3081      C  Naypyitaw        Normal  Female   \n",
            "2    631-41-3108      A     Yangon        Normal    Male   \n",
            "3    123-19-1176      A     Yangon        Member    Male   \n",
            "4    373-73-7910      A     Yangon        Normal    Male   \n",
            "..           ...    ...        ...           ...     ...   \n",
            "995  233-67-5758      C  Naypyitaw        Normal    Male   \n",
            "996  303-96-2227      B   Mandalay        Normal  Female   \n",
            "997  727-02-1313      A     Yangon        Member    Male   \n",
            "998  347-56-2442      A     Yangon        Normal    Male   \n",
            "999  849-09-3807      A     Yangon        Member  Female   \n",
            "\n",
            "               Product line  Unit price  Quantity   Tax 5%      Total  \\\n",
            "0         Health and beauty       74.69         7  26.1415   548.9715   \n",
            "1    Electronic accessories       15.28         5   3.8200    80.2200   \n",
            "2        Home and lifestyle       46.33         7  16.2155   340.5255   \n",
            "3         Health and beauty       58.22         8  23.2880   489.0480   \n",
            "4         Sports and travel       86.31         7  30.2085   634.3785   \n",
            "..                      ...         ...       ...      ...        ...   \n",
            "995       Health and beauty       40.35         1   2.0175    42.3675   \n",
            "996      Home and lifestyle       97.38        10  48.6900  1022.4900   \n",
            "997      Food and beverages       31.84         1   1.5920    33.4320   \n",
            "998      Home and lifestyle       65.82         1   3.2910    69.1110   \n",
            "999     Fashion accessories       88.34         7  30.9190   649.2990   \n",
            "\n",
            "          Date   Time      Payment    cogs  gross margin percentage  \\\n",
            "0     1/5/2019  13:08      Ewallet  522.83                 4.761905   \n",
            "1     3/8/2019  10:29         Cash   76.40                 4.761905   \n",
            "2     3/3/2019  13:23  Credit card  324.31                 4.761905   \n",
            "3    1/27/2019  20:33      Ewallet  465.76                 4.761905   \n",
            "4     2/8/2019  10:37      Ewallet  604.17                 4.761905   \n",
            "..         ...    ...          ...     ...                      ...   \n",
            "995  1/29/2019  13:46      Ewallet   40.35                 4.761905   \n",
            "996   3/2/2019  17:16      Ewallet  973.80                 4.761905   \n",
            "997   2/9/2019  13:22         Cash   31.84                 4.761905   \n",
            "998  2/22/2019  15:33         Cash   65.82                 4.761905   \n",
            "999  2/18/2019  13:28         Cash  618.38                 4.761905   \n",
            "\n",
            "     gross income  Rating  \n",
            "0         26.1415     9.1  \n",
            "1          3.8200     9.6  \n",
            "2         16.2155     7.4  \n",
            "3         23.2880     8.4  \n",
            "4         30.2085     5.3  \n",
            "..            ...     ...  \n",
            "995        2.0175     6.2  \n",
            "996       48.6900     4.4  \n",
            "997        1.5920     7.7  \n",
            "998        3.2910     4.1  \n",
            "999       30.9190     6.6  \n",
            "\n",
            "[1000 rows x 17 columns]\n"
          ]
        }
      ]
    },
    {
      "cell_type": "markdown",
      "source": [
        "# Exploring Data"
      ],
      "metadata": {
        "id": "v0Ip6o_qKMfe"
      }
    },
    {
      "cell_type": "code",
      "source": [
        "SW_sales.head(10)"
      ],
      "metadata": {
        "colab": {
          "base_uri": "https://localhost:8080/",
          "height": 598
        },
        "id": "9TLsbIvMLcRF",
        "outputId": "39a4e616-92fb-4ff0-d1a4-84987eba1e33"
      },
      "execution_count": null,
      "outputs": [
        {
          "output_type": "execute_result",
          "data": {
            "text/plain": [
              "    Invoice ID Branch       City Customer type  Gender  \\\n",
              "0  750-67-8428      A     Yangon        Member  Female   \n",
              "1  226-31-3081      C  Naypyitaw        Normal  Female   \n",
              "2  631-41-3108      A     Yangon        Normal    Male   \n",
              "3  123-19-1176      A     Yangon        Member    Male   \n",
              "4  373-73-7910      A     Yangon        Normal    Male   \n",
              "5  699-14-3026      C  Naypyitaw        Normal    Male   \n",
              "6  355-53-5943      A     Yangon        Member  Female   \n",
              "7  315-22-5665      C  Naypyitaw        Normal  Female   \n",
              "8  665-32-9167      A     Yangon        Member  Female   \n",
              "9  692-92-5582      B   Mandalay        Member  Female   \n",
              "\n",
              "             Product line  Unit price  Quantity   Tax 5%     Total       Date  \\\n",
              "0       Health and beauty       74.69         7  26.1415  548.9715   1/5/2019   \n",
              "1  Electronic accessories       15.28         5   3.8200   80.2200   3/8/2019   \n",
              "2      Home and lifestyle       46.33         7  16.2155  340.5255   3/3/2019   \n",
              "3       Health and beauty       58.22         8  23.2880  489.0480  1/27/2019   \n",
              "4       Sports and travel       86.31         7  30.2085  634.3785   2/8/2019   \n",
              "5  Electronic accessories       85.39         7  29.8865  627.6165  3/25/2019   \n",
              "6  Electronic accessories       68.84         6  20.6520  433.6920  2/25/2019   \n",
              "7      Home and lifestyle       73.56        10  36.7800  772.3800  2/24/2019   \n",
              "8       Health and beauty       36.26         2   3.6260   76.1460  1/10/2019   \n",
              "9      Food and beverages       54.84         3   8.2260  172.7460  2/20/2019   \n",
              "\n",
              "    Time      Payment    cogs  gross margin percentage  gross income  Rating  \n",
              "0  13:08      Ewallet  522.83                 4.761905       26.1415     9.1  \n",
              "1  10:29         Cash   76.40                 4.761905        3.8200     9.6  \n",
              "2  13:23  Credit card  324.31                 4.761905       16.2155     7.4  \n",
              "3  20:33      Ewallet  465.76                 4.761905       23.2880     8.4  \n",
              "4  10:37      Ewallet  604.17                 4.761905       30.2085     5.3  \n",
              "5  18:30      Ewallet  597.73                 4.761905       29.8865     4.1  \n",
              "6  14:36      Ewallet  413.04                 4.761905       20.6520     5.8  \n",
              "7  11:38      Ewallet  735.60                 4.761905       36.7800     8.0  \n",
              "8  17:15  Credit card   72.52                 4.761905        3.6260     7.2  \n",
              "9  13:27  Credit card  164.52                 4.761905        8.2260     5.9  "
            ],
            "text/html": [
              "\n",
              "  <div id=\"df-480f0494-95bd-45f0-8cbd-57edf0b9cd22\">\n",
              "    <div class=\"colab-df-container\">\n",
              "      <div>\n",
              "<style scoped>\n",
              "    .dataframe tbody tr th:only-of-type {\n",
              "        vertical-align: middle;\n",
              "    }\n",
              "\n",
              "    .dataframe tbody tr th {\n",
              "        vertical-align: top;\n",
              "    }\n",
              "\n",
              "    .dataframe thead th {\n",
              "        text-align: right;\n",
              "    }\n",
              "</style>\n",
              "<table border=\"1\" class=\"dataframe\">\n",
              "  <thead>\n",
              "    <tr style=\"text-align: right;\">\n",
              "      <th></th>\n",
              "      <th>Invoice ID</th>\n",
              "      <th>Branch</th>\n",
              "      <th>City</th>\n",
              "      <th>Customer type</th>\n",
              "      <th>Gender</th>\n",
              "      <th>Product line</th>\n",
              "      <th>Unit price</th>\n",
              "      <th>Quantity</th>\n",
              "      <th>Tax 5%</th>\n",
              "      <th>Total</th>\n",
              "      <th>Date</th>\n",
              "      <th>Time</th>\n",
              "      <th>Payment</th>\n",
              "      <th>cogs</th>\n",
              "      <th>gross margin percentage</th>\n",
              "      <th>gross income</th>\n",
              "      <th>Rating</th>\n",
              "    </tr>\n",
              "  </thead>\n",
              "  <tbody>\n",
              "    <tr>\n",
              "      <th>0</th>\n",
              "      <td>750-67-8428</td>\n",
              "      <td>A</td>\n",
              "      <td>Yangon</td>\n",
              "      <td>Member</td>\n",
              "      <td>Female</td>\n",
              "      <td>Health and beauty</td>\n",
              "      <td>74.69</td>\n",
              "      <td>7</td>\n",
              "      <td>26.1415</td>\n",
              "      <td>548.9715</td>\n",
              "      <td>1/5/2019</td>\n",
              "      <td>13:08</td>\n",
              "      <td>Ewallet</td>\n",
              "      <td>522.83</td>\n",
              "      <td>4.761905</td>\n",
              "      <td>26.1415</td>\n",
              "      <td>9.1</td>\n",
              "    </tr>\n",
              "    <tr>\n",
              "      <th>1</th>\n",
              "      <td>226-31-3081</td>\n",
              "      <td>C</td>\n",
              "      <td>Naypyitaw</td>\n",
              "      <td>Normal</td>\n",
              "      <td>Female</td>\n",
              "      <td>Electronic accessories</td>\n",
              "      <td>15.28</td>\n",
              "      <td>5</td>\n",
              "      <td>3.8200</td>\n",
              "      <td>80.2200</td>\n",
              "      <td>3/8/2019</td>\n",
              "      <td>10:29</td>\n",
              "      <td>Cash</td>\n",
              "      <td>76.40</td>\n",
              "      <td>4.761905</td>\n",
              "      <td>3.8200</td>\n",
              "      <td>9.6</td>\n",
              "    </tr>\n",
              "    <tr>\n",
              "      <th>2</th>\n",
              "      <td>631-41-3108</td>\n",
              "      <td>A</td>\n",
              "      <td>Yangon</td>\n",
              "      <td>Normal</td>\n",
              "      <td>Male</td>\n",
              "      <td>Home and lifestyle</td>\n",
              "      <td>46.33</td>\n",
              "      <td>7</td>\n",
              "      <td>16.2155</td>\n",
              "      <td>340.5255</td>\n",
              "      <td>3/3/2019</td>\n",
              "      <td>13:23</td>\n",
              "      <td>Credit card</td>\n",
              "      <td>324.31</td>\n",
              "      <td>4.761905</td>\n",
              "      <td>16.2155</td>\n",
              "      <td>7.4</td>\n",
              "    </tr>\n",
              "    <tr>\n",
              "      <th>3</th>\n",
              "      <td>123-19-1176</td>\n",
              "      <td>A</td>\n",
              "      <td>Yangon</td>\n",
              "      <td>Member</td>\n",
              "      <td>Male</td>\n",
              "      <td>Health and beauty</td>\n",
              "      <td>58.22</td>\n",
              "      <td>8</td>\n",
              "      <td>23.2880</td>\n",
              "      <td>489.0480</td>\n",
              "      <td>1/27/2019</td>\n",
              "      <td>20:33</td>\n",
              "      <td>Ewallet</td>\n",
              "      <td>465.76</td>\n",
              "      <td>4.761905</td>\n",
              "      <td>23.2880</td>\n",
              "      <td>8.4</td>\n",
              "    </tr>\n",
              "    <tr>\n",
              "      <th>4</th>\n",
              "      <td>373-73-7910</td>\n",
              "      <td>A</td>\n",
              "      <td>Yangon</td>\n",
              "      <td>Normal</td>\n",
              "      <td>Male</td>\n",
              "      <td>Sports and travel</td>\n",
              "      <td>86.31</td>\n",
              "      <td>7</td>\n",
              "      <td>30.2085</td>\n",
              "      <td>634.3785</td>\n",
              "      <td>2/8/2019</td>\n",
              "      <td>10:37</td>\n",
              "      <td>Ewallet</td>\n",
              "      <td>604.17</td>\n",
              "      <td>4.761905</td>\n",
              "      <td>30.2085</td>\n",
              "      <td>5.3</td>\n",
              "    </tr>\n",
              "    <tr>\n",
              "      <th>5</th>\n",
              "      <td>699-14-3026</td>\n",
              "      <td>C</td>\n",
              "      <td>Naypyitaw</td>\n",
              "      <td>Normal</td>\n",
              "      <td>Male</td>\n",
              "      <td>Electronic accessories</td>\n",
              "      <td>85.39</td>\n",
              "      <td>7</td>\n",
              "      <td>29.8865</td>\n",
              "      <td>627.6165</td>\n",
              "      <td>3/25/2019</td>\n",
              "      <td>18:30</td>\n",
              "      <td>Ewallet</td>\n",
              "      <td>597.73</td>\n",
              "      <td>4.761905</td>\n",
              "      <td>29.8865</td>\n",
              "      <td>4.1</td>\n",
              "    </tr>\n",
              "    <tr>\n",
              "      <th>6</th>\n",
              "      <td>355-53-5943</td>\n",
              "      <td>A</td>\n",
              "      <td>Yangon</td>\n",
              "      <td>Member</td>\n",
              "      <td>Female</td>\n",
              "      <td>Electronic accessories</td>\n",
              "      <td>68.84</td>\n",
              "      <td>6</td>\n",
              "      <td>20.6520</td>\n",
              "      <td>433.6920</td>\n",
              "      <td>2/25/2019</td>\n",
              "      <td>14:36</td>\n",
              "      <td>Ewallet</td>\n",
              "      <td>413.04</td>\n",
              "      <td>4.761905</td>\n",
              "      <td>20.6520</td>\n",
              "      <td>5.8</td>\n",
              "    </tr>\n",
              "    <tr>\n",
              "      <th>7</th>\n",
              "      <td>315-22-5665</td>\n",
              "      <td>C</td>\n",
              "      <td>Naypyitaw</td>\n",
              "      <td>Normal</td>\n",
              "      <td>Female</td>\n",
              "      <td>Home and lifestyle</td>\n",
              "      <td>73.56</td>\n",
              "      <td>10</td>\n",
              "      <td>36.7800</td>\n",
              "      <td>772.3800</td>\n",
              "      <td>2/24/2019</td>\n",
              "      <td>11:38</td>\n",
              "      <td>Ewallet</td>\n",
              "      <td>735.60</td>\n",
              "      <td>4.761905</td>\n",
              "      <td>36.7800</td>\n",
              "      <td>8.0</td>\n",
              "    </tr>\n",
              "    <tr>\n",
              "      <th>8</th>\n",
              "      <td>665-32-9167</td>\n",
              "      <td>A</td>\n",
              "      <td>Yangon</td>\n",
              "      <td>Member</td>\n",
              "      <td>Female</td>\n",
              "      <td>Health and beauty</td>\n",
              "      <td>36.26</td>\n",
              "      <td>2</td>\n",
              "      <td>3.6260</td>\n",
              "      <td>76.1460</td>\n",
              "      <td>1/10/2019</td>\n",
              "      <td>17:15</td>\n",
              "      <td>Credit card</td>\n",
              "      <td>72.52</td>\n",
              "      <td>4.761905</td>\n",
              "      <td>3.6260</td>\n",
              "      <td>7.2</td>\n",
              "    </tr>\n",
              "    <tr>\n",
              "      <th>9</th>\n",
              "      <td>692-92-5582</td>\n",
              "      <td>B</td>\n",
              "      <td>Mandalay</td>\n",
              "      <td>Member</td>\n",
              "      <td>Female</td>\n",
              "      <td>Food and beverages</td>\n",
              "      <td>54.84</td>\n",
              "      <td>3</td>\n",
              "      <td>8.2260</td>\n",
              "      <td>172.7460</td>\n",
              "      <td>2/20/2019</td>\n",
              "      <td>13:27</td>\n",
              "      <td>Credit card</td>\n",
              "      <td>164.52</td>\n",
              "      <td>4.761905</td>\n",
              "      <td>8.2260</td>\n",
              "      <td>5.9</td>\n",
              "    </tr>\n",
              "  </tbody>\n",
              "</table>\n",
              "</div>\n",
              "      <button class=\"colab-df-convert\" onclick=\"convertToInteractive('df-480f0494-95bd-45f0-8cbd-57edf0b9cd22')\"\n",
              "              title=\"Convert this dataframe to an interactive table.\"\n",
              "              style=\"display:none;\">\n",
              "        \n",
              "  <svg xmlns=\"http://www.w3.org/2000/svg\" height=\"24px\"viewBox=\"0 0 24 24\"\n",
              "       width=\"24px\">\n",
              "    <path d=\"M0 0h24v24H0V0z\" fill=\"none\"/>\n",
              "    <path d=\"M18.56 5.44l.94 2.06.94-2.06 2.06-.94-2.06-.94-.94-2.06-.94 2.06-2.06.94zm-11 1L8.5 8.5l.94-2.06 2.06-.94-2.06-.94L8.5 2.5l-.94 2.06-2.06.94zm10 10l.94 2.06.94-2.06 2.06-.94-2.06-.94-.94-2.06-.94 2.06-2.06.94z\"/><path d=\"M17.41 7.96l-1.37-1.37c-.4-.4-.92-.59-1.43-.59-.52 0-1.04.2-1.43.59L10.3 9.45l-7.72 7.72c-.78.78-.78 2.05 0 2.83L4 21.41c.39.39.9.59 1.41.59.51 0 1.02-.2 1.41-.59l7.78-7.78 2.81-2.81c.8-.78.8-2.07 0-2.86zM5.41 20L4 18.59l7.72-7.72 1.47 1.35L5.41 20z\"/>\n",
              "  </svg>\n",
              "      </button>\n",
              "      \n",
              "  <style>\n",
              "    .colab-df-container {\n",
              "      display:flex;\n",
              "      flex-wrap:wrap;\n",
              "      gap: 12px;\n",
              "    }\n",
              "\n",
              "    .colab-df-convert {\n",
              "      background-color: #E8F0FE;\n",
              "      border: none;\n",
              "      border-radius: 50%;\n",
              "      cursor: pointer;\n",
              "      display: none;\n",
              "      fill: #1967D2;\n",
              "      height: 32px;\n",
              "      padding: 0 0 0 0;\n",
              "      width: 32px;\n",
              "    }\n",
              "\n",
              "    .colab-df-convert:hover {\n",
              "      background-color: #E2EBFA;\n",
              "      box-shadow: 0px 1px 2px rgba(60, 64, 67, 0.3), 0px 1px 3px 1px rgba(60, 64, 67, 0.15);\n",
              "      fill: #174EA6;\n",
              "    }\n",
              "\n",
              "    [theme=dark] .colab-df-convert {\n",
              "      background-color: #3B4455;\n",
              "      fill: #D2E3FC;\n",
              "    }\n",
              "\n",
              "    [theme=dark] .colab-df-convert:hover {\n",
              "      background-color: #434B5C;\n",
              "      box-shadow: 0px 1px 3px 1px rgba(0, 0, 0, 0.15);\n",
              "      filter: drop-shadow(0px 1px 2px rgba(0, 0, 0, 0.3));\n",
              "      fill: #FFFFFF;\n",
              "    }\n",
              "  </style>\n",
              "\n",
              "      <script>\n",
              "        const buttonEl =\n",
              "          document.querySelector('#df-480f0494-95bd-45f0-8cbd-57edf0b9cd22 button.colab-df-convert');\n",
              "        buttonEl.style.display =\n",
              "          google.colab.kernel.accessAllowed ? 'block' : 'none';\n",
              "\n",
              "        async function convertToInteractive(key) {\n",
              "          const element = document.querySelector('#df-480f0494-95bd-45f0-8cbd-57edf0b9cd22');\n",
              "          const dataTable =\n",
              "            await google.colab.kernel.invokeFunction('convertToInteractive',\n",
              "                                                     [key], {});\n",
              "          if (!dataTable) return;\n",
              "\n",
              "          const docLinkHtml = 'Like what you see? Visit the ' +\n",
              "            '<a target=\"_blank\" href=https://colab.research.google.com/notebooks/data_table.ipynb>data table notebook</a>'\n",
              "            + ' to learn more about interactive tables.';\n",
              "          element.innerHTML = '';\n",
              "          dataTable['output_type'] = 'display_data';\n",
              "          await google.colab.output.renderOutput(dataTable, element);\n",
              "          const docLink = document.createElement('div');\n",
              "          docLink.innerHTML = docLinkHtml;\n",
              "          element.appendChild(docLink);\n",
              "        }\n",
              "      </script>\n",
              "    </div>\n",
              "  </div>\n",
              "  "
            ]
          },
          "metadata": {},
          "execution_count": 3
        }
      ]
    },
    {
      "cell_type": "code",
      "source": [
        "SW_sales.shape"
      ],
      "metadata": {
        "colab": {
          "base_uri": "https://localhost:8080/"
        },
        "id": "O_ra0ULCL1fD",
        "outputId": "01addcec-83d4-4019-ebcc-9b676ab18cdf"
      },
      "execution_count": null,
      "outputs": [
        {
          "output_type": "execute_result",
          "data": {
            "text/plain": [
              "(1000, 17)"
            ]
          },
          "metadata": {},
          "execution_count": 26
        }
      ]
    },
    {
      "cell_type": "code",
      "source": [
        "SW_sales.describe()"
      ],
      "metadata": {
        "colab": {
          "base_uri": "https://localhost:8080/",
          "height": 300
        },
        "id": "FhRncwTnMGBd",
        "outputId": "b62d9407-cef5-4721-e72f-cacbcc107bd1"
      },
      "execution_count": null,
      "outputs": [
        {
          "output_type": "execute_result",
          "data": {
            "text/plain": [
              "        Unit price     Quantity       Tax 5%        Total        cogs  \\\n",
              "count  1000.000000  1000.000000  1000.000000  1000.000000  1000.00000   \n",
              "mean     55.672130     5.510000    15.379369   322.966749   307.58738   \n",
              "std      26.494628     2.923431    11.708825   245.885335   234.17651   \n",
              "min      10.080000     1.000000     0.508500    10.678500    10.17000   \n",
              "25%      32.875000     3.000000     5.924875   124.422375   118.49750   \n",
              "50%      55.230000     5.000000    12.088000   253.848000   241.76000   \n",
              "75%      77.935000     8.000000    22.445250   471.350250   448.90500   \n",
              "max      99.960000    10.000000    49.650000  1042.650000   993.00000   \n",
              "\n",
              "       gross margin percentage  gross income      Rating  \n",
              "count              1000.000000   1000.000000  1000.00000  \n",
              "mean                  4.761905     15.379369     6.97270  \n",
              "std                   0.000000     11.708825     1.71858  \n",
              "min                   4.761905      0.508500     4.00000  \n",
              "25%                   4.761905      5.924875     5.50000  \n",
              "50%                   4.761905     12.088000     7.00000  \n",
              "75%                   4.761905     22.445250     8.50000  \n",
              "max                   4.761905     49.650000    10.00000  "
            ],
            "text/html": [
              "\n",
              "  <div id=\"df-09157039-e5a5-4350-8155-4a25855fa8ed\">\n",
              "    <div class=\"colab-df-container\">\n",
              "      <div>\n",
              "<style scoped>\n",
              "    .dataframe tbody tr th:only-of-type {\n",
              "        vertical-align: middle;\n",
              "    }\n",
              "\n",
              "    .dataframe tbody tr th {\n",
              "        vertical-align: top;\n",
              "    }\n",
              "\n",
              "    .dataframe thead th {\n",
              "        text-align: right;\n",
              "    }\n",
              "</style>\n",
              "<table border=\"1\" class=\"dataframe\">\n",
              "  <thead>\n",
              "    <tr style=\"text-align: right;\">\n",
              "      <th></th>\n",
              "      <th>Unit price</th>\n",
              "      <th>Quantity</th>\n",
              "      <th>Tax 5%</th>\n",
              "      <th>Total</th>\n",
              "      <th>cogs</th>\n",
              "      <th>gross margin percentage</th>\n",
              "      <th>gross income</th>\n",
              "      <th>Rating</th>\n",
              "    </tr>\n",
              "  </thead>\n",
              "  <tbody>\n",
              "    <tr>\n",
              "      <th>count</th>\n",
              "      <td>1000.000000</td>\n",
              "      <td>1000.000000</td>\n",
              "      <td>1000.000000</td>\n",
              "      <td>1000.000000</td>\n",
              "      <td>1000.00000</td>\n",
              "      <td>1000.000000</td>\n",
              "      <td>1000.000000</td>\n",
              "      <td>1000.00000</td>\n",
              "    </tr>\n",
              "    <tr>\n",
              "      <th>mean</th>\n",
              "      <td>55.672130</td>\n",
              "      <td>5.510000</td>\n",
              "      <td>15.379369</td>\n",
              "      <td>322.966749</td>\n",
              "      <td>307.58738</td>\n",
              "      <td>4.761905</td>\n",
              "      <td>15.379369</td>\n",
              "      <td>6.97270</td>\n",
              "    </tr>\n",
              "    <tr>\n",
              "      <th>std</th>\n",
              "      <td>26.494628</td>\n",
              "      <td>2.923431</td>\n",
              "      <td>11.708825</td>\n",
              "      <td>245.885335</td>\n",
              "      <td>234.17651</td>\n",
              "      <td>0.000000</td>\n",
              "      <td>11.708825</td>\n",
              "      <td>1.71858</td>\n",
              "    </tr>\n",
              "    <tr>\n",
              "      <th>min</th>\n",
              "      <td>10.080000</td>\n",
              "      <td>1.000000</td>\n",
              "      <td>0.508500</td>\n",
              "      <td>10.678500</td>\n",
              "      <td>10.17000</td>\n",
              "      <td>4.761905</td>\n",
              "      <td>0.508500</td>\n",
              "      <td>4.00000</td>\n",
              "    </tr>\n",
              "    <tr>\n",
              "      <th>25%</th>\n",
              "      <td>32.875000</td>\n",
              "      <td>3.000000</td>\n",
              "      <td>5.924875</td>\n",
              "      <td>124.422375</td>\n",
              "      <td>118.49750</td>\n",
              "      <td>4.761905</td>\n",
              "      <td>5.924875</td>\n",
              "      <td>5.50000</td>\n",
              "    </tr>\n",
              "    <tr>\n",
              "      <th>50%</th>\n",
              "      <td>55.230000</td>\n",
              "      <td>5.000000</td>\n",
              "      <td>12.088000</td>\n",
              "      <td>253.848000</td>\n",
              "      <td>241.76000</td>\n",
              "      <td>4.761905</td>\n",
              "      <td>12.088000</td>\n",
              "      <td>7.00000</td>\n",
              "    </tr>\n",
              "    <tr>\n",
              "      <th>75%</th>\n",
              "      <td>77.935000</td>\n",
              "      <td>8.000000</td>\n",
              "      <td>22.445250</td>\n",
              "      <td>471.350250</td>\n",
              "      <td>448.90500</td>\n",
              "      <td>4.761905</td>\n",
              "      <td>22.445250</td>\n",
              "      <td>8.50000</td>\n",
              "    </tr>\n",
              "    <tr>\n",
              "      <th>max</th>\n",
              "      <td>99.960000</td>\n",
              "      <td>10.000000</td>\n",
              "      <td>49.650000</td>\n",
              "      <td>1042.650000</td>\n",
              "      <td>993.00000</td>\n",
              "      <td>4.761905</td>\n",
              "      <td>49.650000</td>\n",
              "      <td>10.00000</td>\n",
              "    </tr>\n",
              "  </tbody>\n",
              "</table>\n",
              "</div>\n",
              "      <button class=\"colab-df-convert\" onclick=\"convertToInteractive('df-09157039-e5a5-4350-8155-4a25855fa8ed')\"\n",
              "              title=\"Convert this dataframe to an interactive table.\"\n",
              "              style=\"display:none;\">\n",
              "        \n",
              "  <svg xmlns=\"http://www.w3.org/2000/svg\" height=\"24px\"viewBox=\"0 0 24 24\"\n",
              "       width=\"24px\">\n",
              "    <path d=\"M0 0h24v24H0V0z\" fill=\"none\"/>\n",
              "    <path d=\"M18.56 5.44l.94 2.06.94-2.06 2.06-.94-2.06-.94-.94-2.06-.94 2.06-2.06.94zm-11 1L8.5 8.5l.94-2.06 2.06-.94-2.06-.94L8.5 2.5l-.94 2.06-2.06.94zm10 10l.94 2.06.94-2.06 2.06-.94-2.06-.94-.94-2.06-.94 2.06-2.06.94z\"/><path d=\"M17.41 7.96l-1.37-1.37c-.4-.4-.92-.59-1.43-.59-.52 0-1.04.2-1.43.59L10.3 9.45l-7.72 7.72c-.78.78-.78 2.05 0 2.83L4 21.41c.39.39.9.59 1.41.59.51 0 1.02-.2 1.41-.59l7.78-7.78 2.81-2.81c.8-.78.8-2.07 0-2.86zM5.41 20L4 18.59l7.72-7.72 1.47 1.35L5.41 20z\"/>\n",
              "  </svg>\n",
              "      </button>\n",
              "      \n",
              "  <style>\n",
              "    .colab-df-container {\n",
              "      display:flex;\n",
              "      flex-wrap:wrap;\n",
              "      gap: 12px;\n",
              "    }\n",
              "\n",
              "    .colab-df-convert {\n",
              "      background-color: #E8F0FE;\n",
              "      border: none;\n",
              "      border-radius: 50%;\n",
              "      cursor: pointer;\n",
              "      display: none;\n",
              "      fill: #1967D2;\n",
              "      height: 32px;\n",
              "      padding: 0 0 0 0;\n",
              "      width: 32px;\n",
              "    }\n",
              "\n",
              "    .colab-df-convert:hover {\n",
              "      background-color: #E2EBFA;\n",
              "      box-shadow: 0px 1px 2px rgba(60, 64, 67, 0.3), 0px 1px 3px 1px rgba(60, 64, 67, 0.15);\n",
              "      fill: #174EA6;\n",
              "    }\n",
              "\n",
              "    [theme=dark] .colab-df-convert {\n",
              "      background-color: #3B4455;\n",
              "      fill: #D2E3FC;\n",
              "    }\n",
              "\n",
              "    [theme=dark] .colab-df-convert:hover {\n",
              "      background-color: #434B5C;\n",
              "      box-shadow: 0px 1px 3px 1px rgba(0, 0, 0, 0.15);\n",
              "      filter: drop-shadow(0px 1px 2px rgba(0, 0, 0, 0.3));\n",
              "      fill: #FFFFFF;\n",
              "    }\n",
              "  </style>\n",
              "\n",
              "      <script>\n",
              "        const buttonEl =\n",
              "          document.querySelector('#df-09157039-e5a5-4350-8155-4a25855fa8ed button.colab-df-convert');\n",
              "        buttonEl.style.display =\n",
              "          google.colab.kernel.accessAllowed ? 'block' : 'none';\n",
              "\n",
              "        async function convertToInteractive(key) {\n",
              "          const element = document.querySelector('#df-09157039-e5a5-4350-8155-4a25855fa8ed');\n",
              "          const dataTable =\n",
              "            await google.colab.kernel.invokeFunction('convertToInteractive',\n",
              "                                                     [key], {});\n",
              "          if (!dataTable) return;\n",
              "\n",
              "          const docLinkHtml = 'Like what you see? Visit the ' +\n",
              "            '<a target=\"_blank\" href=https://colab.research.google.com/notebooks/data_table.ipynb>data table notebook</a>'\n",
              "            + ' to learn more about interactive tables.';\n",
              "          element.innerHTML = '';\n",
              "          dataTable['output_type'] = 'display_data';\n",
              "          await google.colab.output.renderOutput(dataTable, element);\n",
              "          const docLink = document.createElement('div');\n",
              "          docLink.innerHTML = docLinkHtml;\n",
              "          element.appendChild(docLink);\n",
              "        }\n",
              "      </script>\n",
              "    </div>\n",
              "  </div>\n",
              "  "
            ]
          },
          "metadata": {},
          "execution_count": 27
        }
      ]
    },
    {
      "cell_type": "code",
      "source": [
        "SW_sales.describe(include='O')"
      ],
      "metadata": {
        "colab": {
          "base_uri": "https://localhost:8080/",
          "height": 175
        },
        "id": "QwQkeYJaMH9g",
        "outputId": "c7c63bfe-c855-4056-ceee-569f2015cbf5"
      },
      "execution_count": null,
      "outputs": [
        {
          "output_type": "execute_result",
          "data": {
            "text/plain": [
              "         Invoice ID Branch    City Customer type  Gender         Product line  \\\n",
              "count          1000   1000    1000          1000    1000                 1000   \n",
              "unique         1000      3       3             2       2                    6   \n",
              "top     750-67-8428      A  Yangon        Member  Female  Fashion accessories   \n",
              "freq              1    340     340           501     501                  178   \n",
              "\n",
              "            Date   Time  Payment  \n",
              "count       1000   1000     1000  \n",
              "unique        89    506        3  \n",
              "top     2/7/2019  19:48  Ewallet  \n",
              "freq          20      7      345  "
            ],
            "text/html": [
              "\n",
              "  <div id=\"df-2a4fa9f9-e653-4408-9288-ff9d2a0ee7d8\">\n",
              "    <div class=\"colab-df-container\">\n",
              "      <div>\n",
              "<style scoped>\n",
              "    .dataframe tbody tr th:only-of-type {\n",
              "        vertical-align: middle;\n",
              "    }\n",
              "\n",
              "    .dataframe tbody tr th {\n",
              "        vertical-align: top;\n",
              "    }\n",
              "\n",
              "    .dataframe thead th {\n",
              "        text-align: right;\n",
              "    }\n",
              "</style>\n",
              "<table border=\"1\" class=\"dataframe\">\n",
              "  <thead>\n",
              "    <tr style=\"text-align: right;\">\n",
              "      <th></th>\n",
              "      <th>Invoice ID</th>\n",
              "      <th>Branch</th>\n",
              "      <th>City</th>\n",
              "      <th>Customer type</th>\n",
              "      <th>Gender</th>\n",
              "      <th>Product line</th>\n",
              "      <th>Date</th>\n",
              "      <th>Time</th>\n",
              "      <th>Payment</th>\n",
              "    </tr>\n",
              "  </thead>\n",
              "  <tbody>\n",
              "    <tr>\n",
              "      <th>count</th>\n",
              "      <td>1000</td>\n",
              "      <td>1000</td>\n",
              "      <td>1000</td>\n",
              "      <td>1000</td>\n",
              "      <td>1000</td>\n",
              "      <td>1000</td>\n",
              "      <td>1000</td>\n",
              "      <td>1000</td>\n",
              "      <td>1000</td>\n",
              "    </tr>\n",
              "    <tr>\n",
              "      <th>unique</th>\n",
              "      <td>1000</td>\n",
              "      <td>3</td>\n",
              "      <td>3</td>\n",
              "      <td>2</td>\n",
              "      <td>2</td>\n",
              "      <td>6</td>\n",
              "      <td>89</td>\n",
              "      <td>506</td>\n",
              "      <td>3</td>\n",
              "    </tr>\n",
              "    <tr>\n",
              "      <th>top</th>\n",
              "      <td>750-67-8428</td>\n",
              "      <td>A</td>\n",
              "      <td>Yangon</td>\n",
              "      <td>Member</td>\n",
              "      <td>Female</td>\n",
              "      <td>Fashion accessories</td>\n",
              "      <td>2/7/2019</td>\n",
              "      <td>19:48</td>\n",
              "      <td>Ewallet</td>\n",
              "    </tr>\n",
              "    <tr>\n",
              "      <th>freq</th>\n",
              "      <td>1</td>\n",
              "      <td>340</td>\n",
              "      <td>340</td>\n",
              "      <td>501</td>\n",
              "      <td>501</td>\n",
              "      <td>178</td>\n",
              "      <td>20</td>\n",
              "      <td>7</td>\n",
              "      <td>345</td>\n",
              "    </tr>\n",
              "  </tbody>\n",
              "</table>\n",
              "</div>\n",
              "      <button class=\"colab-df-convert\" onclick=\"convertToInteractive('df-2a4fa9f9-e653-4408-9288-ff9d2a0ee7d8')\"\n",
              "              title=\"Convert this dataframe to an interactive table.\"\n",
              "              style=\"display:none;\">\n",
              "        \n",
              "  <svg xmlns=\"http://www.w3.org/2000/svg\" height=\"24px\"viewBox=\"0 0 24 24\"\n",
              "       width=\"24px\">\n",
              "    <path d=\"M0 0h24v24H0V0z\" fill=\"none\"/>\n",
              "    <path d=\"M18.56 5.44l.94 2.06.94-2.06 2.06-.94-2.06-.94-.94-2.06-.94 2.06-2.06.94zm-11 1L8.5 8.5l.94-2.06 2.06-.94-2.06-.94L8.5 2.5l-.94 2.06-2.06.94zm10 10l.94 2.06.94-2.06 2.06-.94-2.06-.94-.94-2.06-.94 2.06-2.06.94z\"/><path d=\"M17.41 7.96l-1.37-1.37c-.4-.4-.92-.59-1.43-.59-.52 0-1.04.2-1.43.59L10.3 9.45l-7.72 7.72c-.78.78-.78 2.05 0 2.83L4 21.41c.39.39.9.59 1.41.59.51 0 1.02-.2 1.41-.59l7.78-7.78 2.81-2.81c.8-.78.8-2.07 0-2.86zM5.41 20L4 18.59l7.72-7.72 1.47 1.35L5.41 20z\"/>\n",
              "  </svg>\n",
              "      </button>\n",
              "      \n",
              "  <style>\n",
              "    .colab-df-container {\n",
              "      display:flex;\n",
              "      flex-wrap:wrap;\n",
              "      gap: 12px;\n",
              "    }\n",
              "\n",
              "    .colab-df-convert {\n",
              "      background-color: #E8F0FE;\n",
              "      border: none;\n",
              "      border-radius: 50%;\n",
              "      cursor: pointer;\n",
              "      display: none;\n",
              "      fill: #1967D2;\n",
              "      height: 32px;\n",
              "      padding: 0 0 0 0;\n",
              "      width: 32px;\n",
              "    }\n",
              "\n",
              "    .colab-df-convert:hover {\n",
              "      background-color: #E2EBFA;\n",
              "      box-shadow: 0px 1px 2px rgba(60, 64, 67, 0.3), 0px 1px 3px 1px rgba(60, 64, 67, 0.15);\n",
              "      fill: #174EA6;\n",
              "    }\n",
              "\n",
              "    [theme=dark] .colab-df-convert {\n",
              "      background-color: #3B4455;\n",
              "      fill: #D2E3FC;\n",
              "    }\n",
              "\n",
              "    [theme=dark] .colab-df-convert:hover {\n",
              "      background-color: #434B5C;\n",
              "      box-shadow: 0px 1px 3px 1px rgba(0, 0, 0, 0.15);\n",
              "      filter: drop-shadow(0px 1px 2px rgba(0, 0, 0, 0.3));\n",
              "      fill: #FFFFFF;\n",
              "    }\n",
              "  </style>\n",
              "\n",
              "      <script>\n",
              "        const buttonEl =\n",
              "          document.querySelector('#df-2a4fa9f9-e653-4408-9288-ff9d2a0ee7d8 button.colab-df-convert');\n",
              "        buttonEl.style.display =\n",
              "          google.colab.kernel.accessAllowed ? 'block' : 'none';\n",
              "\n",
              "        async function convertToInteractive(key) {\n",
              "          const element = document.querySelector('#df-2a4fa9f9-e653-4408-9288-ff9d2a0ee7d8');\n",
              "          const dataTable =\n",
              "            await google.colab.kernel.invokeFunction('convertToInteractive',\n",
              "                                                     [key], {});\n",
              "          if (!dataTable) return;\n",
              "\n",
              "          const docLinkHtml = 'Like what you see? Visit the ' +\n",
              "            '<a target=\"_blank\" href=https://colab.research.google.com/notebooks/data_table.ipynb>data table notebook</a>'\n",
              "            + ' to learn more about interactive tables.';\n",
              "          element.innerHTML = '';\n",
              "          dataTable['output_type'] = 'display_data';\n",
              "          await google.colab.output.renderOutput(dataTable, element);\n",
              "          const docLink = document.createElement('div');\n",
              "          docLink.innerHTML = docLinkHtml;\n",
              "          element.appendChild(docLink);\n",
              "        }\n",
              "      </script>\n",
              "    </div>\n",
              "  </div>\n",
              "  "
            ]
          },
          "metadata": {},
          "execution_count": 28
        }
      ]
    },
    {
      "cell_type": "code",
      "source": [
        "SW_sales.info()"
      ],
      "metadata": {
        "colab": {
          "base_uri": "https://localhost:8080/"
        },
        "id": "0OC4H4wuNqTA",
        "outputId": "ab75eeae-4f82-4629-cc8d-73a8907dab60"
      },
      "execution_count": null,
      "outputs": [
        {
          "output_type": "stream",
          "name": "stdout",
          "text": [
            "<class 'pandas.core.frame.DataFrame'>\n",
            "RangeIndex: 1000 entries, 0 to 999\n",
            "Data columns (total 17 columns):\n",
            " #   Column                   Non-Null Count  Dtype  \n",
            "---  ------                   --------------  -----  \n",
            " 0   Invoice ID               1000 non-null   object \n",
            " 1   Branch                   1000 non-null   object \n",
            " 2   City                     1000 non-null   object \n",
            " 3   Customer type            1000 non-null   object \n",
            " 4   Gender                   1000 non-null   object \n",
            " 5   Product line             1000 non-null   object \n",
            " 6   Unit price               1000 non-null   float64\n",
            " 7   Quantity                 1000 non-null   int64  \n",
            " 8   Tax 5%                   1000 non-null   float64\n",
            " 9   Total                    1000 non-null   float64\n",
            " 10  Date                     1000 non-null   object \n",
            " 11  Time                     1000 non-null   object \n",
            " 12  Payment                  1000 non-null   object \n",
            " 13  cogs                     1000 non-null   float64\n",
            " 14  gross margin percentage  1000 non-null   float64\n",
            " 15  gross income             1000 non-null   float64\n",
            " 16  Rating                   1000 non-null   float64\n",
            "dtypes: float64(7), int64(1), object(9)\n",
            "memory usage: 132.9+ KB\n"
          ]
        }
      ]
    },
    {
      "cell_type": "code",
      "source": [
        "SW_sales.isna().sum()"
      ],
      "metadata": {
        "colab": {
          "base_uri": "https://localhost:8080/"
        },
        "id": "rH_CPU9ZP5qZ",
        "outputId": "4c71fb4a-04a4-4575-da61-59bda14efa36"
      },
      "execution_count": null,
      "outputs": [
        {
          "output_type": "execute_result",
          "data": {
            "text/plain": [
              "Invoice ID                 0\n",
              "Branch                     0\n",
              "City                       0\n",
              "Customer type              0\n",
              "Gender                     0\n",
              "Product line               0\n",
              "Unit price                 0\n",
              "Quantity                   0\n",
              "Tax 5%                     0\n",
              "Total                      0\n",
              "Date                       0\n",
              "Time                       0\n",
              "Payment                    0\n",
              "cogs                       0\n",
              "gross margin percentage    0\n",
              "gross income               0\n",
              "Rating                     0\n",
              "dtype: int64"
            ]
          },
          "metadata": {},
          "execution_count": 32
        }
      ]
    },
    {
      "cell_type": "code",
      "source": [
        "SW_sales.columns"
      ],
      "metadata": {
        "colab": {
          "base_uri": "https://localhost:8080/"
        },
        "id": "1iZfVXnpbU3W",
        "outputId": "16ab143c-91dd-437f-d2dd-20f58ce43ee1"
      },
      "execution_count": null,
      "outputs": [
        {
          "output_type": "execute_result",
          "data": {
            "text/plain": [
              "Index(['Invoice ID', 'Branch', 'City', 'Customer type', 'Gender',\n",
              "       'Product line', 'Unit price', 'Quantity', 'Tax 5%', 'Total', 'Date',\n",
              "       'Time', 'Payment', 'cogs', 'gross margin percentage', 'gross income',\n",
              "       'Rating'],\n",
              "      dtype='object')"
            ]
          },
          "metadata": {},
          "execution_count": 33
        }
      ]
    },
    {
      "cell_type": "code",
      "source": [
        "SW_sales.drop('Invoice ID', axis=1, inplace=True)\n",
        "#This is done now for excusion it's showing error because once dropped a column with inplace it can't be retrived.\n",
        "SW_sales.Date=pd.to_datetime(SW_sales.Date)\n",
        "SW_sales.insert(10,'year',SW_sales.Date.dt.year)\n",
        "SW_sales.insert(11,'month',SW_sales.Date.dt.month)"
      ],
      "metadata": {
        "id": "wIPrdntkcnuP"
      },
      "execution_count": 50,
      "outputs": []
    },
    {
      "cell_type": "code",
      "source": [
        "SW_sales.head(2)"
      ],
      "metadata": {
        "colab": {
          "base_uri": "https://localhost:8080/",
          "height": 208
        },
        "id": "5oLKIFXb_0Ex",
        "outputId": "f128a3a0-03a5-434e-a3a8-c0ab3d4f46ba"
      },
      "execution_count": null,
      "outputs": [
        {
          "output_type": "execute_result",
          "data": {
            "text/plain": [
              "  Branch       City Customer type  Gender            Product line  Unit price  \\\n",
              "0      A     Yangon        Member  Female       Health and beauty       74.69   \n",
              "1      C  Naypyitaw        Normal  Female  Electronic accessories       15.28   \n",
              "\n",
              "   Quantity   Tax 5%     Total       Date  year  month   Time  Payment  \\\n",
              "0         7  26.1415  548.9715 2019-01-05  2019      1  13:08  Ewallet   \n",
              "1         5   3.8200   80.2200 2019-03-08  2019      3  10:29     Cash   \n",
              "\n",
              "     cogs  gross margin percentage  gross income  Rating  \n",
              "0  522.83                 4.761905       26.1415     9.1  \n",
              "1   76.40                 4.761905        3.8200     9.6  "
            ],
            "text/html": [
              "\n",
              "  <div id=\"df-caf35128-0fef-4608-80aa-c0fa732aeaac\">\n",
              "    <div class=\"colab-df-container\">\n",
              "      <div>\n",
              "<style scoped>\n",
              "    .dataframe tbody tr th:only-of-type {\n",
              "        vertical-align: middle;\n",
              "    }\n",
              "\n",
              "    .dataframe tbody tr th {\n",
              "        vertical-align: top;\n",
              "    }\n",
              "\n",
              "    .dataframe thead th {\n",
              "        text-align: right;\n",
              "    }\n",
              "</style>\n",
              "<table border=\"1\" class=\"dataframe\">\n",
              "  <thead>\n",
              "    <tr style=\"text-align: right;\">\n",
              "      <th></th>\n",
              "      <th>Branch</th>\n",
              "      <th>City</th>\n",
              "      <th>Customer type</th>\n",
              "      <th>Gender</th>\n",
              "      <th>Product line</th>\n",
              "      <th>Unit price</th>\n",
              "      <th>Quantity</th>\n",
              "      <th>Tax 5%</th>\n",
              "      <th>Total</th>\n",
              "      <th>Date</th>\n",
              "      <th>year</th>\n",
              "      <th>month</th>\n",
              "      <th>Time</th>\n",
              "      <th>Payment</th>\n",
              "      <th>cogs</th>\n",
              "      <th>gross margin percentage</th>\n",
              "      <th>gross income</th>\n",
              "      <th>Rating</th>\n",
              "    </tr>\n",
              "  </thead>\n",
              "  <tbody>\n",
              "    <tr>\n",
              "      <th>0</th>\n",
              "      <td>A</td>\n",
              "      <td>Yangon</td>\n",
              "      <td>Member</td>\n",
              "      <td>Female</td>\n",
              "      <td>Health and beauty</td>\n",
              "      <td>74.69</td>\n",
              "      <td>7</td>\n",
              "      <td>26.1415</td>\n",
              "      <td>548.9715</td>\n",
              "      <td>2019-01-05</td>\n",
              "      <td>2019</td>\n",
              "      <td>1</td>\n",
              "      <td>13:08</td>\n",
              "      <td>Ewallet</td>\n",
              "      <td>522.83</td>\n",
              "      <td>4.761905</td>\n",
              "      <td>26.1415</td>\n",
              "      <td>9.1</td>\n",
              "    </tr>\n",
              "    <tr>\n",
              "      <th>1</th>\n",
              "      <td>C</td>\n",
              "      <td>Naypyitaw</td>\n",
              "      <td>Normal</td>\n",
              "      <td>Female</td>\n",
              "      <td>Electronic accessories</td>\n",
              "      <td>15.28</td>\n",
              "      <td>5</td>\n",
              "      <td>3.8200</td>\n",
              "      <td>80.2200</td>\n",
              "      <td>2019-03-08</td>\n",
              "      <td>2019</td>\n",
              "      <td>3</td>\n",
              "      <td>10:29</td>\n",
              "      <td>Cash</td>\n",
              "      <td>76.40</td>\n",
              "      <td>4.761905</td>\n",
              "      <td>3.8200</td>\n",
              "      <td>9.6</td>\n",
              "    </tr>\n",
              "  </tbody>\n",
              "</table>\n",
              "</div>\n",
              "      <button class=\"colab-df-convert\" onclick=\"convertToInteractive('df-caf35128-0fef-4608-80aa-c0fa732aeaac')\"\n",
              "              title=\"Convert this dataframe to an interactive table.\"\n",
              "              style=\"display:none;\">\n",
              "        \n",
              "  <svg xmlns=\"http://www.w3.org/2000/svg\" height=\"24px\"viewBox=\"0 0 24 24\"\n",
              "       width=\"24px\">\n",
              "    <path d=\"M0 0h24v24H0V0z\" fill=\"none\"/>\n",
              "    <path d=\"M18.56 5.44l.94 2.06.94-2.06 2.06-.94-2.06-.94-.94-2.06-.94 2.06-2.06.94zm-11 1L8.5 8.5l.94-2.06 2.06-.94-2.06-.94L8.5 2.5l-.94 2.06-2.06.94zm10 10l.94 2.06.94-2.06 2.06-.94-2.06-.94-.94-2.06-.94 2.06-2.06.94z\"/><path d=\"M17.41 7.96l-1.37-1.37c-.4-.4-.92-.59-1.43-.59-.52 0-1.04.2-1.43.59L10.3 9.45l-7.72 7.72c-.78.78-.78 2.05 0 2.83L4 21.41c.39.39.9.59 1.41.59.51 0 1.02-.2 1.41-.59l7.78-7.78 2.81-2.81c.8-.78.8-2.07 0-2.86zM5.41 20L4 18.59l7.72-7.72 1.47 1.35L5.41 20z\"/>\n",
              "  </svg>\n",
              "      </button>\n",
              "      \n",
              "  <style>\n",
              "    .colab-df-container {\n",
              "      display:flex;\n",
              "      flex-wrap:wrap;\n",
              "      gap: 12px;\n",
              "    }\n",
              "\n",
              "    .colab-df-convert {\n",
              "      background-color: #E8F0FE;\n",
              "      border: none;\n",
              "      border-radius: 50%;\n",
              "      cursor: pointer;\n",
              "      display: none;\n",
              "      fill: #1967D2;\n",
              "      height: 32px;\n",
              "      padding: 0 0 0 0;\n",
              "      width: 32px;\n",
              "    }\n",
              "\n",
              "    .colab-df-convert:hover {\n",
              "      background-color: #E2EBFA;\n",
              "      box-shadow: 0px 1px 2px rgba(60, 64, 67, 0.3), 0px 1px 3px 1px rgba(60, 64, 67, 0.15);\n",
              "      fill: #174EA6;\n",
              "    }\n",
              "\n",
              "    [theme=dark] .colab-df-convert {\n",
              "      background-color: #3B4455;\n",
              "      fill: #D2E3FC;\n",
              "    }\n",
              "\n",
              "    [theme=dark] .colab-df-convert:hover {\n",
              "      background-color: #434B5C;\n",
              "      box-shadow: 0px 1px 3px 1px rgba(0, 0, 0, 0.15);\n",
              "      filter: drop-shadow(0px 1px 2px rgba(0, 0, 0, 0.3));\n",
              "      fill: #FFFFFF;\n",
              "    }\n",
              "  </style>\n",
              "\n",
              "      <script>\n",
              "        const buttonEl =\n",
              "          document.querySelector('#df-caf35128-0fef-4608-80aa-c0fa732aeaac button.colab-df-convert');\n",
              "        buttonEl.style.display =\n",
              "          google.colab.kernel.accessAllowed ? 'block' : 'none';\n",
              "\n",
              "        async function convertToInteractive(key) {\n",
              "          const element = document.querySelector('#df-caf35128-0fef-4608-80aa-c0fa732aeaac');\n",
              "          const dataTable =\n",
              "            await google.colab.kernel.invokeFunction('convertToInteractive',\n",
              "                                                     [key], {});\n",
              "          if (!dataTable) return;\n",
              "\n",
              "          const docLinkHtml = 'Like what you see? Visit the ' +\n",
              "            '<a target=\"_blank\" href=https://colab.research.google.com/notebooks/data_table.ipynb>data table notebook</a>'\n",
              "            + ' to learn more about interactive tables.';\n",
              "          element.innerHTML = '';\n",
              "          dataTable['output_type'] = 'display_data';\n",
              "          await google.colab.output.renderOutput(dataTable, element);\n",
              "          const docLink = document.createElement('div');\n",
              "          docLink.innerHTML = docLinkHtml;\n",
              "          element.appendChild(docLink);\n",
              "        }\n",
              "      </script>\n",
              "    </div>\n",
              "  </div>\n",
              "  "
            ]
          },
          "metadata": {},
          "execution_count": 12
        }
      ]
    },
    {
      "cell_type": "code",
      "source": [
        "print('unique years :',SW_sales.year.unique())\n",
        "print('unique months :',SW_sales.month.unique())"
      ],
      "metadata": {
        "colab": {
          "base_uri": "https://localhost:8080/"
        },
        "id": "mvLZGhrYA6EV",
        "outputId": "178661e3-5159-4510-bc2c-6eebc4611601"
      },
      "execution_count": null,
      "outputs": [
        {
          "output_type": "stream",
          "name": "stdout",
          "text": [
            "unique years : [2019]\n",
            "unique months : [1 3 2]\n"
          ]
        }
      ]
    },
    {
      "cell_type": "code",
      "source": [
        "SW_sales.drop('year', axis=1, inplace=True)\n",
        "SW_sales.head(2)"
      ],
      "metadata": {
        "colab": {
          "base_uri": "https://localhost:8080/",
          "height": 208
        },
        "id": "Exeh-dXJBSS9",
        "outputId": "1b154423-8b42-46ba-e3f2-5ead34284e83"
      },
      "execution_count": 51,
      "outputs": [
        {
          "output_type": "execute_result",
          "data": {
            "text/plain": [
              "  Branch       City Customer type  Gender            Product line  Unit price  \\\n",
              "0      A     Yangon        Member  Female       Health and beauty       74.69   \n",
              "1      C  Naypyitaw        Normal  Female  Electronic accessories       15.28   \n",
              "\n",
              "   Quantity   Tax 5%     Total       Date  month   Time  Payment    cogs  \\\n",
              "0         7  26.1415  548.9715 2019-01-05      1  13:08  Ewallet  522.83   \n",
              "1         5   3.8200   80.2200 2019-03-08      3  10:29     Cash   76.40   \n",
              "\n",
              "   gross margin percentage  gross income  Rating  \n",
              "0                 4.761905       26.1415     9.1  \n",
              "1                 4.761905        3.8200     9.6  "
            ],
            "text/html": [
              "\n",
              "  <div id=\"df-cb9154b7-c893-4898-bd36-ef92ae746539\">\n",
              "    <div class=\"colab-df-container\">\n",
              "      <div>\n",
              "<style scoped>\n",
              "    .dataframe tbody tr th:only-of-type {\n",
              "        vertical-align: middle;\n",
              "    }\n",
              "\n",
              "    .dataframe tbody tr th {\n",
              "        vertical-align: top;\n",
              "    }\n",
              "\n",
              "    .dataframe thead th {\n",
              "        text-align: right;\n",
              "    }\n",
              "</style>\n",
              "<table border=\"1\" class=\"dataframe\">\n",
              "  <thead>\n",
              "    <tr style=\"text-align: right;\">\n",
              "      <th></th>\n",
              "      <th>Branch</th>\n",
              "      <th>City</th>\n",
              "      <th>Customer type</th>\n",
              "      <th>Gender</th>\n",
              "      <th>Product line</th>\n",
              "      <th>Unit price</th>\n",
              "      <th>Quantity</th>\n",
              "      <th>Tax 5%</th>\n",
              "      <th>Total</th>\n",
              "      <th>Date</th>\n",
              "      <th>month</th>\n",
              "      <th>Time</th>\n",
              "      <th>Payment</th>\n",
              "      <th>cogs</th>\n",
              "      <th>gross margin percentage</th>\n",
              "      <th>gross income</th>\n",
              "      <th>Rating</th>\n",
              "    </tr>\n",
              "  </thead>\n",
              "  <tbody>\n",
              "    <tr>\n",
              "      <th>0</th>\n",
              "      <td>A</td>\n",
              "      <td>Yangon</td>\n",
              "      <td>Member</td>\n",
              "      <td>Female</td>\n",
              "      <td>Health and beauty</td>\n",
              "      <td>74.69</td>\n",
              "      <td>7</td>\n",
              "      <td>26.1415</td>\n",
              "      <td>548.9715</td>\n",
              "      <td>2019-01-05</td>\n",
              "      <td>1</td>\n",
              "      <td>13:08</td>\n",
              "      <td>Ewallet</td>\n",
              "      <td>522.83</td>\n",
              "      <td>4.761905</td>\n",
              "      <td>26.1415</td>\n",
              "      <td>9.1</td>\n",
              "    </tr>\n",
              "    <tr>\n",
              "      <th>1</th>\n",
              "      <td>C</td>\n",
              "      <td>Naypyitaw</td>\n",
              "      <td>Normal</td>\n",
              "      <td>Female</td>\n",
              "      <td>Electronic accessories</td>\n",
              "      <td>15.28</td>\n",
              "      <td>5</td>\n",
              "      <td>3.8200</td>\n",
              "      <td>80.2200</td>\n",
              "      <td>2019-03-08</td>\n",
              "      <td>3</td>\n",
              "      <td>10:29</td>\n",
              "      <td>Cash</td>\n",
              "      <td>76.40</td>\n",
              "      <td>4.761905</td>\n",
              "      <td>3.8200</td>\n",
              "      <td>9.6</td>\n",
              "    </tr>\n",
              "  </tbody>\n",
              "</table>\n",
              "</div>\n",
              "      <button class=\"colab-df-convert\" onclick=\"convertToInteractive('df-cb9154b7-c893-4898-bd36-ef92ae746539')\"\n",
              "              title=\"Convert this dataframe to an interactive table.\"\n",
              "              style=\"display:none;\">\n",
              "        \n",
              "  <svg xmlns=\"http://www.w3.org/2000/svg\" height=\"24px\"viewBox=\"0 0 24 24\"\n",
              "       width=\"24px\">\n",
              "    <path d=\"M0 0h24v24H0V0z\" fill=\"none\"/>\n",
              "    <path d=\"M18.56 5.44l.94 2.06.94-2.06 2.06-.94-2.06-.94-.94-2.06-.94 2.06-2.06.94zm-11 1L8.5 8.5l.94-2.06 2.06-.94-2.06-.94L8.5 2.5l-.94 2.06-2.06.94zm10 10l.94 2.06.94-2.06 2.06-.94-2.06-.94-.94-2.06-.94 2.06-2.06.94z\"/><path d=\"M17.41 7.96l-1.37-1.37c-.4-.4-.92-.59-1.43-.59-.52 0-1.04.2-1.43.59L10.3 9.45l-7.72 7.72c-.78.78-.78 2.05 0 2.83L4 21.41c.39.39.9.59 1.41.59.51 0 1.02-.2 1.41-.59l7.78-7.78 2.81-2.81c.8-.78.8-2.07 0-2.86zM5.41 20L4 18.59l7.72-7.72 1.47 1.35L5.41 20z\"/>\n",
              "  </svg>\n",
              "      </button>\n",
              "      \n",
              "  <style>\n",
              "    .colab-df-container {\n",
              "      display:flex;\n",
              "      flex-wrap:wrap;\n",
              "      gap: 12px;\n",
              "    }\n",
              "\n",
              "    .colab-df-convert {\n",
              "      background-color: #E8F0FE;\n",
              "      border: none;\n",
              "      border-radius: 50%;\n",
              "      cursor: pointer;\n",
              "      display: none;\n",
              "      fill: #1967D2;\n",
              "      height: 32px;\n",
              "      padding: 0 0 0 0;\n",
              "      width: 32px;\n",
              "    }\n",
              "\n",
              "    .colab-df-convert:hover {\n",
              "      background-color: #E2EBFA;\n",
              "      box-shadow: 0px 1px 2px rgba(60, 64, 67, 0.3), 0px 1px 3px 1px rgba(60, 64, 67, 0.15);\n",
              "      fill: #174EA6;\n",
              "    }\n",
              "\n",
              "    [theme=dark] .colab-df-convert {\n",
              "      background-color: #3B4455;\n",
              "      fill: #D2E3FC;\n",
              "    }\n",
              "\n",
              "    [theme=dark] .colab-df-convert:hover {\n",
              "      background-color: #434B5C;\n",
              "      box-shadow: 0px 1px 3px 1px rgba(0, 0, 0, 0.15);\n",
              "      filter: drop-shadow(0px 1px 2px rgba(0, 0, 0, 0.3));\n",
              "      fill: #FFFFFF;\n",
              "    }\n",
              "  </style>\n",
              "\n",
              "      <script>\n",
              "        const buttonEl =\n",
              "          document.querySelector('#df-cb9154b7-c893-4898-bd36-ef92ae746539 button.colab-df-convert');\n",
              "        buttonEl.style.display =\n",
              "          google.colab.kernel.accessAllowed ? 'block' : 'none';\n",
              "\n",
              "        async function convertToInteractive(key) {\n",
              "          const element = document.querySelector('#df-cb9154b7-c893-4898-bd36-ef92ae746539');\n",
              "          const dataTable =\n",
              "            await google.colab.kernel.invokeFunction('convertToInteractive',\n",
              "                                                     [key], {});\n",
              "          if (!dataTable) return;\n",
              "\n",
              "          const docLinkHtml = 'Like what you see? Visit the ' +\n",
              "            '<a target=\"_blank\" href=https://colab.research.google.com/notebooks/data_table.ipynb>data table notebook</a>'\n",
              "            + ' to learn more about interactive tables.';\n",
              "          element.innerHTML = '';\n",
              "          dataTable['output_type'] = 'display_data';\n",
              "          await google.colab.output.renderOutput(dataTable, element);\n",
              "          const docLink = document.createElement('div');\n",
              "          docLink.innerHTML = docLinkHtml;\n",
              "          element.appendChild(docLink);\n",
              "        }\n",
              "      </script>\n",
              "    </div>\n",
              "  </div>\n",
              "  "
            ]
          },
          "metadata": {},
          "execution_count": 51
        }
      ]
    },
    {
      "cell_type": "code",
      "source": [
        "SW_sales['Branch'].value_counts()"
      ],
      "metadata": {
        "colab": {
          "base_uri": "https://localhost:8080/"
        },
        "id": "EhQMv8O6UaGk",
        "outputId": "0a5ce1b8-e0a5-447a-8d19-c9756d948eae"
      },
      "execution_count": null,
      "outputs": [
        {
          "output_type": "execute_result",
          "data": {
            "text/plain": [
              "A    340\n",
              "B    332\n",
              "C    328\n",
              "Name: Branch, dtype: int64"
            ]
          },
          "metadata": {},
          "execution_count": 5
        }
      ]
    },
    {
      "cell_type": "code",
      "source": [
        "plt.figure(figsize=(15,4))\n",
        "sb.countplot(x='Branch',data=SW_sales)"
      ],
      "metadata": {
        "colab": {
          "base_uri": "https://localhost:8080/",
          "height": 297
        },
        "id": "oRHtkiE_Vko8",
        "outputId": "6e91a03e-d668-47bf-b0a2-e39b6beabb33"
      },
      "execution_count": null,
      "outputs": [
        {
          "output_type": "execute_result",
          "data": {
            "text/plain": [
              "<AxesSubplot:xlabel='Branch', ylabel='count'>"
            ]
          },
          "metadata": {},
          "execution_count": 11
        },
        {
          "output_type": "display_data",
          "data": {
            "text/plain": [
              "<Figure size 1080x288 with 1 Axes>"
            ],
            "image/png": "[encoded data removed]"
          },
          "metadata": {
            "needs_background": "light"
          }
        }
      ]
    },
    {
      "cell_type": "markdown",
      "source": [
        "Observation:\n",
        "There are 3 branches in the data, and sales are highest at branch A, with a frequency of 340 times. Followed by branch B with a frequency of 332 times and  branch C with a frequency of 328 times.\n",
        "All three branches have nearly the same presence in the dataset."
      ],
      "metadata": {
        "id": "7awpdlDtWrO0"
      }
    },
    {
      "cell_type": "code",
      "source": [
        "SW_sales[\"City\"].value_counts().plot.pie(title='Cities count')"
      ],
      "metadata": {
        "colab": {
          "base_uri": "https://localhost:8080/",
          "height": 282
        },
        "id": "nBN1Vr5BX-kH",
        "outputId": "9165382b-1afc-46bc-ff01-703f3209ae9c"
      },
      "execution_count": null,
      "outputs": [
        {
          "output_type": "execute_result",
          "data": {
            "text/plain": [
              "<AxesSubplot:title={'center':'Cities count'}, ylabel='City'>"
            ]
          },
          "metadata": {},
          "execution_count": 12
        },
        {
          "output_type": "display_data",
          "data": {
            "text/plain": [
              "<Figure size 432x288 with 1 Axes>"
            ],
            "image/png": "[encoded data removed]"
          },
          "metadata": {}
        }
      ]
    },
    {
      "cell_type": "code",
      "source": [
        "SW_sales.groupby('City')['Branch'].value_counts()\n",
        "SW_sales.groupby('City')['Branch'].value_counts().plot.barh(color='black',alpha=0.4,title='Each city with branch count')"
      ],
      "metadata": {
        "colab": {
          "base_uri": "https://localhost:8080/",
          "height": 299
        },
        "id": "0K5gUbdQYyhf",
        "outputId": "cddf281d-f011-4e93-9ce4-201754ca5d32"
      },
      "execution_count": null,
      "outputs": [
        {
          "output_type": "execute_result",
          "data": {
            "text/plain": [
              "<AxesSubplot:title={'center':'Each city with branch count'}, ylabel='City,Branch'>"
            ]
          },
          "metadata": {},
          "execution_count": 15
        },
        {
          "output_type": "display_data",
          "data": {
            "text/plain": [
              "<Figure size 432x288 with 1 Axes>"
            ],
            "image/png": "[encoded data removed]"
          },
          "metadata": {
            "needs_background": "light"
          }
        }
      ]
    },
    {
      "cell_type": "code",
      "source": [
        "SW_sales['Customer type'].value_counts()\n",
        "SW_sales['Customer type'].value_counts().plot.bar(color='brown',alpha=0.5,title='Customer type count')"
      ],
      "metadata": {
        "colab": {
          "base_uri": "https://localhost:8080/",
          "height": 330
        },
        "id": "VckxRU-aaRp1",
        "outputId": "1fc5dd15-df8c-4440-af1a-0d4151e5d218"
      },
      "execution_count": null,
      "outputs": [
        {
          "output_type": "execute_result",
          "data": {
            "text/plain": [
              "<AxesSubplot:title={'center':'Customer type count'}>"
            ]
          },
          "metadata": {},
          "execution_count": 17
        },
        {
          "output_type": "display_data",
          "data": {
            "text/plain": [
              "<Figure size 432x288 with 1 Axes>"
            ],
            "image/png": "[encoded data removed]"
          },
          "metadata": {
            "needs_background": "light"
          }
        }
      ]
    },
    {
      "cell_type": "code",
      "source": [
        "label=SW_sales['Gender'].unique()\n",
        "values=SW_sales['Gender'].value_counts().values\n",
        "plt.pie(values,autopct='%1.1f%%',labels=label)\n",
        "plt.legend()\n",
        "centre_circle = plt.Circle((0, 0), 0.70, fc='grey')\n",
        "fig = plt.gcf()\n",
        "fig.gca().add_artist(centre_circle)\n",
        "plt.title('Males VS Females')"
      ],
      "metadata": {
        "colab": {
          "base_uri": "https://localhost:8080/",
          "height": 282
        },
        "id": "Z-mwWEBMaoxG",
        "outputId": "c238fe42-cd39-4788-ff9d-42758d64f6a8"
      },
      "execution_count": null,
      "outputs": [
        {
          "output_type": "execute_result",
          "data": {
            "text/plain": [
              "Text(0.5, 1.0, 'Males VS Females')"
            ]
          },
          "metadata": {},
          "execution_count": 19
        },
        {
          "output_type": "display_data",
          "data": {
            "text/plain": [
              "<Figure size 432x288 with 1 Axes>"
            ],
            "image/png": "[encoded data removed]"
          },
          "metadata": {}
        }
      ]
    },
    {
      "cell_type": "code",
      "source": [
        "SW_sales.groupby('Gender')[\"Customer type\"].value_counts()\n",
        "sb.countplot(x='Gender',hue='Customer type',data=SW_sales)\n",
        "plt.title('Gender with customer type ')"
      ],
      "metadata": {
        "colab": {
          "base_uri": "https://localhost:8080/",
          "height": 313
        },
        "id": "qw4x5E5xa4aj",
        "outputId": "2d221084-fc16-4e97-e7a4-645de991dfdd"
      },
      "execution_count": null,
      "outputs": [
        {
          "output_type": "execute_result",
          "data": {
            "text/plain": [
              "Text(0.5, 1.0, 'Gender with customer type ')"
            ]
          },
          "metadata": {},
          "execution_count": 21
        },
        {
          "output_type": "display_data",
          "data": {
            "text/plain": [
              "<Figure size 432x288 with 1 Axes>"
            ],
            "image/png": "[encoded data removed]"
          },
          "metadata": {
            "needs_background": "light"
          }
        }
      ]
    },
    {
      "cell_type": "markdown",
      "source": [
        "The relationship between the gender and the customer type can be seen through this plot.\n",
        "For females, the number is greater in Member than Normal in customer type.\n",
        "For males, the number is greater in Normal than in Member in customer type"
      ],
      "metadata": {
        "id": "S6pirZL2bXH7"
      }
    },
    {
      "cell_type": "code",
      "source": [
        "figure=px.box(SW_sales,x='Product line',color='Product line',y='Unit price',template='plotly_dark',title='Product line with Unit price')\n",
        "figure.show()"
      ],
      "metadata": {
        "colab": {
          "base_uri": "https://localhost:8080/",
          "height": 542
        },
        "id": "SycQ3J92bjmN",
        "outputId": "275a0eec-1c80-4e94-cd59-3e9356c806f7"
      },
      "execution_count": null,
      "outputs": [
        {
          "output_type": "display_data",
          "data": {
            "text/html": [
              "<html>\n",
              "<head><meta charset=\"utf-8\" /></head>\n",
              "<body>\n",
              "    <div>            <script src=\"https://cdnjs.cloudflare.com/ajax/libs/mathjax/2.7.5/MathJax.js?config=TeX-AMS-MML_SVG\"></script><script type=\"text/javascript\">if (window.MathJax) {MathJax.Hub.Config({SVG: {font: \"STIX-Web\"}});}</script>                <script type=\"text/javascript\">window.PlotlyConfig = {MathJaxConfig: 'local'};</script>\n",
              "        <script src=\"https://cdn.plot.ly/plotly-2.8.3.min.js\"></script>                <div id=\"3e1a6827-34a0-41c2-b195-0452a3609b39\" class=\"plotly-graph-div\" style=\"height:525px; width:100%;\"></div>            <script type=\"text/javascript\">                                    window.PLOTLYENV=window.PLOTLYENV || {};                                    if (document.getElementById(\"3e1a6827-34a0-41c2-b195-0452a3609b39\")) {                    Plotly.newPlot(                        \"3e1a6827-34a0-41c2-b195-0452a3609b39\",                        [{\"alignmentgroup\":\"True\",\"hovertemplate\":\"Product line=%{x}<br>Unit price=%{y}<extra></extra>\",\"legendgroup\":\"Health and beauty\",\"marker\":{\"color\":\"#636efa\"},\"name\":\"Health and beauty\",\"notched\":false,\"offsetgroup\":\"Health and beauty\",\"orientation\":\"v\",\"showlegend\":true,\"x\":[\"Health and beauty\",\"Health and beauty\",\"Health and beauty\",\"Health and beauty\",\"Health and beauty\",\"Health and beauty\",\"Health and beauty\",\"Health and beauty\",\"Health and beauty\",\"Health and beauty\",\"Health and beauty\",\"Health and beauty\",\"Health and beauty\",\"Health and beauty\",\"Health and beauty\",\"Health and beauty\",\"Health and beauty\",\"Health and beauty\",\"Health and beauty\",\"Health and beauty\",\"Health and beauty\",\"Health and beauty\",\"Health and beauty\",\"Health and beauty\",\"Health and beauty\",\"Health and beauty\",\"Health and beauty\",\"Health and beauty\",\"Health and beauty\",\"Health and beauty\",\"Health and beauty\",\"Health and beauty\",\"Health and beauty\",\"Health and beauty\",\"Health and beauty\",\"Health and beauty\",\"Health and beauty\",\"Health and beauty\",\"Health and beauty\",\"Health and beauty\",\"Health and beauty\",\"Health and beauty\",\"Health and beauty\",\"Health and beauty\",\"Health and beauty\",\"Health and beauty\",\"Health and beauty\",\"Health and beauty\",\"Health and beauty\",\"Health and beauty\",\"Health and beauty\",\"Health and beauty\",\"Health and beauty\",\"Health and beauty\",\"Health and beauty\",\"Health and beauty\",\"Health and beauty\",\"Health and beauty\",\"Health and beauty\",\"Health and beauty\",\"Health and beauty\",\"Health and beauty\",\"Health and beauty\",\"Health and beauty\",\"Health and beauty\",\"Health and beauty\",\"Health and beauty\",\"Health and beauty\",\"Health and beauty\",\"Health and beauty\",\"Health and beauty\",\"Health and beauty\",\"Health and beauty\",\"Health and beauty\",\"Health and beauty\",\"Health and beauty\",\"Health and beauty\",\"Health and beauty\",\"Health and beauty\",\"Health and beauty\",\"Health and beauty\",\"Health and beauty\",\"Health and beauty\",\"Health and beauty\",\"Health and beauty\",\"Health and beauty\",\"Health and beauty\",\"Health and beauty\",\"Health and beauty\",\"Health and beauty\",\"Health and beauty\",\"Health and beauty\",\"Health and beauty\",\"Health and beauty\",\"Health and beauty\",\"Health and beauty\",\"Health and beauty\",\"Health and beauty\",\"Health and beauty\",\"Health and beauty\",\"Health and beauty\",\"Health and beauty\",\"Health and beauty\",\"Health and beauty\",\"Health and beauty\",\"Health and beauty\",\"Health and beauty\",\"Health and beauty\",\"Health and beauty\",\"Health and beauty\",\"Health and beauty\",\"Health and beauty\",\"Health and beauty\",\"Health and beauty\",\"Health and beauty\",\"Health and beauty\",\"Health and beauty\",\"Health and beauty\",\"Health and beauty\",\"Health and beauty\",\"Health and beauty\",\"Health and beauty\",\"Health and beauty\",\"Health and beauty\",\"Health and beauty\",\"Health and beauty\",\"Health and beauty\",\"Health and beauty\",\"Health and beauty\",\"Health and beauty\",\"Health and beauty\",\"Health and beauty\",\"Health and beauty\",\"Health and beauty\",\"Health and beauty\",\"Health and beauty\",\"Health and beauty\",\"Health and beauty\",\"Health and beauty\",\"Health and beauty\",\"Health and beauty\",\"Health and beauty\",\"Health and beauty\",\"Health and beauty\",\"Health and beauty\",\"Health and beauty\",\"Health and beauty\",\"Health and beauty\",\"Health and beauty\",\"Health and beauty\",\"Health and beauty\",\"Health and beauty\"],\"x0\":\" \",\"xaxis\":\"x\",\"y\":[74.69,58.22,36.26,71.38,68.93,87.98,24.89,96.58,54.92,15.37,56.69,89.6,75.74,15.87,33.47,18.33,20.38,99.19,76.99,64.36,89.75,87.87,30.35,98.21,81.3,90.5,68.6,46.26,66.14,32.46,97.22,42.57,70.01,86.8,34.31,43.7,41.5,25.9,23.03,69.37,84.09,51.94,17.41,59.77,21.12,99.71,99.83,47.67,66.68,18.11,39.01,15.55,29.67,44.07,39.42,15.26,51.13,55.97,76.9,13.5,32.32,79.74,77.5,41.06,34.21,20.97,96.11,81.51,57.22,53.17,19.15,27.07,25.0,37.15,72.57,65.18,25.32,61.29,54.86,62.87,25.43,75.88,58.24,64.27,69.51,77.68,51.71,14.62,46.53,14.82,82.58,66.47,28.95,70.21,55.81,17.97,47.71,73.41,33.64,58.95,48.63,80.47,71.77,13.85,35.68,28.5,56.0,81.95,81.23,10.69,55.5,85.87,65.31,21.8,10.16,10.99,60.47,68.55,92.78,17.75,10.75,96.16,68.71,72.11,62.57,91.3,53.19,95.95,57.59,33.81,62.82,83.66,99.16,85.6,27.73,58.32,84.61,82.88,39.62,64.08,78.89,92.09,50.79,10.08,39.91,15.8,58.15,99.96,14.76,62.0,75.37,40.35],\"y0\":\" \",\"yaxis\":\"y\",\"type\":\"box\"},{\"alignmentgroup\":\"True\",\"hovertemplate\":\"Product line=%{x}<br>Unit price=%{y}<extra></extra>\",\"legendgroup\":\"Electronic accessories\",\"marker\":{\"color\":\"#EF553B\"},\"name\":\"Electronic accessories\",\"notched\":false,\"offsetgroup\":\"Electronic accessories\",\"orientation\":\"v\",\"showlegend\":true,\"x\":[\"Electronic accessories\",\"Electronic accessories\",\"Electronic accessories\",\"Electronic accessories\",\"Electronic accessories\",\"Electronic accessories\",\"Electronic accessories\",\"Electronic accessories\",\"Electronic accessories\",\"Electronic accessories\",\"Electronic accessories\",\"Electronic accessories\",\"Electronic accessories\",\"Electronic accessories\",\"Electronic accessories\",\"Electronic accessories\",\"Electronic accessories\",\"Electronic accessories\",\"Electronic accessories\",\"Electronic accessories\",\"Electronic accessories\",\"Electronic accessories\",\"Electronic accessories\",\"Electronic accessories\",\"Electronic accessories\",\"Electronic accessories\",\"Electronic accessories\",\"Electronic accessories\",\"Electronic accessories\",\"Electronic accessories\",\"Electronic accessories\",\"Electronic accessories\",\"Electronic accessories\",\"Electronic accessories\",\"Electronic accessories\",\"Electronic accessories\",\"Electronic accessories\",\"Electronic accessories\",\"Electronic accessories\",\"Electronic accessories\",\"Electronic accessories\",\"Electronic accessories\",\"Electronic accessories\",\"Electronic accessories\",\"Electronic accessories\",\"Electronic accessories\",\"Electronic accessories\",\"Electronic accessories\",\"Electronic accessories\",\"Electronic accessories\",\"Electronic accessories\",\"Electronic accessories\",\"Electronic accessories\",\"Electronic accessories\",\"Electronic accessories\",\"Electronic accessories\",\"Electronic accessories\",\"Electronic accessories\",\"Electronic accessories\",\"Electronic accessories\",\"Electronic accessories\",\"Electronic accessories\",\"Electronic accessories\",\"Electronic accessories\",\"Electronic accessories\",\"Electronic accessories\",\"Electronic accessories\",\"Electronic accessories\",\"Electronic accessories\",\"Electronic accessories\",\"Electronic accessories\",\"Electronic accessories\",\"Electronic accessories\",\"Electronic accessories\",\"Electronic accessories\",\"Electronic accessories\",\"Electronic accessories\",\"Electronic accessories\",\"Electronic accessories\",\"Electronic accessories\",\"Electronic accessories\",\"Electronic accessories\",\"Electronic accessories\",\"Electronic accessories\",\"Electronic accessories\",\"Electronic accessories\",\"Electronic accessories\",\"Electronic accessories\",\"Electronic accessories\",\"Electronic accessories\",\"Electronic accessories\",\"Electronic accessories\",\"Electronic accessories\",\"Electronic accessories\",\"Electronic accessories\",\"Electronic accessories\",\"Electronic accessories\",\"Electronic accessories\",\"Electronic accessories\",\"Electronic accessories\",\"Electronic accessories\",\"Electronic accessories\",\"Electronic accessories\",\"Electronic accessories\",\"Electronic accessories\",\"Electronic accessories\",\"Electronic accessories\",\"Electronic accessories\",\"Electronic accessories\",\"Electronic accessories\",\"Electronic accessories\",\"Electronic accessories\",\"Electronic accessories\",\"Electronic accessories\",\"Electronic accessories\",\"Electronic accessories\",\"Electronic accessories\",\"Electronic accessories\",\"Electronic accessories\",\"Electronic accessories\",\"Electronic accessories\",\"Electronic accessories\",\"Electronic accessories\",\"Electronic accessories\",\"Electronic accessories\",\"Electronic accessories\",\"Electronic accessories\",\"Electronic accessories\",\"Electronic accessories\",\"Electronic accessories\",\"Electronic accessories\",\"Electronic accessories\",\"Electronic accessories\",\"Electronic accessories\",\"Electronic accessories\",\"Electronic accessories\",\"Electronic accessories\",\"Electronic accessories\",\"Electronic accessories\",\"Electronic accessories\",\"Electronic accessories\",\"Electronic accessories\",\"Electronic accessories\",\"Electronic accessories\",\"Electronic accessories\",\"Electronic accessories\",\"Electronic accessories\",\"Electronic accessories\",\"Electronic accessories\",\"Electronic accessories\",\"Electronic accessories\",\"Electronic accessories\",\"Electronic accessories\",\"Electronic accessories\",\"Electronic accessories\",\"Electronic accessories\",\"Electronic accessories\",\"Electronic accessories\",\"Electronic accessories\",\"Electronic accessories\",\"Electronic accessories\",\"Electronic accessories\",\"Electronic accessories\",\"Electronic accessories\",\"Electronic accessories\",\"Electronic accessories\",\"Electronic accessories\",\"Electronic accessories\",\"Electronic accessories\",\"Electronic accessories\"],\"x0\":\" \",\"xaxis\":\"x\",\"y\":[15.28,85.39,68.84,25.51,46.95,86.04,34.56,60.88,93.96,18.93,85.98,30.61,75.91,41.65,97.16,12.45,23.07,88.67,81.97,99.56,87.45,26.31,72.17,20.85,52.89,32.71,57.49,61.41,66.65,99.73,26.23,94.64,45.35,11.81,37.06,90.7,10.59,13.22,81.4,77.72,66.35,32.25,65.94,75.06,40.3,27.85,62.48,51.92,28.84,51.19,14.96,72.2,26.48,78.13,74.79,36.36,28.45,47.65,48.09,71.95,26.02,51.69,30.24,27.5,51.32,21.5,26.26,23.65,26.61,76.82,19.24,25.22,84.05,23.46,40.86,74.71,22.01,20.77,79.39,46.57,98.84,64.44,84.07,38.6,32.8,63.22,24.18,99.55,45.71,22.95,18.77,66.06,22.21,19.32,21.58,42.42,74.51,83.08,28.96,87.91,78.31,46.2,88.55,55.67,12.05,24.74,75.66,15.69,99.69,45.48,39.48,69.58,43.0,77.63,11.94,75.88,58.76,91.56,17.42,35.74,72.13,95.64,87.87,74.58,71.89,92.6,46.61,30.2,75.59,50.23,40.26,95.15,48.62,52.89,64.95,74.22,10.56,55.87,60.3,93.78,73.26,52.79,79.59,21.43,39.75,90.02,12.1,73.47,57.91,28.38,50.45,44.84,56.13,35.49,26.26,13.78,88.25,93.88,84.25,46.02,20.89,96.82,38.27,34.49,87.08,25.45,96.37,82.34,58.03,60.95],\"y0\":\" \",\"yaxis\":\"y\",\"type\":\"box\"},{\"alignmentgroup\":\"True\",\"hovertemplate\":\"Product line=%{x}<br>Unit price=%{y}<extra></extra>\",\"legendgroup\":\"Home and lifestyle\",\"marker\":{\"color\":\"#00cc96\"},\"name\":\"Home and lifestyle\",\"notched\":false,\"offsetgroup\":\"Home and lifestyle\",\"orientation\":\"v\",\"showlegend\":true,\"x\":[\"Home and lifestyle\",\"Home and lifestyle\",\"Home and lifestyle\",\"Home and lifestyle\",\"Home and lifestyle\",\"Home and lifestyle\",\"Home and lifestyle\",\"Home and lifestyle\",\"Home and lifestyle\",\"Home and lifestyle\",\"Home and lifestyle\",\"Home and lifestyle\",\"Home and lifestyle\",\"Home and lifestyle\",\"Home and lifestyle\",\"Home and lifestyle\",\"Home and lifestyle\",\"Home and lifestyle\",\"Home and lifestyle\",\"Home and lifestyle\",\"Home and lifestyle\",\"Home and lifestyle\",\"Home and lifestyle\",\"Home and lifestyle\",\"Home and lifestyle\",\"Home and lifestyle\",\"Home and lifestyle\",\"Home and lifestyle\",\"Home and lifestyle\",\"Home and lifestyle\",\"Home and lifestyle\",\"Home and lifestyle\",\"Home and lifestyle\",\"Home and lifestyle\",\"Home and lifestyle\",\"Home and lifestyle\",\"Home and lifestyle\",\"Home and lifestyle\",\"Home and lifestyle\",\"Home and lifestyle\",\"Home and lifestyle\",\"Home and lifestyle\",\"Home and lifestyle\",\"Home and lifestyle\",\"Home and lifestyle\",\"Home and lifestyle\",\"Home and lifestyle\",\"Home and lifestyle\",\"Home and lifestyle\",\"Home and lifestyle\",\"Home and lifestyle\",\"Home and lifestyle\",\"Home and lifestyle\",\"Home and lifestyle\",\"Home and lifestyle\",\"Home and lifestyle\",\"Home and lifestyle\",\"Home and lifestyle\",\"Home and lifestyle\",\"Home and lifestyle\",\"Home and lifestyle\",\"Home and lifestyle\",\"Home and lifestyle\",\"Home and lifestyle\",\"Home and lifestyle\",\"Home and lifestyle\",\"Home and lifestyle\",\"Home and lifestyle\",\"Home and lifestyle\",\"Home and lifestyle\",\"Home and lifestyle\",\"Home and lifestyle\",\"Home and lifestyle\",\"Home and lifestyle\",\"Home and lifestyle\",\"Home and lifestyle\",\"Home and lifestyle\",\"Home and lifestyle\",\"Home and lifestyle\",\"Home and lifestyle\",\"Home and lifestyle\",\"Home and lifestyle\",\"Home and lifestyle\",\"Home and lifestyle\",\"Home and lifestyle\",\"Home and lifestyle\",\"Home and lifestyle\",\"Home and lifestyle\",\"Home and lifestyle\",\"Home and lifestyle\",\"Home and lifestyle\",\"Home and lifestyle\",\"Home and lifestyle\",\"Home and lifestyle\",\"Home and lifestyle\",\"Home and lifestyle\",\"Home and lifestyle\",\"Home and lifestyle\",\"Home and lifestyle\",\"Home and lifestyle\",\"Home and lifestyle\",\"Home and lifestyle\",\"Home and lifestyle\",\"Home and lifestyle\",\"Home and lifestyle\",\"Home and lifestyle\",\"Home and lifestyle\",\"Home and lifestyle\",\"Home and lifestyle\",\"Home and lifestyle\",\"Home and lifestyle\",\"Home and lifestyle\",\"Home and lifestyle\",\"Home and lifestyle\",\"Home and lifestyle\",\"Home and lifestyle\",\"Home and lifestyle\",\"Home and lifestyle\",\"Home and lifestyle\",\"Home and lifestyle\",\"Home and lifestyle\",\"Home and lifestyle\",\"Home and lifestyle\",\"Home and lifestyle\",\"Home and lifestyle\",\"Home and lifestyle\",\"Home and lifestyle\",\"Home and lifestyle\",\"Home and lifestyle\",\"Home and lifestyle\",\"Home and lifestyle\",\"Home and lifestyle\",\"Home and lifestyle\",\"Home and lifestyle\",\"Home and lifestyle\",\"Home and lifestyle\",\"Home and lifestyle\",\"Home and lifestyle\",\"Home and lifestyle\",\"Home and lifestyle\",\"Home and lifestyle\",\"Home and lifestyle\",\"Home and lifestyle\",\"Home and lifestyle\",\"Home and lifestyle\",\"Home and lifestyle\",\"Home and lifestyle\",\"Home and lifestyle\",\"Home and lifestyle\",\"Home and lifestyle\",\"Home and lifestyle\",\"Home and lifestyle\",\"Home and lifestyle\",\"Home and lifestyle\",\"Home and lifestyle\",\"Home and lifestyle\",\"Home and lifestyle\",\"Home and lifestyle\",\"Home and lifestyle\",\"Home and lifestyle\"],\"x0\":\" \",\"xaxis\":\"x\",\"y\":[46.33,73.56,40.3,33.2,52.59,30.12,86.72,56.11,16.16,44.34,72.35,55.73,74.67,47.38,82.7,58.07,80.79,53.44,63.91,93.69,34.42,77.95,71.86,50.28,95.58,33.84,94.49,46.47,74.07,69.81,77.04,25.55,25.29,17.77,28.53,92.36,18.28,63.42,62.65,93.87,47.59,23.75,58.9,25.91,35.47,70.74,35.54,21.54,12.03,21.82,69.96,37.0,74.86,94.88,78.38,60.01,88.61,88.79,21.52,22.02,89.25,27.0,73.22,65.94,70.11,67.09,35.38,13.59,46.22,13.98,56.53,50.93,45.38,90.65,33.99,89.21,83.77,60.38,22.96,77.68,12.12,69.4,15.95,42.91,39.39,34.73,83.17,37.44,28.32,16.67,97.94,30.68,38.81,37.48,72.42,82.04,24.24,70.32,31.75,94.59,53.3,99.7,19.36,72.78,49.1,63.56,87.37,62.19,97.5,88.39,75.53,44.12,55.57,52.18,81.2,93.96,55.61,37.69,10.53,12.29,73.28,96.52,95.46,11.43,44.01,97.37,60.87,86.69,77.47,47.68,40.73,28.31,86.27,11.28,51.07,23.29,65.26,34.42,45.97,78.38,49.01,93.12,68.97,35.79,16.37,12.73,99.92,63.15,85.72,45.68,35.81,21.9,65.91,15.8,33.3,81.01,36.91,80.08,97.38,65.82],\"y0\":\" \",\"yaxis\":\"y\",\"type\":\"box\"},{\"alignmentgroup\":\"True\",\"hovertemplate\":\"Product line=%{x}<br>Unit price=%{y}<extra></extra>\",\"legendgroup\":\"Sports and travel\",\"marker\":{\"color\":\"#ab63fa\"},\"name\":\"Sports and travel\",\"notched\":false,\"offsetgroup\":\"Sports and travel\",\"orientation\":\"v\",\"showlegend\":true,\"x\":[\"Sports and travel\",\"Sports and travel\",\"Sports and travel\",\"Sports and travel\",\"Sports and travel\",\"Sports and travel\",\"Sports and travel\",\"Sports and travel\",\"Sports and travel\",\"Sports and travel\",\"Sports and travel\",\"Sports and travel\",\"Sports and travel\",\"Sports and travel\",\"Sports and travel\",\"Sports and travel\",\"Sports and travel\",\"Sports and travel\",\"Sports and travel\",\"Sports and travel\",\"Sports and travel\",\"Sports and travel\",\"Sports and travel\",\"Sports and travel\",\"Sports and travel\",\"Sports and travel\",\"Sports and travel\",\"Sports and travel\",\"Sports and travel\",\"Sports and travel\",\"Sports and travel\",\"Sports and travel\",\"Sports and travel\",\"Sports and travel\",\"Sports and travel\",\"Sports and travel\",\"Sports and travel\",\"Sports and travel\",\"Sports and travel\",\"Sports and travel\",\"Sports and travel\",\"Sports and travel\",\"Sports and travel\",\"Sports and travel\",\"Sports and travel\",\"Sports and travel\",\"Sports and travel\",\"Sports and travel\",\"Sports and travel\",\"Sports and travel\",\"Sports and travel\",\"Sports and travel\",\"Sports and travel\",\"Sports and travel\",\"Sports and travel\",\"Sports and travel\",\"Sports and travel\",\"Sports and travel\",\"Sports and travel\",\"Sports and travel\",\"Sports and travel\",\"Sports and travel\",\"Sports and travel\",\"Sports and travel\",\"Sports and travel\",\"Sports and travel\",\"Sports and travel\",\"Sports and travel\",\"Sports and travel\",\"Sports and travel\",\"Sports and travel\",\"Sports and travel\",\"Sports and travel\",\"Sports and travel\",\"Sports and travel\",\"Sports and travel\",\"Sports and travel\",\"Sports and travel\",\"Sports and travel\",\"Sports and travel\",\"Sports and travel\",\"Sports and travel\",\"Sports and travel\",\"Sports and travel\",\"Sports and travel\",\"Sports and travel\",\"Sports and travel\",\"Sports and travel\",\"Sports and travel\",\"Sports and travel\",\"Sports and travel\",\"Sports and travel\",\"Sports and travel\",\"Sports and travel\",\"Sports and travel\",\"Sports and travel\",\"Sports and travel\",\"Sports and travel\",\"Sports and travel\",\"Sports and travel\",\"Sports and travel\",\"Sports and travel\",\"Sports and travel\",\"Sports and travel\",\"Sports and travel\",\"Sports and travel\",\"Sports and travel\",\"Sports and travel\",\"Sports and travel\",\"Sports and travel\",\"Sports and travel\",\"Sports and travel\",\"Sports and travel\",\"Sports and travel\",\"Sports and travel\",\"Sports and travel\",\"Sports and travel\",\"Sports and travel\",\"Sports and travel\",\"Sports and travel\",\"Sports and travel\",\"Sports and travel\",\"Sports and travel\",\"Sports and travel\",\"Sports and travel\",\"Sports and travel\",\"Sports and travel\",\"Sports and travel\",\"Sports and travel\",\"Sports and travel\",\"Sports and travel\",\"Sports and travel\",\"Sports and travel\",\"Sports and travel\",\"Sports and travel\",\"Sports and travel\",\"Sports and travel\",\"Sports and travel\",\"Sports and travel\",\"Sports and travel\",\"Sports and travel\",\"Sports and travel\",\"Sports and travel\",\"Sports and travel\",\"Sports and travel\",\"Sports and travel\",\"Sports and travel\",\"Sports and travel\",\"Sports and travel\",\"Sports and travel\",\"Sports and travel\",\"Sports and travel\",\"Sports and travel\",\"Sports and travel\",\"Sports and travel\",\"Sports and travel\",\"Sports and travel\",\"Sports and travel\",\"Sports and travel\",\"Sports and travel\",\"Sports and travel\",\"Sports and travel\",\"Sports and travel\",\"Sports and travel\",\"Sports and travel\",\"Sports and travel\"],\"x0\":\" \",\"xaxis\":\"x\",\"y\":[86.31,93.72,72.61,88.63,78.07,83.78,68.12,62.62,69.12,24.74,55.07,15.81,78.77,48.91,83.06,42.47,44.86,21.98,62.13,16.49,57.12,99.96,32.25,90.28,92.13,34.84,51.91,72.5,89.8,34.56,80.97,93.39,63.69,76.4,69.52,15.5,12.34,19.15,46.42,29.61,24.77,87.16,93.14,14.39,22.24,54.45,98.4,67.43,44.02,15.34,23.75,40.23,79.93,97.74,14.7,57.95,44.65,95.44,74.97,14.36,95.49,82.33,75.82,52.26,67.26,21.87,25.84,67.27,99.24,82.93,88.43,19.1,39.12,73.95,54.55,37.02,40.05,33.26,34.37,37.14,36.98,49.49,75.92,98.13,51.52,73.97,93.31,88.45,48.5,90.74,58.39,71.92,91.41,98.09,20.18,60.95,51.54,49.33,73.98,26.67,85.91,63.06,43.06,45.58,75.2,96.8,46.66,54.51,80.93,38.72,72.6,60.87,64.19,15.49,37.32,27.93,42.97,17.14,98.8,40.62,64.08,34.81,23.08,64.83,72.88,70.19,27.04,25.7,90.63,69.74,71.63,31.67,13.69,95.54,67.99,93.38,25.25,94.76,58.91,24.49,23.01,93.18,64.97,10.17,60.08,22.01,11.85,44.63,29.22,39.47,22.38,12.76,90.53,64.59,89.06,31.99,45.58,76.92,42.85,83.14,35.22,88.31,25.31,89.48,97.48,76.6],\"y0\":\" \",\"yaxis\":\"y\",\"type\":\"box\"},{\"alignmentgroup\":\"True\",\"hovertemplate\":\"Product line=%{x}<br>Unit price=%{y}<extra></extra>\",\"legendgroup\":\"Food and beverages\",\"marker\":{\"color\":\"#FFA15A\"},\"name\":\"Food and beverages\",\"notched\":false,\"offsetgroup\":\"Food and beverages\",\"orientation\":\"v\",\"showlegend\":true,\"x\":[\"Food and beverages\",\"Food and beverages\",\"Food and beverages\",\"Food and beverages\",\"Food and beverages\",\"Food and beverages\",\"Food and beverages\",\"Food and beverages\",\"Food and beverages\",\"Food and beverages\",\"Food and beverages\",\"Food and beverages\",\"Food and beverages\",\"Food and beverages\",\"Food and beverages\",\"Food and beverages\",\"Food and beverages\",\"Food and beverages\",\"Food and beverages\",\"Food and beverages\",\"Food and beverages\",\"Food and beverages\",\"Food and beverages\",\"Food and beverages\",\"Food and beverages\",\"Food and beverages\",\"Food and beverages\",\"Food and beverages\",\"Food and beverages\",\"Food and beverages\",\"Food and beverages\",\"Food and beverages\",\"Food and beverages\",\"Food and beverages\",\"Food and beverages\",\"Food and beverages\",\"Food and beverages\",\"Food and beverages\",\"Food and beverages\",\"Food and beverages\",\"Food and beverages\",\"Food and beverages\",\"Food and beverages\",\"Food and beverages\",\"Food and beverages\",\"Food and beverages\",\"Food and beverages\",\"Food and beverages\",\"Food and beverages\",\"Food and beverages\",\"Food and beverages\",\"Food and beverages\",\"Food and beverages\",\"Food and beverages\",\"Food and beverages\",\"Food and beverages\",\"Food and beverages\",\"Food and beverages\",\"Food and beverages\",\"Food and beverages\",\"Food and beverages\",\"Food and beverages\",\"Food and beverages\",\"Food and beverages\",\"Food and beverages\",\"Food and beverages\",\"Food and beverages\",\"Food and beverages\",\"Food and beverages\",\"Food and beverages\",\"Food and beverages\",\"Food and beverages\",\"Food and beverages\",\"Food and beverages\",\"Food and beverages\",\"Food and beverages\",\"Food and beverages\",\"Food and beverages\",\"Food and beverages\",\"Food and beverages\",\"Food and beverages\",\"Food and beverages\",\"Food and beverages\",\"Food and beverages\",\"Food and beverages\",\"Food and beverages\",\"Food and beverages\",\"Food and beverages\",\"Food and beverages\",\"Food and beverages\",\"Food and beverages\",\"Food and beverages\",\"Food and beverages\",\"Food and beverages\",\"Food and beverages\",\"Food and beverages\",\"Food and beverages\",\"Food and beverages\",\"Food and beverages\",\"Food and beverages\",\"Food and beverages\",\"Food and beverages\",\"Food and beverages\",\"Food and beverages\",\"Food and beverages\",\"Food and beverages\",\"Food and beverages\",\"Food and beverages\",\"Food and beverages\",\"Food and beverages\",\"Food and beverages\",\"Food and beverages\",\"Food and beverages\",\"Food and beverages\",\"Food and beverages\",\"Food and beverages\",\"Food and beverages\",\"Food and beverages\",\"Food and beverages\",\"Food and beverages\",\"Food and beverages\",\"Food and beverages\",\"Food and beverages\",\"Food and beverages\",\"Food and beverages\",\"Food and beverages\",\"Food and beverages\",\"Food and beverages\",\"Food and beverages\",\"Food and beverages\",\"Food and beverages\",\"Food and beverages\",\"Food and beverages\",\"Food and beverages\",\"Food and beverages\",\"Food and beverages\",\"Food and beverages\",\"Food and beverages\",\"Food and beverages\",\"Food and beverages\",\"Food and beverages\",\"Food and beverages\",\"Food and beverages\",\"Food and beverages\",\"Food and beverages\",\"Food and beverages\",\"Food and beverages\",\"Food and beverages\",\"Food and beverages\",\"Food and beverages\",\"Food and beverages\",\"Food and beverages\",\"Food and beverages\",\"Food and beverages\",\"Food and beverages\",\"Food and beverages\",\"Food and beverages\",\"Food and beverages\",\"Food and beverages\",\"Food and beverages\",\"Food and beverages\",\"Food and beverages\",\"Food and beverages\",\"Food and beverages\",\"Food and beverages\",\"Food and beverages\",\"Food and beverages\",\"Food and beverages\",\"Food and beverages\",\"Food and beverages\",\"Food and beverages\",\"Food and beverages\",\"Food and beverages\",\"Food and beverages\"],\"x0\":\" \",\"xaxis\":\"x\",\"y\":[54.84,43.19,54.67,88.36,99.42,98.7,20.01,91.4,44.59,89.48,48.52,78.31,96.68,19.25,80.36,49.38,52.75,58.26,33.98,10.96,68.54,30.41,16.48,92.29,43.18,45.79,39.9,51.28,80.05,19.79,22.17,73.88,38.47,18.08,87.8,71.39,93.26,57.34,62.08,43.25,24.94,73.06,46.55,74.6,48.51,36.36,48.61,14.23,99.37,21.08,22.93,99.78,94.26,32.9,23.48,42.82,97.03,89.14,80.96,94.47,99.79,41.24,99.69,74.89,40.94,46.77,18.22,54.27,39.43,13.79,38.6,20.87,43.27,17.04,17.44,27.66,63.61,77.4,35.89,40.52,73.05,22.62,51.34,21.58,65.97,90.24,84.05,81.71,54.36,16.31,87.48,71.2,98.52,41.66,89.2,81.21,10.13,72.39,60.3,31.77,27.22,52.34,52.2,77.56,49.79,57.89,98.97,67.45,98.53,71.68,91.61,78.88,83.77,79.91,17.63,98.79,72.52,87.1,57.74,93.4,73.47,48.5,67.1,55.04,52.6,32.32,68.98,80.62,36.77,23.34,53.72,84.83,38.42,27.28,18.85,55.39,77.2,52.42,65.65,28.86,53.21,33.88,47.16,14.87,72.88,21.12,47.63,24.31,24.82,33.21,83.34,87.9,47.27,35.04,11.53,79.54,29.15,99.6,74.44,57.29,66.52,26.43,62.85,21.04,50.49,98.66,33.33,84.63,74.66,26.6,67.77,59.59,56.56,31.84],\"y0\":\" \",\"yaxis\":\"y\",\"type\":\"box\"},{\"alignmentgroup\":\"True\",\"hovertemplate\":\"Product line=%{x}<br>Unit price=%{y}<extra></extra>\",\"legendgroup\":\"Fashion accessories\",\"marker\":{\"color\":\"#19d3f3\"},\"name\":\"Fashion accessories\",\"notched\":false,\"offsetgroup\":\"Fashion accessories\",\"orientation\":\"v\",\"showlegend\":true,\"x\":[\"Fashion accessories\",\"Fashion accessories\",\"Fashion accessories\",\"Fashion accessories\",\"Fashion accessories\",\"Fashion accessories\",\"Fashion accessories\",\"Fashion accessories\",\"Fashion accessories\",\"Fashion accessories\",\"Fashion accessories\",\"Fashion accessories\",\"Fashion accessories\",\"Fashion accessories\",\"Fashion accessories\",\"Fashion accessories\",\"Fashion accessories\",\"Fashion accessories\",\"Fashion accessories\",\"Fashion accessories\",\"Fashion accessories\",\"Fashion accessories\",\"Fashion accessories\",\"Fashion accessories\",\"Fashion accessories\",\"Fashion accessories\",\"Fashion accessories\",\"Fashion accessories\",\"Fashion accessories\",\"Fashion accessories\",\"Fashion accessories\",\"Fashion accessories\",\"Fashion accessories\",\"Fashion accessories\",\"Fashion accessories\",\"Fashion accessories\",\"Fashion accessories\",\"Fashion accessories\",\"Fashion accessories\",\"Fashion accessories\",\"Fashion accessories\",\"Fashion accessories\",\"Fashion accessories\",\"Fashion accessories\",\"Fashion accessories\",\"Fashion accessories\",\"Fashion accessories\",\"Fashion accessories\",\"Fashion accessories\",\"Fashion accessories\",\"Fashion accessories\",\"Fashion accessories\",\"Fashion accessories\",\"Fashion accessories\",\"Fashion accessories\",\"Fashion accessories\",\"Fashion accessories\",\"Fashion accessories\",\"Fashion accessories\",\"Fashion accessories\",\"Fashion accessories\",\"Fashion accessories\",\"Fashion accessories\",\"Fashion accessories\",\"Fashion accessories\",\"Fashion accessories\",\"Fashion accessories\",\"Fashion accessories\",\"Fashion accessories\",\"Fashion accessories\",\"Fashion accessories\",\"Fashion accessories\",\"Fashion accessories\",\"Fashion accessories\",\"Fashion accessories\",\"Fashion accessories\",\"Fashion accessories\",\"Fashion accessories\",\"Fashion accessories\",\"Fashion accessories\",\"Fashion accessories\",\"Fashion accessories\",\"Fashion accessories\",\"Fashion accessories\",\"Fashion accessories\",\"Fashion accessories\",\"Fashion accessories\",\"Fashion accessories\",\"Fashion accessories\",\"Fashion accessories\",\"Fashion accessories\",\"Fashion accessories\",\"Fashion accessories\",\"Fashion accessories\",\"Fashion accessories\",\"Fashion accessories\",\"Fashion accessories\",\"Fashion accessories\",\"Fashion accessories\",\"Fashion accessories\",\"Fashion accessories\",\"Fashion accessories\",\"Fashion accessories\",\"Fashion accessories\",\"Fashion accessories\",\"Fashion accessories\",\"Fashion accessories\",\"Fashion accessories\",\"Fashion accessories\",\"Fashion accessories\",\"Fashion accessories\",\"Fashion accessories\",\"Fashion accessories\",\"Fashion accessories\",\"Fashion accessories\",\"Fashion accessories\",\"Fashion accessories\",\"Fashion accessories\",\"Fashion accessories\",\"Fashion accessories\",\"Fashion accessories\",\"Fashion accessories\",\"Fashion accessories\",\"Fashion accessories\",\"Fashion accessories\",\"Fashion accessories\",\"Fashion accessories\",\"Fashion accessories\",\"Fashion accessories\",\"Fashion accessories\",\"Fashion accessories\",\"Fashion accessories\",\"Fashion accessories\",\"Fashion accessories\",\"Fashion accessories\",\"Fashion accessories\",\"Fashion accessories\",\"Fashion accessories\",\"Fashion accessories\",\"Fashion accessories\",\"Fashion accessories\",\"Fashion accessories\",\"Fashion accessories\",\"Fashion accessories\",\"Fashion accessories\",\"Fashion accessories\",\"Fashion accessories\",\"Fashion accessories\",\"Fashion accessories\",\"Fashion accessories\",\"Fashion accessories\",\"Fashion accessories\",\"Fashion accessories\",\"Fashion accessories\",\"Fashion accessories\",\"Fashion accessories\",\"Fashion accessories\",\"Fashion accessories\",\"Fashion accessories\",\"Fashion accessories\",\"Fashion accessories\",\"Fashion accessories\",\"Fashion accessories\",\"Fashion accessories\",\"Fashion accessories\",\"Fashion accessories\",\"Fashion accessories\",\"Fashion accessories\",\"Fashion accessories\",\"Fashion accessories\",\"Fashion accessories\",\"Fashion accessories\",\"Fashion accessories\",\"Fashion accessories\",\"Fashion accessories\",\"Fashion accessories\",\"Fashion accessories\",\"Fashion accessories\"],\"x0\":\" \",\"xaxis\":\"x\",\"y\":[14.48,33.52,87.67,94.13,82.63,17.87,15.43,97.61,62.12,49.04,20.01,76.52,48.71,78.55,27.38,72.84,27.02,21.94,51.36,56.47,31.73,39.62,90.22,30.14,91.54,83.24,98.98,22.51,64.26,73.52,74.29,30.37,94.87,12.54,81.37,73.82,44.22,89.69,93.2,17.94,35.19,32.62,16.45,38.3,47.97,95.42,70.99,99.82,81.91,69.33,61.77,77.02,76.4,77.93,99.3,54.73,37.55,81.68,60.96,42.08,96.7,96.98,54.07,80.48,37.95,39.75,97.79,68.71,23.82,97.21,25.42,16.28,40.61,69.08,95.54,47.44,12.78,45.74,29.56,43.13,41.09,37.15,34.7,19.66,99.89,31.9,54.28,51.47,39.21,59.86,86.68,73.96,73.05,29.42,57.27,54.31,72.04,99.25,65.74,79.86,81.31,92.98,18.08,59.61,36.85,64.99,51.89,53.65,30.61,93.22,43.46,83.25,91.35,12.09,52.42,33.63,60.18,88.15,55.45,58.75,48.63,56.04,83.77,49.32,21.48,73.38,60.41,19.77,15.62,98.7,71.46,45.38,17.48,25.56,97.26,22.32,19.7,65.23,22.32,84.87,97.29,63.88,76.06,30.62,46.41,27.18,67.39,48.96,62.18,45.44,41.28,52.38,38.54,51.94,21.32,99.1,74.1,98.48,36.51,56.5,52.35,10.18,12.19,92.49,60.74,51.34,94.67,83.35,99.82,53.78,42.57,91.98,15.5,86.13,49.92,63.71,17.49,88.34],\"y0\":\" \",\"yaxis\":\"y\",\"type\":\"box\"}],                        {\"template\":{\"data\":{\"barpolar\":[{\"marker\":{\"line\":{\"color\":\"rgb(17,17,17)\",\"width\":0.5},\"pattern\":{\"fillmode\":\"overlay\",\"size\":10,\"solidity\":0.2}},\"type\":\"barpolar\"}],\"bar\":[{\"error_x\":{\"color\":\"#f2f5fa\"},\"error_y\":{\"color\":\"#f2f5fa\"},\"marker\":{\"line\":{\"color\":\"rgb(17,17,17)\",\"width\":0.5},\"pattern\":{\"fillmode\":\"overlay\",\"size\":10,\"solidity\":0.2}},\"type\":\"bar\"}],\"carpet\":[{\"aaxis\":{\"endlinecolor\":\"#A2B1C6\",\"gridcolor\":\"#506784\",\"linecolor\":\"#506784\",\"minorgridcolor\":\"#506784\",\"startlinecolor\":\"#A2B1C6\"},\"baxis\":{\"endlinecolor\":\"#A2B1C6\",\"gridcolor\":\"#506784\",\"linecolor\":\"#506784\",\"minorgridcolor\":\"#506784\",\"startlinecolor\":\"#A2B1C6\"},\"type\":\"carpet\"}],\"choropleth\":[{\"colorbar\":{\"outlinewidth\":0,\"ticks\":\"\"},\"type\":\"choropleth\"}],\"contourcarpet\":[{\"colorbar\":{\"outlinewidth\":0,\"ticks\":\"\"},\"type\":\"contourcarpet\"}],\"contour\":[{\"colorbar\":{\"outlinewidth\":0,\"ticks\":\"\"},\"colorscale\":[[0.0,\"#0d0887\"],[0.1111111111111111,\"#46039f\"],[0.2222222222222222,\"#7201a8\"],[0.3333333333333333,\"#9c179e\"],[0.4444444444444444,\"#bd3786\"],[0.5555555555555556,\"#d8576b\"],[0.6666666666666666,\"#ed7953\"],[0.7777777777777778,\"#fb9f3a\"],[0.8888888888888888,\"#fdca26\"],[1.0,\"#f0f921\"]],\"type\":\"contour\"}],\"heatmapgl\":[{\"colorbar\":{\"outlinewidth\":0,\"ticks\":\"\"},\"colorscale\":[[0.0,\"#0d0887\"],[0.1111111111111111,\"#46039f\"],[0.2222222222222222,\"#7201a8\"],[0.3333333333333333,\"#9c179e\"],[0.4444444444444444,\"#bd3786\"],[0.5555555555555556,\"#d8576b\"],[0.6666666666666666,\"#ed7953\"],[0.7777777777777778,\"#fb9f3a\"],[0.8888888888888888,\"#fdca26\"],[1.0,\"#f0f921\"]],\"type\":\"heatmapgl\"}],\"heatmap\":[{\"colorbar\":{\"outlinewidth\":0,\"ticks\":\"\"},\"colorscale\":[[0.0,\"#0d0887\"],[0.1111111111111111,\"#46039f\"],[0.2222222222222222,\"#7201a8\"],[0.3333333333333333,\"#9c179e\"],[0.4444444444444444,\"#bd3786\"],[0.5555555555555556,\"#d8576b\"],[0.6666666666666666,\"#ed7953\"],[0.7777777777777778,\"#fb9f3a\"],[0.8888888888888888,\"#fdca26\"],[1.0,\"#f0f921\"]],\"type\":\"heatmap\"}],\"histogram2dcontour\":[{\"colorbar\":{\"outlinewidth\":0,\"ticks\":\"\"},\"colorscale\":[[0.0,\"#0d0887\"],[0.1111111111111111,\"#46039f\"],[0.2222222222222222,\"#7201a8\"],[0.3333333333333333,\"#9c179e\"],[0.4444444444444444,\"#bd3786\"],[0.5555555555555556,\"#d8576b\"],[0.6666666666666666,\"#ed7953\"],[0.7777777777777778,\"#fb9f3a\"],[0.8888888888888888,\"#fdca26\"],[1.0,\"#f0f921\"]],\"type\":\"histogram2dcontour\"}],\"histogram2d\":[{\"colorbar\":{\"outlinewidth\":0,\"ticks\":\"\"},\"colorscale\":[[0.0,\"#0d0887\"],[0.1111111111111111,\"#46039f\"],[0.2222222222222222,\"#7201a8\"],[0.3333333333333333,\"#9c179e\"],[0.4444444444444444,\"#bd3786\"],[0.5555555555555556,\"#d8576b\"],[0.6666666666666666,\"#ed7953\"],[0.7777777777777778,\"#fb9f3a\"],[0.8888888888888888,\"#fdca26\"],[1.0,\"#f0f921\"]],\"type\":\"histogram2d\"}],\"histogram\":[{\"marker\":{\"pattern\":{\"fillmode\":\"overlay\",\"size\":10,\"solidity\":0.2}},\"type\":\"histogram\"}],\"mesh3d\":[{\"colorbar\":{\"outlinewidth\":0,\"ticks\":\"\"},\"type\":\"mesh3d\"}],\"parcoords\":[{\"line\":{\"colorbar\":{\"outlinewidth\":0,\"ticks\":\"\"}},\"type\":\"parcoords\"}],\"pie\":[{\"automargin\":true,\"type\":\"pie\"}],\"scatter3d\":[{\"line\":{\"colorbar\":{\"outlinewidth\":0,\"ticks\":\"\"}},\"marker\":{\"colorbar\":{\"outlinewidth\":0,\"ticks\":\"\"}},\"type\":\"scatter3d\"}],\"scattercarpet\":[{\"marker\":{\"colorbar\":{\"outlinewidth\":0,\"ticks\":\"\"}},\"type\":\"scattercarpet\"}],\"scattergeo\":[{\"marker\":{\"colorbar\":{\"outlinewidth\":0,\"ticks\":\"\"}},\"type\":\"scattergeo\"}],\"scattergl\":[{\"marker\":{\"line\":{\"color\":\"#283442\"}},\"type\":\"scattergl\"}],\"scattermapbox\":[{\"marker\":{\"colorbar\":{\"outlinewidth\":0,\"ticks\":\"\"}},\"type\":\"scattermapbox\"}],\"scatterpolargl\":[{\"marker\":{\"colorbar\":{\"outlinewidth\":0,\"ticks\":\"\"}},\"type\":\"scatterpolargl\"}],\"scatterpolar\":[{\"marker\":{\"colorbar\":{\"outlinewidth\":0,\"ticks\":\"\"}},\"type\":\"scatterpolar\"}],\"scatter\":[{\"marker\":{\"line\":{\"color\":\"#283442\"}},\"type\":\"scatter\"}],\"scatterternary\":[{\"marker\":{\"colorbar\":{\"outlinewidth\":0,\"ticks\":\"\"}},\"type\":\"scatterternary\"}],\"surface\":[{\"colorbar\":{\"outlinewidth\":0,\"ticks\":\"\"},\"colorscale\":[[0.0,\"#0d0887\"],[0.1111111111111111,\"#46039f\"],[0.2222222222222222,\"#7201a8\"],[0.3333333333333333,\"#9c179e\"],[0.4444444444444444,\"#bd3786\"],[0.5555555555555556,\"#d8576b\"],[0.6666666666666666,\"#ed7953\"],[0.7777777777777778,\"#fb9f3a\"],[0.8888888888888888,\"#fdca26\"],[1.0,\"#f0f921\"]],\"type\":\"surface\"}],\"table\":[{\"cells\":{\"fill\":{\"color\":\"#506784\"},\"line\":{\"color\":\"rgb(17,17,17)\"}},\"header\":{\"fill\":{\"color\":\"#2a3f5f\"},\"line\":{\"color\":\"rgb(17,17,17)\"}},\"type\":\"table\"}]},\"layout\":{\"annotationdefaults\":{\"arrowcolor\":\"#f2f5fa\",\"arrowhead\":0,\"arrowwidth\":1},\"autotypenumbers\":\"strict\",\"coloraxis\":{\"colorbar\":{\"outlinewidth\":0,\"ticks\":\"\"}},\"colorscale\":{\"diverging\":[[0,\"#8e0152\"],[0.1,\"#c51b7d\"],[0.2,\"#de77ae\"],[0.3,\"#f1b6da\"],[0.4,\"#fde0ef\"],[0.5,\"#f7f7f7\"],[0.6,\"#e6f5d0\"],[0.7,\"#b8e186\"],[0.8,\"#7fbc41\"],[0.9,\"#4d9221\"],[1,\"#276419\"]],\"sequential\":[[0.0,\"#0d0887\"],[0.1111111111111111,\"#46039f\"],[0.2222222222222222,\"#7201a8\"],[0.3333333333333333,\"#9c179e\"],[0.4444444444444444,\"#bd3786\"],[0.5555555555555556,\"#d8576b\"],[0.6666666666666666,\"#ed7953\"],[0.7777777777777778,\"#fb9f3a\"],[0.8888888888888888,\"#fdca26\"],[1.0,\"#f0f921\"]],\"sequentialminus\":[[0.0,\"#0d0887\"],[0.1111111111111111,\"#46039f\"],[0.2222222222222222,\"#7201a8\"],[0.3333333333333333,\"#9c179e\"],[0.4444444444444444,\"#bd3786\"],[0.5555555555555556,\"#d8576b\"],[0.6666666666666666,\"#ed7953\"],[0.7777777777777778,\"#fb9f3a\"],[0.8888888888888888,\"#fdca26\"],[1.0,\"#f0f921\"]]},\"colorway\":[\"#636efa\",\"#EF553B\",\"#00cc96\",\"#ab63fa\",\"#FFA15A\",\"#19d3f3\",\"#FF6692\",\"#B6E880\",\"#FF97FF\",\"#FECB52\"],\"font\":{\"color\":\"#f2f5fa\"},\"geo\":{\"bgcolor\":\"rgb(17,17,17)\",\"lakecolor\":\"rgb(17,17,17)\",\"landcolor\":\"rgb(17,17,17)\",\"showlakes\":true,\"showland\":true,\"subunitcolor\":\"#506784\"},\"hoverlabel\":{\"align\":\"left\"},\"hovermode\":\"closest\",\"mapbox\":{\"style\":\"dark\"},\"paper_bgcolor\":\"rgb(17,17,17)\",\"plot_bgcolor\":\"rgb(17,17,17)\",\"polar\":{\"angularaxis\":{\"gridcolor\":\"#506784\",\"linecolor\":\"#506784\",\"ticks\":\"\"},\"bgcolor\":\"rgb(17,17,17)\",\"radialaxis\":{\"gridcolor\":\"#506784\",\"linecolor\":\"#506784\",\"ticks\":\"\"}},\"scene\":{\"xaxis\":{\"backgroundcolor\":\"rgb(17,17,17)\",\"gridcolor\":\"#506784\",\"gridwidth\":2,\"linecolor\":\"#506784\",\"showbackground\":true,\"ticks\":\"\",\"zerolinecolor\":\"#C8D4E3\"},\"yaxis\":{\"backgroundcolor\":\"rgb(17,17,17)\",\"gridcolor\":\"#506784\",\"gridwidth\":2,\"linecolor\":\"#506784\",\"showbackground\":true,\"ticks\":\"\",\"zerolinecolor\":\"#C8D4E3\"},\"zaxis\":{\"backgroundcolor\":\"rgb(17,17,17)\",\"gridcolor\":\"#506784\",\"gridwidth\":2,\"linecolor\":\"#506784\",\"showbackground\":true,\"ticks\":\"\",\"zerolinecolor\":\"#C8D4E3\"}},\"shapedefaults\":{\"line\":{\"color\":\"#f2f5fa\"}},\"sliderdefaults\":{\"bgcolor\":\"#C8D4E3\",\"bordercolor\":\"rgb(17,17,17)\",\"borderwidth\":1,\"tickwidth\":0},\"ternary\":{\"aaxis\":{\"gridcolor\":\"#506784\",\"linecolor\":\"#506784\",\"ticks\":\"\"},\"baxis\":{\"gridcolor\":\"#506784\",\"linecolor\":\"#506784\",\"ticks\":\"\"},\"bgcolor\":\"rgb(17,17,17)\",\"caxis\":{\"gridcolor\":\"#506784\",\"linecolor\":\"#506784\",\"ticks\":\"\"}},\"title\":{\"x\":0.05},\"updatemenudefaults\":{\"bgcolor\":\"#506784\",\"borderwidth\":0},\"xaxis\":{\"automargin\":true,\"gridcolor\":\"#283442\",\"linecolor\":\"#506784\",\"ticks\":\"\",\"title\":{\"standoff\":15},\"zerolinecolor\":\"#283442\",\"zerolinewidth\":2},\"yaxis\":{\"automargin\":true,\"gridcolor\":\"#283442\",\"linecolor\":\"#506784\",\"ticks\":\"\",\"title\":{\"standoff\":15},\"zerolinecolor\":\"#283442\",\"zerolinewidth\":2}}},\"xaxis\":{\"anchor\":\"y\",\"domain\":[0.0,1.0],\"title\":{\"text\":\"Product line\"},\"categoryorder\":\"array\",\"categoryarray\":[\"Health and beauty\",\"Electronic accessories\",\"Home and lifestyle\",\"Sports and travel\",\"Food and beverages\",\"Fashion accessories\"]},\"yaxis\":{\"anchor\":\"x\",\"domain\":[0.0,1.0],\"title\":{\"text\":\"Unit price\"}},\"legend\":{\"title\":{\"text\":\"Product line\"},\"tracegroupgap\":0},\"title\":{\"text\":\"Product line with Unit price\"},\"boxmode\":\"overlay\"},                        {\"responsive\": true}                    ).then(function(){\n",
              "                            \n",
              "var gd = document.getElementById('3e1a6827-34a0-41c2-b195-0452a3609b39');\n",
              "var x = new MutationObserver(function (mutations, observer) {{\n",
              "        var display = window.getComputedStyle(gd).display;\n",
              "        if (!display || display === 'none') {{\n",
              "            console.log([gd, 'removed!']);\n",
              "            Plotly.purge(gd);\n",
              "            observer.disconnect();\n",
              "        }}\n",
              "}});\n",
              "\n",
              "// Listen for the removal of the full notebook cells\n",
              "var notebookContainer = gd.closest('#notebook-container');\n",
              "if (notebookContainer) {{\n",
              "    x.observe(notebookContainer, {childList: true});\n",
              "}}\n",
              "\n",
              "// Listen for the clearing of the current output cell\n",
              "var outputEl = gd.closest('.output');\n",
              "if (outputEl) {{\n",
              "    x.observe(outputEl, {childList: true});\n",
              "}}\n",
              "\n",
              "                        })                };                            </script>        </div>\n",
              "</body>\n",
              "</html>"
            ]
          },
          "metadata": {}
        }
      ]
    },
    {
      "cell_type": "code",
      "source": [
        "SW_sales['Quantity'].unique()"
      ],
      "metadata": {
        "id": "6vfL91igcsZ5",
        "colab": {
          "base_uri": "https://localhost:8080/"
        },
        "outputId": "c01d54d0-ec80-45b0-a98f-e56cfc741b89"
      },
      "execution_count": null,
      "outputs": [
        {
          "output_type": "execute_result",
          "data": {
            "text/plain": [
              "array([ 7,  5,  8,  6, 10,  2,  3,  4,  1,  9])"
            ]
          },
          "metadata": {},
          "execution_count": 8
        }
      ]
    },
    {
      "cell_type": "code",
      "source": [
        "SW_sales[['Gender','Quantity']].groupby('Gender').count()\n",
        "SW_sales[['Gender','Quantity']].groupby('Gender').max()"
      ],
      "metadata": {
        "colab": {
          "base_uri": "https://localhost:8080/",
          "height": 143
        },
        "id": "1ltGHzStFd4w",
        "outputId": "a639d334-77d8-47eb-aae2-94a13eed11b9"
      },
      "execution_count": null,
      "outputs": [
        {
          "output_type": "execute_result",
          "data": {
            "text/plain": [
              "        Quantity\n",
              "Gender          \n",
              "Female        10\n",
              "Male          10"
            ],
            "text/html": [
              "\n",
              "  <div id=\"df-ee65a1e1-3200-47c6-b82c-b4bfe2f308b0\">\n",
              "    <div class=\"colab-df-container\">\n",
              "      <div>\n",
              "<style scoped>\n",
              "    .dataframe tbody tr th:only-of-type {\n",
              "        vertical-align: middle;\n",
              "    }\n",
              "\n",
              "    .dataframe tbody tr th {\n",
              "        vertical-align: top;\n",
              "    }\n",
              "\n",
              "    .dataframe thead th {\n",
              "        text-align: right;\n",
              "    }\n",
              "</style>\n",
              "<table border=\"1\" class=\"dataframe\">\n",
              "  <thead>\n",
              "    <tr style=\"text-align: right;\">\n",
              "      <th></th>\n",
              "      <th>Quantity</th>\n",
              "    </tr>\n",
              "    <tr>\n",
              "      <th>Gender</th>\n",
              "      <th></th>\n",
              "    </tr>\n",
              "  </thead>\n",
              "  <tbody>\n",
              "    <tr>\n",
              "      <th>Female</th>\n",
              "      <td>10</td>\n",
              "    </tr>\n",
              "    <tr>\n",
              "      <th>Male</th>\n",
              "      <td>10</td>\n",
              "    </tr>\n",
              "  </tbody>\n",
              "</table>\n",
              "</div>\n",
              "      <button class=\"colab-df-convert\" onclick=\"convertToInteractive('df-ee65a1e1-3200-47c6-b82c-b4bfe2f308b0')\"\n",
              "              title=\"Convert this dataframe to an interactive table.\"\n",
              "              style=\"display:none;\">\n",
              "        \n",
              "  <svg xmlns=\"http://www.w3.org/2000/svg\" height=\"24px\"viewBox=\"0 0 24 24\"\n",
              "       width=\"24px\">\n",
              "    <path d=\"M0 0h24v24H0V0z\" fill=\"none\"/>\n",
              "    <path d=\"M18.56 5.44l.94 2.06.94-2.06 2.06-.94-2.06-.94-.94-2.06-.94 2.06-2.06.94zm-11 1L8.5 8.5l.94-2.06 2.06-.94-2.06-.94L8.5 2.5l-.94 2.06-2.06.94zm10 10l.94 2.06.94-2.06 2.06-.94-2.06-.94-.94-2.06-.94 2.06-2.06.94z\"/><path d=\"M17.41 7.96l-1.37-1.37c-.4-.4-.92-.59-1.43-.59-.52 0-1.04.2-1.43.59L10.3 9.45l-7.72 7.72c-.78.78-.78 2.05 0 2.83L4 21.41c.39.39.9.59 1.41.59.51 0 1.02-.2 1.41-.59l7.78-7.78 2.81-2.81c.8-.78.8-2.07 0-2.86zM5.41 20L4 18.59l7.72-7.72 1.47 1.35L5.41 20z\"/>\n",
              "  </svg>\n",
              "      </button>\n",
              "      \n",
              "  <style>\n",
              "    .colab-df-container {\n",
              "      display:flex;\n",
              "      flex-wrap:wrap;\n",
              "      gap: 12px;\n",
              "    }\n",
              "\n",
              "    .colab-df-convert {\n",
              "      background-color: #E8F0FE;\n",
              "      border: none;\n",
              "      border-radius: 50%;\n",
              "      cursor: pointer;\n",
              "      display: none;\n",
              "      fill: #1967D2;\n",
              "      height: 32px;\n",
              "      padding: 0 0 0 0;\n",
              "      width: 32px;\n",
              "    }\n",
              "\n",
              "    .colab-df-convert:hover {\n",
              "      background-color: #E2EBFA;\n",
              "      box-shadow: 0px 1px 2px rgba(60, 64, 67, 0.3), 0px 1px 3px 1px rgba(60, 64, 67, 0.15);\n",
              "      fill: #174EA6;\n",
              "    }\n",
              "\n",
              "    [theme=dark] .colab-df-convert {\n",
              "      background-color: #3B4455;\n",
              "      fill: #D2E3FC;\n",
              "    }\n",
              "\n",
              "    [theme=dark] .colab-df-convert:hover {\n",
              "      background-color: #434B5C;\n",
              "      box-shadow: 0px 1px 3px 1px rgba(0, 0, 0, 0.15);\n",
              "      filter: drop-shadow(0px 1px 2px rgba(0, 0, 0, 0.3));\n",
              "      fill: #FFFFFF;\n",
              "    }\n",
              "  </style>\n",
              "\n",
              "      <script>\n",
              "        const buttonEl =\n",
              "          document.querySelector('#df-ee65a1e1-3200-47c6-b82c-b4bfe2f308b0 button.colab-df-convert');\n",
              "        buttonEl.style.display =\n",
              "          google.colab.kernel.accessAllowed ? 'block' : 'none';\n",
              "\n",
              "        async function convertToInteractive(key) {\n",
              "          const element = document.querySelector('#df-ee65a1e1-3200-47c6-b82c-b4bfe2f308b0');\n",
              "          const dataTable =\n",
              "            await google.colab.kernel.invokeFunction('convertToInteractive',\n",
              "                                                     [key], {});\n",
              "          if (!dataTable) return;\n",
              "\n",
              "          const docLinkHtml = 'Like what you see? Visit the ' +\n",
              "            '<a target=\"_blank\" href=https://colab.research.google.com/notebooks/data_table.ipynb>data table notebook</a>'\n",
              "            + ' to learn more about interactive tables.';\n",
              "          element.innerHTML = '';\n",
              "          dataTable['output_type'] = 'display_data';\n",
              "          await google.colab.output.renderOutput(dataTable, element);\n",
              "          const docLink = document.createElement('div');\n",
              "          docLink.innerHTML = docLinkHtml;\n",
              "          element.appendChild(docLink);\n",
              "        }\n",
              "      </script>\n",
              "    </div>\n",
              "  </div>\n",
              "  "
            ]
          },
          "metadata": {},
          "execution_count": 19
        }
      ]
    },
    {
      "cell_type": "markdown",
      "source": [
        "Number of males and females in terms of purchase quantity"
      ],
      "metadata": {
        "id": "UKZ6cAy0GQC1"
      }
    },
    {
      "cell_type": "code",
      "source": [
        "fig=sb.FacetGrid(data=SW_sales,row=\"Quantity\")\n",
        "fig.map(plt.hist,\"Gender\",bins=5,color=\"crimson\")"
      ],
      "metadata": {
        "colab": {
          "base_uri": "https://localhost:8080/",
          "height": 1000
        },
        "id": "BYKWCE4AGO6W",
        "outputId": "9b5e7e93-e9cc-4a60-b144-71e13e006285"
      },
      "execution_count": null,
      "outputs": [
        {
          "output_type": "execute_result",
          "data": {
            "text/plain": [
              "<seaborn.axisgrid.FacetGrid at 0x7fc311dc05e0>"
            ]
          },
          "metadata": {},
          "execution_count": 28
        },
        {
          "output_type": "display_data",
          "data": {
            "text/plain": [
              "<Figure size 216x2160 with 10 Axes>"
            ],
            "image/png": "[encoded data removed]"
          },
          "metadata": {
            "needs_background": "light"
          }
        }
      ]
    },
    {
      "cell_type": "markdown",
      "source": [
        "What is the most quantity that was purchased in each Product line?"
      ],
      "metadata": {
        "id": "tvDhKhFlIXHn"
      }
    },
    {
      "cell_type": "code",
      "source": [
        "SW_sales[['Product line','Quantity']].groupby('Product line').max()"
      ],
      "metadata": {
        "colab": {
          "base_uri": "https://localhost:8080/",
          "height": 269
        },
        "id": "tKi5N79bIMOq",
        "outputId": "823a27ff-1bc7-468d-8f62-7c9c816bff95"
      },
      "execution_count": null,
      "outputs": [
        {
          "output_type": "execute_result",
          "data": {
            "text/plain": [
              "                        Quantity\n",
              "Product line                    \n",
              "Electronic accessories        10\n",
              "Fashion accessories           10\n",
              "Food and beverages            10\n",
              "Health and beauty             10\n",
              "Home and lifestyle            10\n",
              "Sports and travel             10"
            ],
            "text/html": [
              "\n",
              "  <div id=\"df-056deb13-92b2-4159-b034-29c07a085f82\">\n",
              "    <div class=\"colab-df-container\">\n",
              "      <div>\n",
              "<style scoped>\n",
              "    .dataframe tbody tr th:only-of-type {\n",
              "        vertical-align: middle;\n",
              "    }\n",
              "\n",
              "    .dataframe tbody tr th {\n",
              "        vertical-align: top;\n",
              "    }\n",
              "\n",
              "    .dataframe thead th {\n",
              "        text-align: right;\n",
              "    }\n",
              "</style>\n",
              "<table border=\"1\" class=\"dataframe\">\n",
              "  <thead>\n",
              "    <tr style=\"text-align: right;\">\n",
              "      <th></th>\n",
              "      <th>Quantity</th>\n",
              "    </tr>\n",
              "    <tr>\n",
              "      <th>Product line</th>\n",
              "      <th></th>\n",
              "    </tr>\n",
              "  </thead>\n",
              "  <tbody>\n",
              "    <tr>\n",
              "      <th>Electronic accessories</th>\n",
              "      <td>10</td>\n",
              "    </tr>\n",
              "    <tr>\n",
              "      <th>Fashion accessories</th>\n",
              "      <td>10</td>\n",
              "    </tr>\n",
              "    <tr>\n",
              "      <th>Food and beverages</th>\n",
              "      <td>10</td>\n",
              "    </tr>\n",
              "    <tr>\n",
              "      <th>Health and beauty</th>\n",
              "      <td>10</td>\n",
              "    </tr>\n",
              "    <tr>\n",
              "      <th>Home and lifestyle</th>\n",
              "      <td>10</td>\n",
              "    </tr>\n",
              "    <tr>\n",
              "      <th>Sports and travel</th>\n",
              "      <td>10</td>\n",
              "    </tr>\n",
              "  </tbody>\n",
              "</table>\n",
              "</div>\n",
              "      <button class=\"colab-df-convert\" onclick=\"convertToInteractive('df-056deb13-92b2-4159-b034-29c07a085f82')\"\n",
              "              title=\"Convert this dataframe to an interactive table.\"\n",
              "              style=\"display:none;\">\n",
              "        \n",
              "  <svg xmlns=\"http://www.w3.org/2000/svg\" height=\"24px\"viewBox=\"0 0 24 24\"\n",
              "       width=\"24px\">\n",
              "    <path d=\"M0 0h24v24H0V0z\" fill=\"none\"/>\n",
              "    <path d=\"M18.56 5.44l.94 2.06.94-2.06 2.06-.94-2.06-.94-.94-2.06-.94 2.06-2.06.94zm-11 1L8.5 8.5l.94-2.06 2.06-.94-2.06-.94L8.5 2.5l-.94 2.06-2.06.94zm10 10l.94 2.06.94-2.06 2.06-.94-2.06-.94-.94-2.06-.94 2.06-2.06.94z\"/><path d=\"M17.41 7.96l-1.37-1.37c-.4-.4-.92-.59-1.43-.59-.52 0-1.04.2-1.43.59L10.3 9.45l-7.72 7.72c-.78.78-.78 2.05 0 2.83L4 21.41c.39.39.9.59 1.41.59.51 0 1.02-.2 1.41-.59l7.78-7.78 2.81-2.81c.8-.78.8-2.07 0-2.86zM5.41 20L4 18.59l7.72-7.72 1.47 1.35L5.41 20z\"/>\n",
              "  </svg>\n",
              "      </button>\n",
              "      \n",
              "  <style>\n",
              "    .colab-df-container {\n",
              "      display:flex;\n",
              "      flex-wrap:wrap;\n",
              "      gap: 12px;\n",
              "    }\n",
              "\n",
              "    .colab-df-convert {\n",
              "      background-color: #E8F0FE;\n",
              "      border: none;\n",
              "      border-radius: 50%;\n",
              "      cursor: pointer;\n",
              "      display: none;\n",
              "      fill: #1967D2;\n",
              "      height: 32px;\n",
              "      padding: 0 0 0 0;\n",
              "      width: 32px;\n",
              "    }\n",
              "\n",
              "    .colab-df-convert:hover {\n",
              "      background-color: #E2EBFA;\n",
              "      box-shadow: 0px 1px 2px rgba(60, 64, 67, 0.3), 0px 1px 3px 1px rgba(60, 64, 67, 0.15);\n",
              "      fill: #174EA6;\n",
              "    }\n",
              "\n",
              "    [theme=dark] .colab-df-convert {\n",
              "      background-color: #3B4455;\n",
              "      fill: #D2E3FC;\n",
              "    }\n",
              "\n",
              "    [theme=dark] .colab-df-convert:hover {\n",
              "      background-color: #434B5C;\n",
              "      box-shadow: 0px 1px 3px 1px rgba(0, 0, 0, 0.15);\n",
              "      filter: drop-shadow(0px 1px 2px rgba(0, 0, 0, 0.3));\n",
              "      fill: #FFFFFF;\n",
              "    }\n",
              "  </style>\n",
              "\n",
              "      <script>\n",
              "        const buttonEl =\n",
              "          document.querySelector('#df-056deb13-92b2-4159-b034-29c07a085f82 button.colab-df-convert');\n",
              "        buttonEl.style.display =\n",
              "          google.colab.kernel.accessAllowed ? 'block' : 'none';\n",
              "\n",
              "        async function convertToInteractive(key) {\n",
              "          const element = document.querySelector('#df-056deb13-92b2-4159-b034-29c07a085f82');\n",
              "          const dataTable =\n",
              "            await google.colab.kernel.invokeFunction('convertToInteractive',\n",
              "                                                     [key], {});\n",
              "          if (!dataTable) return;\n",
              "\n",
              "          const docLinkHtml = 'Like what you see? Visit the ' +\n",
              "            '<a target=\"_blank\" href=https://colab.research.google.com/notebooks/data_table.ipynb>data table notebook</a>'\n",
              "            + ' to learn more about interactive tables.';\n",
              "          element.innerHTML = '';\n",
              "          dataTable['output_type'] = 'display_data';\n",
              "          await google.colab.output.renderOutput(dataTable, element);\n",
              "          const docLink = document.createElement('div');\n",
              "          docLink.innerHTML = docLinkHtml;\n",
              "          element.appendChild(docLink);\n",
              "        }\n",
              "      </script>\n",
              "    </div>\n",
              "  </div>\n",
              "  "
            ]
          },
          "metadata": {},
          "execution_count": 29
        }
      ]
    },
    {
      "cell_type": "markdown",
      "source": [
        "What is the average of total price for both genders for each production line?"
      ],
      "metadata": {
        "id": "VzaW2EHsIeyA"
      }
    },
    {
      "cell_type": "code",
      "source": [
        "SW_sales.pivot_table(index='Gender',columns='Product line',values='Total',aggfunc='mean')"
      ],
      "metadata": {
        "colab": {
          "base_uri": "https://localhost:8080/",
          "height": 143
        },
        "id": "s9R6-8-XIfnz",
        "outputId": "3e7473d0-7e89-44cf-dc0d-b1eef510a3f2"
      },
      "execution_count": null,
      "outputs": [
        {
          "output_type": "execute_result",
          "data": {
            "text/plain": [
              "Product line  Electronic accessories  Fashion accessories  Food and beverages  \\\n",
              "Gender                                                                          \n",
              "Female                    322.643125           317.056250          368.565750   \n",
              "Male                      316.691965           291.079207          273.499125   \n",
              "\n",
              "Product line  Health and beauty  Home and lifestyle  Sports and travel  \n",
              "Gender                                                                  \n",
              "Female               290.015414          380.213639         324.712739  \n",
              "Male                 348.099460          294.136241         340.360327  "
            ],
            "text/html": [
              "\n",
              "  <div id=\"df-186619bb-da0b-4653-974a-eece64285565\">\n",
              "    <div class=\"colab-df-container\">\n",
              "      <div>\n",
              "<style scoped>\n",
              "    .dataframe tbody tr th:only-of-type {\n",
              "        vertical-align: middle;\n",
              "    }\n",
              "\n",
              "    .dataframe tbody tr th {\n",
              "        vertical-align: top;\n",
              "    }\n",
              "\n",
              "    .dataframe thead th {\n",
              "        text-align: right;\n",
              "    }\n",
              "</style>\n",
              "<table border=\"1\" class=\"dataframe\">\n",
              "  <thead>\n",
              "    <tr style=\"text-align: right;\">\n",
              "      <th>Product line</th>\n",
              "      <th>Electronic accessories</th>\n",
              "      <th>Fashion accessories</th>\n",
              "      <th>Food and beverages</th>\n",
              "      <th>Health and beauty</th>\n",
              "      <th>Home and lifestyle</th>\n",
              "      <th>Sports and travel</th>\n",
              "    </tr>\n",
              "    <tr>\n",
              "      <th>Gender</th>\n",
              "      <th></th>\n",
              "      <th></th>\n",
              "      <th></th>\n",
              "      <th></th>\n",
              "      <th></th>\n",
              "      <th></th>\n",
              "    </tr>\n",
              "  </thead>\n",
              "  <tbody>\n",
              "    <tr>\n",
              "      <th>Female</th>\n",
              "      <td>322.643125</td>\n",
              "      <td>317.056250</td>\n",
              "      <td>368.565750</td>\n",
              "      <td>290.015414</td>\n",
              "      <td>380.213639</td>\n",
              "      <td>324.712739</td>\n",
              "    </tr>\n",
              "    <tr>\n",
              "      <th>Male</th>\n",
              "      <td>316.691965</td>\n",
              "      <td>291.079207</td>\n",
              "      <td>273.499125</td>\n",
              "      <td>348.099460</td>\n",
              "      <td>294.136241</td>\n",
              "      <td>340.360327</td>\n",
              "    </tr>\n",
              "  </tbody>\n",
              "</table>\n",
              "</div>\n",
              "      <button class=\"colab-df-convert\" onclick=\"convertToInteractive('df-186619bb-da0b-4653-974a-eece64285565')\"\n",
              "              title=\"Convert this dataframe to an interactive table.\"\n",
              "              style=\"display:none;\">\n",
              "        \n",
              "  <svg xmlns=\"http://www.w3.org/2000/svg\" height=\"24px\"viewBox=\"0 0 24 24\"\n",
              "       width=\"24px\">\n",
              "    <path d=\"M0 0h24v24H0V0z\" fill=\"none\"/>\n",
              "    <path d=\"M18.56 5.44l.94 2.06.94-2.06 2.06-.94-2.06-.94-.94-2.06-.94 2.06-2.06.94zm-11 1L8.5 8.5l.94-2.06 2.06-.94-2.06-.94L8.5 2.5l-.94 2.06-2.06.94zm10 10l.94 2.06.94-2.06 2.06-.94-2.06-.94-.94-2.06-.94 2.06-2.06.94z\"/><path d=\"M17.41 7.96l-1.37-1.37c-.4-.4-.92-.59-1.43-.59-.52 0-1.04.2-1.43.59L10.3 9.45l-7.72 7.72c-.78.78-.78 2.05 0 2.83L4 21.41c.39.39.9.59 1.41.59.51 0 1.02-.2 1.41-.59l7.78-7.78 2.81-2.81c.8-.78.8-2.07 0-2.86zM5.41 20L4 18.59l7.72-7.72 1.47 1.35L5.41 20z\"/>\n",
              "  </svg>\n",
              "      </button>\n",
              "      \n",
              "  <style>\n",
              "    .colab-df-container {\n",
              "      display:flex;\n",
              "      flex-wrap:wrap;\n",
              "      gap: 12px;\n",
              "    }\n",
              "\n",
              "    .colab-df-convert {\n",
              "      background-color: #E8F0FE;\n",
              "      border: none;\n",
              "      border-radius: 50%;\n",
              "      cursor: pointer;\n",
              "      display: none;\n",
              "      fill: #1967D2;\n",
              "      height: 32px;\n",
              "      padding: 0 0 0 0;\n",
              "      width: 32px;\n",
              "    }\n",
              "\n",
              "    .colab-df-convert:hover {\n",
              "      background-color: #E2EBFA;\n",
              "      box-shadow: 0px 1px 2px rgba(60, 64, 67, 0.3), 0px 1px 3px 1px rgba(60, 64, 67, 0.15);\n",
              "      fill: #174EA6;\n",
              "    }\n",
              "\n",
              "    [theme=dark] .colab-df-convert {\n",
              "      background-color: #3B4455;\n",
              "      fill: #D2E3FC;\n",
              "    }\n",
              "\n",
              "    [theme=dark] .colab-df-convert:hover {\n",
              "      background-color: #434B5C;\n",
              "      box-shadow: 0px 1px 3px 1px rgba(0, 0, 0, 0.15);\n",
              "      filter: drop-shadow(0px 1px 2px rgba(0, 0, 0, 0.3));\n",
              "      fill: #FFFFFF;\n",
              "    }\n",
              "  </style>\n",
              "\n",
              "      <script>\n",
              "        const buttonEl =\n",
              "          document.querySelector('#df-186619bb-da0b-4653-974a-eece64285565 button.colab-df-convert');\n",
              "        buttonEl.style.display =\n",
              "          google.colab.kernel.accessAllowed ? 'block' : 'none';\n",
              "\n",
              "        async function convertToInteractive(key) {\n",
              "          const element = document.querySelector('#df-186619bb-da0b-4653-974a-eece64285565');\n",
              "          const dataTable =\n",
              "            await google.colab.kernel.invokeFunction('convertToInteractive',\n",
              "                                                     [key], {});\n",
              "          if (!dataTable) return;\n",
              "\n",
              "          const docLinkHtml = 'Like what you see? Visit the ' +\n",
              "            '<a target=\"_blank\" href=https://colab.research.google.com/notebooks/data_table.ipynb>data table notebook</a>'\n",
              "            + ' to learn more about interactive tables.';\n",
              "          element.innerHTML = '';\n",
              "          dataTable['output_type'] = 'display_data';\n",
              "          await google.colab.output.renderOutput(dataTable, element);\n",
              "          const docLink = document.createElement('div');\n",
              "          docLink.innerHTML = docLinkHtml;\n",
              "          element.appendChild(docLink);\n",
              "        }\n",
              "      </script>\n",
              "    </div>\n",
              "  </div>\n",
              "  "
            ]
          },
          "metadata": {},
          "execution_count": 36
        }
      ]
    },
    {
      "cell_type": "markdown",
      "source": [
        "Observations:\n",
        "\n",
        "For females, the highest average price of the production line is Home and lifestyle, for males, it is Health and beauty."
      ],
      "metadata": {
        "id": "X75rnL3gK-SU"
      }
    },
    {
      "cell_type": "markdown",
      "source": [
        "# Info about the 5% tax for each production line"
      ],
      "metadata": {
        "id": "sJbPn6CZLWtV"
      }
    },
    {
      "cell_type": "code",
      "source": [
        "figure=px.box(SW_sales,x='Product line',color='Product line',y='Tax 5%',template='plotly_white',title='Product line with tax 5%')\n",
        "figure.show()"
      ],
      "metadata": {
        "colab": {
          "base_uri": "https://localhost:8080/",
          "height": 542
        },
        "id": "HNgV2XRhLa3B",
        "outputId": "fd16a28c-536b-4432-e90b-76b0ba4c00eb"
      },
      "execution_count": null,
      "outputs": [
        {
          "output_type": "display_data",
          "data": {
            "text/html": [
              "<html>\n",
              "<head><meta charset=\"utf-8\" /></head>\n",
              "<body>\n",
              "    <div>            <script src=\"https://cdnjs.cloudflare.com/ajax/libs/mathjax/2.7.5/MathJax.js?config=TeX-AMS-MML_SVG\"></script><script type=\"text/javascript\">if (window.MathJax) {MathJax.Hub.Config({SVG: {font: \"STIX-Web\"}});}</script>                <script type=\"text/javascript\">window.PlotlyConfig = {MathJaxConfig: 'local'};</script>\n",
              "        <script src=\"https://cdn.plot.ly/plotly-2.8.3.min.js\"></script>                <div id=\"c9fecb23-b9bc-46c2-a6aa-cd9c46f66377\" class=\"plotly-graph-div\" style=\"height:525px; width:100%;\"></div>            <script type=\"text/javascript\">                                    window.PLOTLYENV=window.PLOTLYENV || {};                                    if (document.getElementById(\"c9fecb23-b9bc-46c2-a6aa-cd9c46f66377\")) {                    Plotly.newPlot(                        \"c9fecb23-b9bc-46c2-a6aa-cd9c46f66377\",                        [{\"alignmentgroup\":\"True\",\"hovertemplate\":\"Product line=%{x}<br>Tax 5%=%{y}<extra></extra>\",\"legendgroup\":\"Health and beauty\",\"marker\":{\"color\":\"#636efa\"},\"name\":\"Health and beauty\",\"notched\":false,\"offsetgroup\":\"Health and beauty\",\"orientation\":\"v\",\"showlegend\":true,\"x\":[\"Health and beauty\",\"Health and beauty\",\"Health and beauty\",\"Health and beauty\",\"Health and beauty\",\"Health and beauty\",\"Health and beauty\",\"Health and beauty\",\"Health and beauty\",\"Health and beauty\",\"Health and beauty\",\"Health and beauty\",\"Health and beauty\",\"Health and beauty\",\"Health and beauty\",\"Health and beauty\",\"Health and beauty\",\"Health and beauty\",\"Health and beauty\",\"Health and beauty\",\"Health and beauty\",\"Health and beauty\",\"Health and beauty\",\"Health and beauty\",\"Health and beauty\",\"Health and beauty\",\"Health and beauty\",\"Health and beauty\",\"Health and beauty\",\"Health and beauty\",\"Health and beauty\",\"Health and beauty\",\"Health and beauty\",\"Health and beauty\",\"Health and beauty\",\"Health and beauty\",\"Health and beauty\",\"Health and beauty\",\"Health and beauty\",\"Health and beauty\",\"Health and beauty\",\"Health and beauty\",\"Health and beauty\",\"Health and beauty\",\"Health and beauty\",\"Health and beauty\",\"Health and beauty\",\"Health and beauty\",\"Health and beauty\",\"Health and beauty\",\"Health and beauty\",\"Health and beauty\",\"Health and beauty\",\"Health and beauty\",\"Health and beauty\",\"Health and beauty\",\"Health and beauty\",\"Health and beauty\",\"Health and beauty\",\"Health and beauty\",\"Health and beauty\",\"Health and beauty\",\"Health and beauty\",\"Health and beauty\",\"Health and beauty\",\"Health and beauty\",\"Health and beauty\",\"Health and beauty\",\"Health and beauty\",\"Health and beauty\",\"Health and beauty\",\"Health and beauty\",\"Health and beauty\",\"Health and beauty\",\"Health and beauty\",\"Health and beauty\",\"Health and beauty\",\"Health and beauty\",\"Health and beauty\",\"Health and beauty\",\"Health and beauty\",\"Health and beauty\",\"Health and beauty\",\"Health and beauty\",\"Health and beauty\",\"Health and beauty\",\"Health and beauty\",\"Health and beauty\",\"Health and beauty\",\"Health and beauty\",\"Health and beauty\",\"Health and beauty\",\"Health and beauty\",\"Health and beauty\",\"Health and beauty\",\"Health and beauty\",\"Health and beauty\",\"Health and beauty\",\"Health and beauty\",\"Health and beauty\",\"Health and beauty\",\"Health and beauty\",\"Health and beauty\",\"Health and beauty\",\"Health and beauty\",\"Health and beauty\",\"Health and beauty\",\"Health and beauty\",\"Health and beauty\",\"Health and beauty\",\"Health and beauty\",\"Health and beauty\",\"Health and beauty\",\"Health and beauty\",\"Health and beauty\",\"Health and beauty\",\"Health and beauty\",\"Health and beauty\",\"Health and beauty\",\"Health and beauty\",\"Health and beauty\",\"Health and beauty\",\"Health and beauty\",\"Health and beauty\",\"Health and beauty\",\"Health and beauty\",\"Health and beauty\",\"Health and beauty\",\"Health and beauty\",\"Health and beauty\",\"Health and beauty\",\"Health and beauty\",\"Health and beauty\",\"Health and beauty\",\"Health and beauty\",\"Health and beauty\",\"Health and beauty\",\"Health and beauty\",\"Health and beauty\",\"Health and beauty\",\"Health and beauty\",\"Health and beauty\",\"Health and beauty\",\"Health and beauty\",\"Health and beauty\",\"Health and beauty\",\"Health and beauty\",\"Health and beauty\",\"Health and beauty\",\"Health and beauty\",\"Health and beauty\",\"Health and beauty\"],\"x0\":\" \",\"xaxis\":\"x\",\"y\":[26.1415,23.288,3.626,35.69,24.1255,13.197,11.2005,9.658,21.968,1.537,25.5105,35.84,15.148,7.935,3.347,0.9165,5.095,29.757,23.097,28.962,4.4875,43.935,10.6225,14.7315,24.39,45.25,34.3,13.878,13.228,12.984,43.749,17.028,17.5025,13.02,13.724,4.37,8.3,12.95,10.3635,31.2165,37.8405,25.97,4.3525,5.977,2.112,29.913,29.949,9.534,16.67,9.055,1.9505,6.9975,10.3845,8.814,1.971,4.578,10.226,19.5895,26.915,6.75,16.16,3.987,19.375,12.318,17.105,5.2425,4.8055,4.0755,5.722,18.6095,0.9575,1.3535,1.25,13.0025,29.028,9.777,10.128,15.3225,13.715,6.287,7.629,3.794,26.208,12.854,6.951,15.536,10.342,3.655,13.959,2.223,41.29,33.235,10.1325,21.063,16.743,3.594,14.313,11.0115,13.456,29.475,24.315,36.2115,25.1195,6.2325,8.92,11.4,8.4,40.975,28.4305,2.6725,11.1,30.0545,22.8585,8.72,2.54,2.7475,9.0705,13.71,4.639,0.8875,4.3,19.232,10.3065,32.4495,12.514,4.565,18.6165,23.9875,17.277,5.0715,6.282,20.915,39.664,29.96,6.9325,5.832,42.305,20.72,17.829,22.428,27.6115,13.8135,12.6975,3.528,5.9865,2.37,11.63,34.986,1.476,24.8,30.148,2.0175],\"y0\":\" \",\"yaxis\":\"y\",\"type\":\"box\"},{\"alignmentgroup\":\"True\",\"hovertemplate\":\"Product line=%{x}<br>Tax 5%=%{y}<extra></extra>\",\"legendgroup\":\"Electronic accessories\",\"marker\":{\"color\":\"#EF553B\"},\"name\":\"Electronic accessories\",\"notched\":false,\"offsetgroup\":\"Electronic accessories\",\"orientation\":\"v\",\"showlegend\":true,\"x\":[\"Electronic accessories\",\"Electronic accessories\",\"Electronic accessories\",\"Electronic accessories\",\"Electronic accessories\",\"Electronic accessories\",\"Electronic accessories\",\"Electronic accessories\",\"Electronic accessories\",\"Electronic accessories\",\"Electronic accessories\",\"Electronic accessories\",\"Electronic accessories\",\"Electronic accessories\",\"Electronic accessories\",\"Electronic accessories\",\"Electronic accessories\",\"Electronic accessories\",\"Electronic accessories\",\"Electronic accessories\",\"Electronic accessories\",\"Electronic accessories\",\"Electronic accessories\",\"Electronic accessories\",\"Electronic accessories\",\"Electronic accessories\",\"Electronic accessories\",\"Electronic accessories\",\"Electronic accessories\",\"Electronic accessories\",\"Electronic accessories\",\"Electronic accessories\",\"Electronic accessories\",\"Electronic accessories\",\"Electronic accessories\",\"Electronic accessories\",\"Electronic accessories\",\"Electronic accessories\",\"Electronic accessories\",\"Electronic accessories\",\"Electronic accessories\",\"Electronic accessories\",\"Electronic accessories\",\"Electronic accessories\",\"Electronic accessories\",\"Electronic accessories\",\"Electronic accessories\",\"Electronic accessories\",\"Electronic accessories\",\"Electronic accessories\",\"Electronic accessories\",\"Electronic accessories\",\"Electronic accessories\",\"Electronic accessories\",\"Electronic accessories\",\"Electronic accessories\",\"Electronic accessories\",\"Electronic accessories\",\"Electronic accessories\",\"Electronic accessories\",\"Electronic accessories\",\"Electronic accessories\",\"Electronic accessories\",\"Electronic accessories\",\"Electronic accessories\",\"Electronic accessories\",\"Electronic accessories\",\"Electronic accessories\",\"Electronic accessories\",\"Electronic accessories\",\"Electronic accessories\",\"Electronic accessories\",\"Electronic accessories\",\"Electronic accessories\",\"Electronic accessories\",\"Electronic accessories\",\"Electronic accessories\",\"Electronic accessories\",\"Electronic accessories\",\"Electronic accessories\",\"Electronic accessories\",\"Electronic accessories\",\"Electronic accessories\",\"Electronic accessories\",\"Electronic accessories\",\"Electronic accessories\",\"Electronic accessories\",\"Electronic accessories\",\"Electronic accessories\",\"Electronic accessories\",\"Electronic accessories\",\"Electronic accessories\",\"Electronic accessories\",\"Electronic accessories\",\"Electronic accessories\",\"Electronic accessories\",\"Electronic accessories\",\"Electronic accessories\",\"Electronic accessories\",\"Electronic accessories\",\"Electronic accessories\",\"Electronic accessories\",\"Electronic accessories\",\"Electronic accessories\",\"Electronic accessories\",\"Electronic accessories\",\"Electronic accessories\",\"Electronic accessories\",\"Electronic accessories\",\"Electronic accessories\",\"Electronic accessories\",\"Electronic accessories\",\"Electronic accessories\",\"Electronic accessories\",\"Electronic accessories\",\"Electronic accessories\",\"Electronic accessories\",\"Electronic accessories\",\"Electronic accessories\",\"Electronic accessories\",\"Electronic accessories\",\"Electronic accessories\",\"Electronic accessories\",\"Electronic accessories\",\"Electronic accessories\",\"Electronic accessories\",\"Electronic accessories\",\"Electronic accessories\",\"Electronic accessories\",\"Electronic accessories\",\"Electronic accessories\",\"Electronic accessories\",\"Electronic accessories\",\"Electronic accessories\",\"Electronic accessories\",\"Electronic accessories\",\"Electronic accessories\",\"Electronic accessories\",\"Electronic accessories\",\"Electronic accessories\",\"Electronic accessories\",\"Electronic accessories\",\"Electronic accessories\",\"Electronic accessories\",\"Electronic accessories\",\"Electronic accessories\",\"Electronic accessories\",\"Electronic accessories\",\"Electronic accessories\",\"Electronic accessories\",\"Electronic accessories\",\"Electronic accessories\",\"Electronic accessories\",\"Electronic accessories\",\"Electronic accessories\",\"Electronic accessories\",\"Electronic accessories\",\"Electronic accessories\",\"Electronic accessories\",\"Electronic accessories\",\"Electronic accessories\",\"Electronic accessories\",\"Electronic accessories\",\"Electronic accessories\",\"Electronic accessories\",\"Electronic accessories\",\"Electronic accessories\",\"Electronic accessories\",\"Electronic accessories\",\"Electronic accessories\"],\"x0\":\" \",\"xaxis\":\"x\",\"y\":[3.82,29.8865,20.652,5.102,11.7375,21.51,8.64,27.396,18.792,5.679,34.392,9.183,22.773,20.825,4.858,3.735,10.3815,44.335,40.985,39.824,26.235,6.5775,3.6085,8.34,15.867,8.1775,11.498,21.4935,29.9925,44.8785,11.8035,14.196,13.605,2.9525,7.412,27.21,1.5885,3.305,12.21,15.544,3.3175,6.45,13.188,33.777,20.15,9.7475,3.124,12.98,5.768,10.238,5.984,25.27,3.972,39.065,18.6975,7.272,7.1125,7.1475,7.2135,3.5975,9.107,18.0915,1.512,4.125,23.094,9.675,9.191,4.73,2.661,3.841,8.658,8.827,12.6075,7.038,16.344,22.413,6.603,4.154,39.695,23.285,4.942,16.11,16.814,1.93,16.4,6.322,9.672,34.8425,6.8565,11.475,5.631,19.818,6.663,6.762,9.711,16.968,22.353,4.154,1.448,21.9775,11.7465,2.31,35.42,5.567,3.0125,12.37,18.915,2.3535,4.9845,22.74,1.974,31.311,8.6,34.9335,1.791,26.558,29.38,36.624,8.71,14.296,36.065,19.128,39.5415,26.103,28.756,32.41,4.661,12.08,34.0155,10.046,20.13,4.7575,19.448,10.578,32.475,37.11,4.224,27.935,3.015,14.067,3.663,26.395,11.9385,10.715,1.9875,36.008,4.84,36.735,23.164,7.095,15.135,20.178,11.226,10.647,3.939,2.756,39.7125,32.858,8.425,13.806,2.089,14.523,3.827,8.6225,30.478,1.2725,33.7295,41.17,5.803,3.0475],\"y0\":\" \",\"yaxis\":\"y\",\"type\":\"box\"},{\"alignmentgroup\":\"True\",\"hovertemplate\":\"Product line=%{x}<br>Tax 5%=%{y}<extra></extra>\",\"legendgroup\":\"Home and lifestyle\",\"marker\":{\"color\":\"#00cc96\"},\"name\":\"Home and lifestyle\",\"notched\":false,\"offsetgroup\":\"Home and lifestyle\",\"orientation\":\"v\",\"showlegend\":true,\"x\":[\"Home and lifestyle\",\"Home and lifestyle\",\"Home and lifestyle\",\"Home and lifestyle\",\"Home and lifestyle\",\"Home and lifestyle\",\"Home and lifestyle\",\"Home and lifestyle\",\"Home and lifestyle\",\"Home and lifestyle\",\"Home and lifestyle\",\"Home and lifestyle\",\"Home and lifestyle\",\"Home and lifestyle\",\"Home and lifestyle\",\"Home and lifestyle\",\"Home and lifestyle\",\"Home and lifestyle\",\"Home and lifestyle\",\"Home and lifestyle\",\"Home and lifestyle\",\"Home and lifestyle\",\"Home and lifestyle\",\"Home and lifestyle\",\"Home and lifestyle\",\"Home and lifestyle\",\"Home and lifestyle\",\"Home and lifestyle\",\"Home and lifestyle\",\"Home and lifestyle\",\"Home and lifestyle\",\"Home and lifestyle\",\"Home and lifestyle\",\"Home and lifestyle\",\"Home and lifestyle\",\"Home and lifestyle\",\"Home and lifestyle\",\"Home and lifestyle\",\"Home and lifestyle\",\"Home and lifestyle\",\"Home and lifestyle\",\"Home and lifestyle\",\"Home and lifestyle\",\"Home and lifestyle\",\"Home and lifestyle\",\"Home and lifestyle\",\"Home and lifestyle\",\"Home and lifestyle\",\"Home and lifestyle\",\"Home and lifestyle\",\"Home and lifestyle\",\"Home and lifestyle\",\"Home and lifestyle\",\"Home and lifestyle\",\"Home and lifestyle\",\"Home and lifestyle\",\"Home and lifestyle\",\"Home and lifestyle\",\"Home and lifestyle\",\"Home and lifestyle\",\"Home and lifestyle\",\"Home and lifestyle\",\"Home and lifestyle\",\"Home and lifestyle\",\"Home and lifestyle\",\"Home and lifestyle\",\"Home and lifestyle\",\"Home and lifestyle\",\"Home and lifestyle\",\"Home and lifestyle\",\"Home and lifestyle\",\"Home and lifestyle\",\"Home and lifestyle\",\"Home and lifestyle\",\"Home and lifestyle\",\"Home and lifestyle\",\"Home and lifestyle\",\"Home and lifestyle\",\"Home and lifestyle\",\"Home and lifestyle\",\"Home and lifestyle\",\"Home and lifestyle\",\"Home and lifestyle\",\"Home and lifestyle\",\"Home and lifestyle\",\"Home and lifestyle\",\"Home and lifestyle\",\"Home and lifestyle\",\"Home and lifestyle\",\"Home and lifestyle\",\"Home and lifestyle\",\"Home and lifestyle\",\"Home and lifestyle\",\"Home and lifestyle\",\"Home and lifestyle\",\"Home and lifestyle\",\"Home and lifestyle\",\"Home and lifestyle\",\"Home and lifestyle\",\"Home and lifestyle\",\"Home and lifestyle\",\"Home and lifestyle\",\"Home and lifestyle\",\"Home and lifestyle\",\"Home and lifestyle\",\"Home and lifestyle\",\"Home and lifestyle\",\"Home and lifestyle\",\"Home and lifestyle\",\"Home and lifestyle\",\"Home and lifestyle\",\"Home and lifestyle\",\"Home and lifestyle\",\"Home and lifestyle\",\"Home and lifestyle\",\"Home and lifestyle\",\"Home and lifestyle\",\"Home and lifestyle\",\"Home and lifestyle\",\"Home and lifestyle\",\"Home and lifestyle\",\"Home and lifestyle\",\"Home and lifestyle\",\"Home and lifestyle\",\"Home and lifestyle\",\"Home and lifestyle\",\"Home and lifestyle\",\"Home and lifestyle\",\"Home and lifestyle\",\"Home and lifestyle\",\"Home and lifestyle\",\"Home and lifestyle\",\"Home and lifestyle\",\"Home and lifestyle\",\"Home and lifestyle\",\"Home and lifestyle\",\"Home and lifestyle\",\"Home and lifestyle\",\"Home and lifestyle\",\"Home and lifestyle\",\"Home and lifestyle\",\"Home and lifestyle\",\"Home and lifestyle\",\"Home and lifestyle\",\"Home and lifestyle\",\"Home and lifestyle\",\"Home and lifestyle\",\"Home and lifestyle\",\"Home and lifestyle\",\"Home and lifestyle\",\"Home and lifestyle\",\"Home and lifestyle\",\"Home and lifestyle\",\"Home and lifestyle\",\"Home and lifestyle\",\"Home and lifestyle\",\"Home and lifestyle\",\"Home and lifestyle\",\"Home and lifestyle\",\"Home and lifestyle\"],\"x0\":\" \",\"xaxis\":\"x\",\"y\":[16.2155,36.78,4.03,3.32,21.036,12.048,4.336,5.611,1.616,4.434,36.175,16.719,33.6015,9.476,24.81,26.1315,36.3555,5.344,25.564,32.7915,10.326,23.385,28.744,12.57,47.79,15.228,37.796,9.294,3.7035,13.962,11.556,5.11,1.2645,4.4425,14.265,23.09,0.914,25.368,12.53,37.548,19.036,4.75,23.56,7.773,7.094,14.148,17.77,9.693,1.203,10.91,27.984,1.85,3.743,33.208,23.514,12.002,4.4305,35.516,6.456,9.909,35.7,12.15,21.966,13.188,21.033,16.7725,15.921,6.1155,9.244,0.699,11.306,20.372,9.076,45.325,10.197,40.1445,25.131,30.19,1.148,34.956,6.06,6.94,4.785,10.7275,9.8475,3.473,24.951,11.232,7.08,5.8345,4.897,4.602,7.762,5.622,10.863,20.51,8.484,7.032,6.35,33.1065,7.995,14.955,8.712,36.39,4.91,31.78,21.8425,12.438,48.75,39.7755,15.106,6.618,8.3355,18.263,28.42,42.282,19.4635,3.769,2.6325,5.5305,18.32,28.956,38.184,3.429,17.604,48.685,3.0435,21.6725,15.494,4.768,14.2555,5.662,4.3135,5.076,17.8745,4.658,26.104,10.326,9.194,15.676,24.505,37.248,10.3455,16.1055,4.911,1.273,29.976,18.945,12.858,22.84,8.9525,3.285,19.773,7.9,14.985,12.1515,12.9185,12.012,48.69,3.291],\"y0\":\" \",\"yaxis\":\"y\",\"type\":\"box\"},{\"alignmentgroup\":\"True\",\"hovertemplate\":\"Product line=%{x}<br>Tax 5%=%{y}<extra></extra>\",\"legendgroup\":\"Sports and travel\",\"marker\":{\"color\":\"#ab63fa\"},\"name\":\"Sports and travel\",\"notched\":false,\"offsetgroup\":\"Sports and travel\",\"orientation\":\"v\",\"showlegend\":true,\"x\":[\"Sports and travel\",\"Sports and travel\",\"Sports and travel\",\"Sports and travel\",\"Sports and travel\",\"Sports and travel\",\"Sports and travel\",\"Sports and travel\",\"Sports and travel\",\"Sports and travel\",\"Sports and travel\",\"Sports and travel\",\"Sports and travel\",\"Sports and travel\",\"Sports and travel\",\"Sports and travel\",\"Sports and travel\",\"Sports and travel\",\"Sports and travel\",\"Sports and travel\",\"Sports and travel\",\"Sports and travel\",\"Sports and travel\",\"Sports and travel\",\"Sports and travel\",\"Sports and travel\",\"Sports and travel\",\"Sports and travel\",\"Sports and travel\",\"Sports and travel\",\"Sports and travel\",\"Sports and travel\",\"Sports and travel\",\"Sports and travel\",\"Sports and travel\",\"Sports and travel\",\"Sports and travel\",\"Sports and travel\",\"Sports and travel\",\"Sports and travel\",\"Sports and travel\",\"Sports and travel\",\"Sports and travel\",\"Sports and travel\",\"Sports and travel\",\"Sports and travel\",\"Sports and travel\",\"Sports and travel\",\"Sports and travel\",\"Sports and travel\",\"Sports and travel\",\"Sports and travel\",\"Sports and travel\",\"Sports and travel\",\"Sports and travel\",\"Sports and travel\",\"Sports and travel\",\"Sports and travel\",\"Sports and travel\",\"Sports and travel\",\"Sports and travel\",\"Sports and travel\",\"Sports and travel\",\"Sports and travel\",\"Sports and travel\",\"Sports and travel\",\"Sports and travel\",\"Sports and travel\",\"Sports and travel\",\"Sports and travel\",\"Sports and travel\",\"Sports and travel\",\"Sports and travel\",\"Sports and travel\",\"Sports and travel\",\"Sports and travel\",\"Sports and travel\",\"Sports and travel\",\"Sports and travel\",\"Sports and travel\",\"Sports and travel\",\"Sports and travel\",\"Sports and travel\",\"Sports and travel\",\"Sports and travel\",\"Sports and travel\",\"Sports and travel\",\"Sports and travel\",\"Sports and travel\",\"Sports and travel\",\"Sports and travel\",\"Sports and travel\",\"Sports and travel\",\"Sports and travel\",\"Sports and travel\",\"Sports and travel\",\"Sports and travel\",\"Sports and travel\",\"Sports and travel\",\"Sports and travel\",\"Sports and travel\",\"Sports and travel\",\"Sports and travel\",\"Sports and travel\",\"Sports and travel\",\"Sports and travel\",\"Sports and travel\",\"Sports and travel\",\"Sports and travel\",\"Sports and travel\",\"Sports and travel\",\"Sports and travel\",\"Sports and travel\",\"Sports and travel\",\"Sports and travel\",\"Sports and travel\",\"Sports and travel\",\"Sports and travel\",\"Sports and travel\",\"Sports and travel\",\"Sports and travel\",\"Sports and travel\",\"Sports and travel\",\"Sports and travel\",\"Sports and travel\",\"Sports and travel\",\"Sports and travel\",\"Sports and travel\",\"Sports and travel\",\"Sports and travel\",\"Sports and travel\",\"Sports and travel\",\"Sports and travel\",\"Sports and travel\",\"Sports and travel\",\"Sports and travel\",\"Sports and travel\",\"Sports and travel\",\"Sports and travel\",\"Sports and travel\",\"Sports and travel\",\"Sports and travel\",\"Sports and travel\",\"Sports and travel\",\"Sports and travel\",\"Sports and travel\",\"Sports and travel\",\"Sports and travel\",\"Sports and travel\",\"Sports and travel\",\"Sports and travel\",\"Sports and travel\",\"Sports and travel\",\"Sports and travel\",\"Sports and travel\",\"Sports and travel\",\"Sports and travel\",\"Sports and travel\",\"Sports and travel\",\"Sports and travel\",\"Sports and travel\",\"Sports and travel\",\"Sports and travel\",\"Sports and travel\",\"Sports and travel\",\"Sports and travel\"],\"x0\":\" \",\"xaxis\":\"x\",\"y\":[30.2085,28.116,21.783,13.2945,35.1315,33.512,3.406,15.655,20.736,3.711,24.7815,7.905,39.385,12.2275,29.071,2.1235,22.43,7.693,18.639,1.649,19.992,44.982,8.0625,40.626,27.639,6.968,25.955,29.0,44.9,12.096,32.388,28.017,3.1845,7.64,24.332,7.75,4.319,5.745,6.963,10.3635,6.1925,8.716,9.314,1.439,11.12,2.7225,34.44,16.8575,22.01,0.767,10.6875,14.0805,23.979,19.548,3.675,17.385,6.6975,47.72,3.7485,7.18,33.4215,16.466,3.791,26.13,13.452,2.187,3.876,16.8175,44.658,16.586,35.372,6.685,1.956,14.79,27.275,11.106,8.01,8.315,17.185,9.285,18.49,9.898,30.368,4.9065,20.608,3.6985,9.331,4.4225,7.275,31.759,20.4365,17.98,22.8525,44.1405,4.036,27.4275,12.885,24.665,25.893,13.335,21.4775,9.459,10.765,2.279,11.28,14.52,20.997,16.353,4.0465,17.424,21.78,6.087,32.095,1.549,16.794,6.9825,6.4455,5.999,9.88,4.062,22.428,1.7405,6.924,6.483,7.288,31.5855,5.408,3.855,40.7835,34.87,7.163,12.668,4.107,19.108,23.7965,4.669,6.3125,18.952,20.6185,12.245,6.903,9.318,16.2425,0.5085,21.028,4.402,4.74,13.389,8.766,3.947,1.119,1.276,36.212,12.918,26.718,15.995,15.953,38.46,2.1425,29.099,10.566,4.4155,2.531,22.37,43.866,38.3],\"y0\":\" \",\"yaxis\":\"y\",\"type\":\"box\"},{\"alignmentgroup\":\"True\",\"hovertemplate\":\"Product line=%{x}<br>Tax 5%=%{y}<extra></extra>\",\"legendgroup\":\"Food and beverages\",\"marker\":{\"color\":\"#FFA15A\"},\"name\":\"Food and beverages\",\"notched\":false,\"offsetgroup\":\"Food and beverages\",\"orientation\":\"v\",\"showlegend\":true,\"x\":[\"Food and beverages\",\"Food and beverages\",\"Food and beverages\",\"Food and beverages\",\"Food and beverages\",\"Food and beverages\",\"Food and beverages\",\"Food and beverages\",\"Food and beverages\",\"Food and beverages\",\"Food and beverages\",\"Food and beverages\",\"Food and beverages\",\"Food and beverages\",\"Food and beverages\",\"Food and beverages\",\"Food and beverages\",\"Food and beverages\",\"Food and beverages\",\"Food and beverages\",\"Food and beverages\",\"Food and beverages\",\"Food and beverages\",\"Food and beverages\",\"Food and beverages\",\"Food and beverages\",\"Food and beverages\",\"Food and beverages\",\"Food and beverages\",\"Food and beverages\",\"Food and beverages\",\"Food and beverages\",\"Food and beverages\",\"Food and beverages\",\"Food and beverages\",\"Food and beverages\",\"Food and beverages\",\"Food and beverages\",\"Food and beverages\",\"Food and beverages\",\"Food and beverages\",\"Food and beverages\",\"Food and beverages\",\"Food and beverages\",\"Food and beverages\",\"Food and beverages\",\"Food and beverages\",\"Food and beverages\",\"Food and beverages\",\"Food and beverages\",\"Food and beverages\",\"Food and beverages\",\"Food and beverages\",\"Food and beverages\",\"Food and beverages\",\"Food and beverages\",\"Food and beverages\",\"Food and beverages\",\"Food and beverages\",\"Food and beverages\",\"Food and beverages\",\"Food and beverages\",\"Food and beverages\",\"Food and beverages\",\"Food and beverages\",\"Food and beverages\",\"Food and beverages\",\"Food and beverages\",\"Food and beverages\",\"Food and beverages\",\"Food and beverages\",\"Food and beverages\",\"Food and beverages\",\"Food and beverages\",\"Food and beverages\",\"Food and beverages\",\"Food and beverages\",\"Food and beverages\",\"Food and beverages\",\"Food and beverages\",\"Food and beverages\",\"Food and beverages\",\"Food and beverages\",\"Food and beverages\",\"Food and beverages\",\"Food and beverages\",\"Food and beverages\",\"Food and beverages\",\"Food and beverages\",\"Food and beverages\",\"Food and beverages\",\"Food and beverages\",\"Food and beverages\",\"Food and beverages\",\"Food and beverages\",\"Food and beverages\",\"Food and beverages\",\"Food and beverages\",\"Food and beverages\",\"Food and beverages\",\"Food and beverages\",\"Food and beverages\",\"Food and beverages\",\"Food and beverages\",\"Food and beverages\",\"Food and beverages\",\"Food and beverages\",\"Food and beverages\",\"Food and beverages\",\"Food and beverages\",\"Food and beverages\",\"Food and beverages\",\"Food and beverages\",\"Food and beverages\",\"Food and beverages\",\"Food and beverages\",\"Food and beverages\",\"Food and beverages\",\"Food and beverages\",\"Food and beverages\",\"Food and beverages\",\"Food and beverages\",\"Food and beverages\",\"Food and beverages\",\"Food and beverages\",\"Food and beverages\",\"Food and beverages\",\"Food and beverages\",\"Food and beverages\",\"Food and beverages\",\"Food and beverages\",\"Food and beverages\",\"Food and beverages\",\"Food and beverages\",\"Food and beverages\",\"Food and beverages\",\"Food and beverages\",\"Food and beverages\",\"Food and beverages\",\"Food and beverages\",\"Food and beverages\",\"Food and beverages\",\"Food and beverages\",\"Food and beverages\",\"Food and beverages\",\"Food and beverages\",\"Food and beverages\",\"Food and beverages\",\"Food and beverages\",\"Food and beverages\",\"Food and beverages\",\"Food and beverages\",\"Food and beverages\",\"Food and beverages\",\"Food and beverages\",\"Food and beverages\",\"Food and beverages\",\"Food and beverages\",\"Food and beverages\",\"Food and beverages\",\"Food and beverages\",\"Food and beverages\",\"Food and beverages\",\"Food and beverages\",\"Food and beverages\",\"Food and beverages\",\"Food and beverages\",\"Food and beverages\",\"Food and beverages\",\"Food and beverages\",\"Food and beverages\",\"Food and beverages\",\"Food and beverages\",\"Food and beverages\"],\"x0\":\" \",\"xaxis\":\"x\",\"y\":[8.226,21.595,8.2005,22.09,19.884,39.48,9.0045,31.99,11.1475,44.74,7.278,39.155,14.502,7.7,16.072,17.283,7.9125,17.478,15.291,5.48,27.416,1.5205,4.944,23.0725,17.272,16.0265,19.95,15.384,20.0125,7.916,8.868,22.164,15.388,2.712,39.51,17.8475,41.967,8.601,21.728,4.325,11.223,25.571,20.9475,37.3,16.9785,3.636,2.4305,3.5575,9.937,3.162,10.3185,24.945,18.852,4.935,2.348,19.269,24.2575,17.828,32.384,37.788,9.979,8.248,24.9225,14.978,10.235,14.031,6.377,13.5675,11.829,3.4475,5.79,3.1305,4.327,3.408,4.36,13.83,15.9025,34.83,1.7945,10.13,36.525,1.131,12.835,1.079,26.388,27.072,25.215,24.513,27.18,7.3395,26.244,3.56,49.26,12.498,44.6,40.605,3.5455,7.239,12.06,6.354,4.083,7.851,7.83,38.78,9.958,5.789,44.5365,33.725,29.559,10.752,4.5805,7.888,8.377,11.9865,4.4075,14.8185,29.008,43.55,8.661,9.34,14.694,14.55,10.065,19.264,23.67,4.848,3.449,24.186,12.8695,4.668,2.686,4.2415,1.921,6.82,9.425,11.078,38.6,2.621,6.565,7.215,21.284,13.552,11.79,1.487,32.796,8.448,21.4335,3.6465,8.687,16.605,8.334,4.395,14.181,15.768,4.0355,7.954,4.3725,14.94,37.22,17.187,13.304,10.572,12.57,4.208,22.7205,44.397,3.333,42.315,14.932,7.98,3.3885,11.918,14.14,1.592],\"y0\":\" \",\"yaxis\":\"y\",\"type\":\"box\"},{\"alignmentgroup\":\"True\",\"hovertemplate\":\"Product line=%{x}<br>Tax 5%=%{y}<extra></extra>\",\"legendgroup\":\"Fashion accessories\",\"marker\":{\"color\":\"#19d3f3\"},\"name\":\"Fashion accessories\",\"notched\":false,\"offsetgroup\":\"Fashion accessories\",\"orientation\":\"v\",\"showlegend\":true,\"x\":[\"Fashion accessories\",\"Fashion accessories\",\"Fashion accessories\",\"Fashion accessories\",\"Fashion accessories\",\"Fashion accessories\",\"Fashion accessories\",\"Fashion accessories\",\"Fashion accessories\",\"Fashion accessories\",\"Fashion accessories\",\"Fashion accessories\",\"Fashion accessories\",\"Fashion accessories\",\"Fashion accessories\",\"Fashion accessories\",\"Fashion accessories\",\"Fashion accessories\",\"Fashion accessories\",\"Fashion accessories\",\"Fashion accessories\",\"Fashion accessories\",\"Fashion accessories\",\"Fashion accessories\",\"Fashion accessories\",\"Fashion accessories\",\"Fashion accessories\",\"Fashion accessories\",\"Fashion accessories\",\"Fashion accessories\",\"Fashion accessories\",\"Fashion accessories\",\"Fashion accessories\",\"Fashion accessories\",\"Fashion accessories\",\"Fashion accessories\",\"Fashion accessories\",\"Fashion accessories\",\"Fashion accessories\",\"Fashion accessories\",\"Fashion accessories\",\"Fashion accessories\",\"Fashion accessories\",\"Fashion accessories\",\"Fashion accessories\",\"Fashion accessories\",\"Fashion accessories\",\"Fashion accessories\",\"Fashion accessories\",\"Fashion accessories\",\"Fashion accessories\",\"Fashion accessories\",\"Fashion accessories\",\"Fashion accessories\",\"Fashion accessories\",\"Fashion accessories\",\"Fashion accessories\",\"Fashion accessories\",\"Fashion accessories\",\"Fashion accessories\",\"Fashion accessories\",\"Fashion accessories\",\"Fashion accessories\",\"Fashion accessories\",\"Fashion accessories\",\"Fashion accessories\",\"Fashion accessories\",\"Fashion accessories\",\"Fashion accessories\",\"Fashion accessories\",\"Fashion accessories\",\"Fashion accessories\",\"Fashion accessories\",\"Fashion accessories\",\"Fashion accessories\",\"Fashion accessories\",\"Fashion accessories\",\"Fashion accessories\",\"Fashion accessories\",\"Fashion accessories\",\"Fashion accessories\",\"Fashion accessories\",\"Fashion accessories\",\"Fashion accessories\",\"Fashion accessories\",\"Fashion accessories\",\"Fashion accessories\",\"Fashion accessories\",\"Fashion accessories\",\"Fashion accessories\",\"Fashion accessories\",\"Fashion accessories\",\"Fashion accessories\",\"Fashion accessories\",\"Fashion accessories\",\"Fashion accessories\",\"Fashion accessories\",\"Fashion accessories\",\"Fashion accessories\",\"Fashion accessories\",\"Fashion accessories\",\"Fashion accessories\",\"Fashion accessories\",\"Fashion accessories\",\"Fashion accessories\",\"Fashion accessories\",\"Fashion accessories\",\"Fashion accessories\",\"Fashion accessories\",\"Fashion accessories\",\"Fashion accessories\",\"Fashion accessories\",\"Fashion accessories\",\"Fashion accessories\",\"Fashion accessories\",\"Fashion accessories\",\"Fashion accessories\",\"Fashion accessories\",\"Fashion accessories\",\"Fashion accessories\",\"Fashion accessories\",\"Fashion accessories\",\"Fashion accessories\",\"Fashion accessories\",\"Fashion accessories\",\"Fashion accessories\",\"Fashion accessories\",\"Fashion accessories\",\"Fashion accessories\",\"Fashion accessories\",\"Fashion accessories\",\"Fashion accessories\",\"Fashion accessories\",\"Fashion accessories\",\"Fashion accessories\",\"Fashion accessories\",\"Fashion accessories\",\"Fashion accessories\",\"Fashion accessories\",\"Fashion accessories\",\"Fashion accessories\",\"Fashion accessories\",\"Fashion accessories\",\"Fashion accessories\",\"Fashion accessories\",\"Fashion accessories\",\"Fashion accessories\",\"Fashion accessories\",\"Fashion accessories\",\"Fashion accessories\",\"Fashion accessories\",\"Fashion accessories\",\"Fashion accessories\",\"Fashion accessories\",\"Fashion accessories\",\"Fashion accessories\",\"Fashion accessories\",\"Fashion accessories\",\"Fashion accessories\",\"Fashion accessories\",\"Fashion accessories\",\"Fashion accessories\",\"Fashion accessories\",\"Fashion accessories\",\"Fashion accessories\",\"Fashion accessories\",\"Fashion accessories\",\"Fashion accessories\",\"Fashion accessories\",\"Fashion accessories\",\"Fashion accessories\",\"Fashion accessories\",\"Fashion accessories\",\"Fashion accessories\",\"Fashion accessories\",\"Fashion accessories\",\"Fashion accessories\",\"Fashion accessories\"],\"x0\":\" \",\"xaxis\":\"x\",\"y\":[2.896,1.676,8.767,23.5325,41.315,3.574,0.7715,29.283,31.06,22.068,9.0045,19.13,2.4355,35.3475,8.214,25.494,4.053,5.485,2.568,22.588,14.2785,13.867,13.533,15.07,18.308,37.458,49.49,7.8785,22.491,7.352,3.7145,4.5555,37.948,0.627,8.137,14.764,11.055,4.4845,9.32,4.485,17.595,6.524,3.29,7.66,16.7895,19.084,35.495,9.982,8.191,6.933,15.4425,19.255,34.38,35.0685,49.65,19.1555,18.775,16.336,6.096,12.624,24.175,19.396,24.3315,12.072,18.975,9.9375,34.2265,13.742,5.955,48.605,10.168,0.814,18.2745,6.908,33.439,2.372,0.639,6.861,7.39,21.565,20.545,7.43,3.47,9.83,9.989,1.595,18.998,2.5735,7.842,5.986,34.672,3.698,14.61,14.71,8.5905,24.4395,7.204,9.925,29.583,27.951,28.4585,9.298,3.616,29.805,9.2125,3.2495,18.1615,18.7775,1.5305,13.983,13.038,41.625,4.5675,0.6045,7.863,1.6815,12.036,13.2225,2.7725,17.625,9.726,28.02,8.377,14.796,2.148,25.683,24.164,9.885,6.248,39.48,25.011,6.807,5.244,8.946,19.452,4.464,0.985,32.615,4.464,12.7305,38.916,25.552,11.409,1.531,2.3205,2.718,23.5865,22.032,31.09,15.904,6.192,2.619,9.635,7.791,1.066,29.73,3.705,9.848,16.4295,2.825,2.6175,4.072,4.876,23.1225,21.259,20.536,18.934,8.335,44.919,2.689,14.8995,4.599,0.775,8.613,4.992,15.9275,8.745,30.919],\"y0\":\" \",\"yaxis\":\"y\",\"type\":\"box\"}],                        {\"template\":{\"data\":{\"barpolar\":[{\"marker\":{\"line\":{\"color\":\"white\",\"width\":0.5},\"pattern\":{\"fillmode\":\"overlay\",\"size\":10,\"solidity\":0.2}},\"type\":\"barpolar\"}],\"bar\":[{\"error_x\":{\"color\":\"#2a3f5f\"},\"error_y\":{\"color\":\"#2a3f5f\"},\"marker\":{\"line\":{\"color\":\"white\",\"width\":0.5},\"pattern\":{\"fillmode\":\"overlay\",\"size\":10,\"solidity\":0.2}},\"type\":\"bar\"}],\"carpet\":[{\"aaxis\":{\"endlinecolor\":\"#2a3f5f\",\"gridcolor\":\"#C8D4E3\",\"linecolor\":\"#C8D4E3\",\"minorgridcolor\":\"#C8D4E3\",\"startlinecolor\":\"#2a3f5f\"},\"baxis\":{\"endlinecolor\":\"#2a3f5f\",\"gridcolor\":\"#C8D4E3\",\"linecolor\":\"#C8D4E3\",\"minorgridcolor\":\"#C8D4E3\",\"startlinecolor\":\"#2a3f5f\"},\"type\":\"carpet\"}],\"choropleth\":[{\"colorbar\":{\"outlinewidth\":0,\"ticks\":\"\"},\"type\":\"choropleth\"}],\"contourcarpet\":[{\"colorbar\":{\"outlinewidth\":0,\"ticks\":\"\"},\"type\":\"contourcarpet\"}],\"contour\":[{\"colorbar\":{\"outlinewidth\":0,\"ticks\":\"\"},\"colorscale\":[[0.0,\"#0d0887\"],[0.1111111111111111,\"#46039f\"],[0.2222222222222222,\"#7201a8\"],[0.3333333333333333,\"#9c179e\"],[0.4444444444444444,\"#bd3786\"],[0.5555555555555556,\"#d8576b\"],[0.6666666666666666,\"#ed7953\"],[0.7777777777777778,\"#fb9f3a\"],[0.8888888888888888,\"#fdca26\"],[1.0,\"#f0f921\"]],\"type\":\"contour\"}],\"heatmapgl\":[{\"colorbar\":{\"outlinewidth\":0,\"ticks\":\"\"},\"colorscale\":[[0.0,\"#0d0887\"],[0.1111111111111111,\"#46039f\"],[0.2222222222222222,\"#7201a8\"],[0.3333333333333333,\"#9c179e\"],[0.4444444444444444,\"#bd3786\"],[0.5555555555555556,\"#d8576b\"],[0.6666666666666666,\"#ed7953\"],[0.7777777777777778,\"#fb9f3a\"],[0.8888888888888888,\"#fdca26\"],[1.0,\"#f0f921\"]],\"type\":\"heatmapgl\"}],\"heatmap\":[{\"colorbar\":{\"outlinewidth\":0,\"ticks\":\"\"},\"colorscale\":[[0.0,\"#0d0887\"],[0.1111111111111111,\"#46039f\"],[0.2222222222222222,\"#7201a8\"],[0.3333333333333333,\"#9c179e\"],[0.4444444444444444,\"#bd3786\"],[0.5555555555555556,\"#d8576b\"],[0.6666666666666666,\"#ed7953\"],[0.7777777777777778,\"#fb9f3a\"],[0.8888888888888888,\"#fdca26\"],[1.0,\"#f0f921\"]],\"type\":\"heatmap\"}],\"histogram2dcontour\":[{\"colorbar\":{\"outlinewidth\":0,\"ticks\":\"\"},\"colorscale\":[[0.0,\"#0d0887\"],[0.1111111111111111,\"#46039f\"],[0.2222222222222222,\"#7201a8\"],[0.3333333333333333,\"#9c179e\"],[0.4444444444444444,\"#bd3786\"],[0.5555555555555556,\"#d8576b\"],[0.6666666666666666,\"#ed7953\"],[0.7777777777777778,\"#fb9f3a\"],[0.8888888888888888,\"#fdca26\"],[1.0,\"#f0f921\"]],\"type\":\"histogram2dcontour\"}],\"histogram2d\":[{\"colorbar\":{\"outlinewidth\":0,\"ticks\":\"\"},\"colorscale\":[[0.0,\"#0d0887\"],[0.1111111111111111,\"#46039f\"],[0.2222222222222222,\"#7201a8\"],[0.3333333333333333,\"#9c179e\"],[0.4444444444444444,\"#bd3786\"],[0.5555555555555556,\"#d8576b\"],[0.6666666666666666,\"#ed7953\"],[0.7777777777777778,\"#fb9f3a\"],[0.8888888888888888,\"#fdca26\"],[1.0,\"#f0f921\"]],\"type\":\"histogram2d\"}],\"histogram\":[{\"marker\":{\"pattern\":{\"fillmode\":\"overlay\",\"size\":10,\"solidity\":0.2}},\"type\":\"histogram\"}],\"mesh3d\":[{\"colorbar\":{\"outlinewidth\":0,\"ticks\":\"\"},\"type\":\"mesh3d\"}],\"parcoords\":[{\"line\":{\"colorbar\":{\"outlinewidth\":0,\"ticks\":\"\"}},\"type\":\"parcoords\"}],\"pie\":[{\"automargin\":true,\"type\":\"pie\"}],\"scatter3d\":[{\"line\":{\"colorbar\":{\"outlinewidth\":0,\"ticks\":\"\"}},\"marker\":{\"colorbar\":{\"outlinewidth\":0,\"ticks\":\"\"}},\"type\":\"scatter3d\"}],\"scattercarpet\":[{\"marker\":{\"colorbar\":{\"outlinewidth\":0,\"ticks\":\"\"}},\"type\":\"scattercarpet\"}],\"scattergeo\":[{\"marker\":{\"colorbar\":{\"outlinewidth\":0,\"ticks\":\"\"}},\"type\":\"scattergeo\"}],\"scattergl\":[{\"marker\":{\"colorbar\":{\"outlinewidth\":0,\"ticks\":\"\"}},\"type\":\"scattergl\"}],\"scattermapbox\":[{\"marker\":{\"colorbar\":{\"outlinewidth\":0,\"ticks\":\"\"}},\"type\":\"scattermapbox\"}],\"scatterpolargl\":[{\"marker\":{\"colorbar\":{\"outlinewidth\":0,\"ticks\":\"\"}},\"type\":\"scatterpolargl\"}],\"scatterpolar\":[{\"marker\":{\"colorbar\":{\"outlinewidth\":0,\"ticks\":\"\"}},\"type\":\"scatterpolar\"}],\"scatter\":[{\"marker\":{\"colorbar\":{\"outlinewidth\":0,\"ticks\":\"\"}},\"type\":\"scatter\"}],\"scatterternary\":[{\"marker\":{\"colorbar\":{\"outlinewidth\":0,\"ticks\":\"\"}},\"type\":\"scatterternary\"}],\"surface\":[{\"colorbar\":{\"outlinewidth\":0,\"ticks\":\"\"},\"colorscale\":[[0.0,\"#0d0887\"],[0.1111111111111111,\"#46039f\"],[0.2222222222222222,\"#7201a8\"],[0.3333333333333333,\"#9c179e\"],[0.4444444444444444,\"#bd3786\"],[0.5555555555555556,\"#d8576b\"],[0.6666666666666666,\"#ed7953\"],[0.7777777777777778,\"#fb9f3a\"],[0.8888888888888888,\"#fdca26\"],[1.0,\"#f0f921\"]],\"type\":\"surface\"}],\"table\":[{\"cells\":{\"fill\":{\"color\":\"#EBF0F8\"},\"line\":{\"color\":\"white\"}},\"header\":{\"fill\":{\"color\":\"#C8D4E3\"},\"line\":{\"color\":\"white\"}},\"type\":\"table\"}]},\"layout\":{\"annotationdefaults\":{\"arrowcolor\":\"#2a3f5f\",\"arrowhead\":0,\"arrowwidth\":1},\"autotypenumbers\":\"strict\",\"coloraxis\":{\"colorbar\":{\"outlinewidth\":0,\"ticks\":\"\"}},\"colorscale\":{\"diverging\":[[0,\"#8e0152\"],[0.1,\"#c51b7d\"],[0.2,\"#de77ae\"],[0.3,\"#f1b6da\"],[0.4,\"#fde0ef\"],[0.5,\"#f7f7f7\"],[0.6,\"#e6f5d0\"],[0.7,\"#b8e186\"],[0.8,\"#7fbc41\"],[0.9,\"#4d9221\"],[1,\"#276419\"]],\"sequential\":[[0.0,\"#0d0887\"],[0.1111111111111111,\"#46039f\"],[0.2222222222222222,\"#7201a8\"],[0.3333333333333333,\"#9c179e\"],[0.4444444444444444,\"#bd3786\"],[0.5555555555555556,\"#d8576b\"],[0.6666666666666666,\"#ed7953\"],[0.7777777777777778,\"#fb9f3a\"],[0.8888888888888888,\"#fdca26\"],[1.0,\"#f0f921\"]],\"sequentialminus\":[[0.0,\"#0d0887\"],[0.1111111111111111,\"#46039f\"],[0.2222222222222222,\"#7201a8\"],[0.3333333333333333,\"#9c179e\"],[0.4444444444444444,\"#bd3786\"],[0.5555555555555556,\"#d8576b\"],[0.6666666666666666,\"#ed7953\"],[0.7777777777777778,\"#fb9f3a\"],[0.8888888888888888,\"#fdca26\"],[1.0,\"#f0f921\"]]},\"colorway\":[\"#636efa\",\"#EF553B\",\"#00cc96\",\"#ab63fa\",\"#FFA15A\",\"#19d3f3\",\"#FF6692\",\"#B6E880\",\"#FF97FF\",\"#FECB52\"],\"font\":{\"color\":\"#2a3f5f\"},\"geo\":{\"bgcolor\":\"white\",\"lakecolor\":\"white\",\"landcolor\":\"white\",\"showlakes\":true,\"showland\":true,\"subunitcolor\":\"#C8D4E3\"},\"hoverlabel\":{\"align\":\"left\"},\"hovermode\":\"closest\",\"mapbox\":{\"style\":\"light\"},\"paper_bgcolor\":\"white\",\"plot_bgcolor\":\"white\",\"polar\":{\"angularaxis\":{\"gridcolor\":\"#EBF0F8\",\"linecolor\":\"#EBF0F8\",\"ticks\":\"\"},\"bgcolor\":\"white\",\"radialaxis\":{\"gridcolor\":\"#EBF0F8\",\"linecolor\":\"#EBF0F8\",\"ticks\":\"\"}},\"scene\":{\"xaxis\":{\"backgroundcolor\":\"white\",\"gridcolor\":\"#DFE8F3\",\"gridwidth\":2,\"linecolor\":\"#EBF0F8\",\"showbackground\":true,\"ticks\":\"\",\"zerolinecolor\":\"#EBF0F8\"},\"yaxis\":{\"backgroundcolor\":\"white\",\"gridcolor\":\"#DFE8F3\",\"gridwidth\":2,\"linecolor\":\"#EBF0F8\",\"showbackground\":true,\"ticks\":\"\",\"zerolinecolor\":\"#EBF0F8\"},\"zaxis\":{\"backgroundcolor\":\"white\",\"gridcolor\":\"#DFE8F3\",\"gridwidth\":2,\"linecolor\":\"#EBF0F8\",\"showbackground\":true,\"ticks\":\"\",\"zerolinecolor\":\"#EBF0F8\"}},\"shapedefaults\":{\"line\":{\"color\":\"#2a3f5f\"}},\"ternary\":{\"aaxis\":{\"gridcolor\":\"#DFE8F3\",\"linecolor\":\"#A2B1C6\",\"ticks\":\"\"},\"baxis\":{\"gridcolor\":\"#DFE8F3\",\"linecolor\":\"#A2B1C6\",\"ticks\":\"\"},\"bgcolor\":\"white\",\"caxis\":{\"gridcolor\":\"#DFE8F3\",\"linecolor\":\"#A2B1C6\",\"ticks\":\"\"}},\"title\":{\"x\":0.05},\"xaxis\":{\"automargin\":true,\"gridcolor\":\"#EBF0F8\",\"linecolor\":\"#EBF0F8\",\"ticks\":\"\",\"title\":{\"standoff\":15},\"zerolinecolor\":\"#EBF0F8\",\"zerolinewidth\":2},\"yaxis\":{\"automargin\":true,\"gridcolor\":\"#EBF0F8\",\"linecolor\":\"#EBF0F8\",\"ticks\":\"\",\"title\":{\"standoff\":15},\"zerolinecolor\":\"#EBF0F8\",\"zerolinewidth\":2}}},\"xaxis\":{\"anchor\":\"y\",\"domain\":[0.0,1.0],\"title\":{\"text\":\"Product line\"},\"categoryorder\":\"array\",\"categoryarray\":[\"Health and beauty\",\"Electronic accessories\",\"Home and lifestyle\",\"Sports and travel\",\"Food and beverages\",\"Fashion accessories\"]},\"yaxis\":{\"anchor\":\"x\",\"domain\":[0.0,1.0],\"title\":{\"text\":\"Tax 5%\"}},\"legend\":{\"title\":{\"text\":\"Product line\"},\"tracegroupgap\":0},\"title\":{\"text\":\"Product line with tax 5%\"},\"boxmode\":\"overlay\"},                        {\"responsive\": true}                    ).then(function(){\n",
              "                            \n",
              "var gd = document.getElementById('c9fecb23-b9bc-46c2-a6aa-cd9c46f66377');\n",
              "var x = new MutationObserver(function (mutations, observer) {{\n",
              "        var display = window.getComputedStyle(gd).display;\n",
              "        if (!display || display === 'none') {{\n",
              "            console.log([gd, 'removed!']);\n",
              "            Plotly.purge(gd);\n",
              "            observer.disconnect();\n",
              "        }}\n",
              "}});\n",
              "\n",
              "// Listen for the removal of the full notebook cells\n",
              "var notebookContainer = gd.closest('#notebook-container');\n",
              "if (notebookContainer) {{\n",
              "    x.observe(notebookContainer, {childList: true});\n",
              "}}\n",
              "\n",
              "// Listen for the clearing of the current output cell\n",
              "var outputEl = gd.closest('.output');\n",
              "if (outputEl) {{\n",
              "    x.observe(outputEl, {childList: true});\n",
              "}}\n",
              "\n",
              "                        })                };                            </script>        </div>\n",
              "</body>\n",
              "</html>"
            ]
          },
          "metadata": {}
        }
      ]
    },
    {
      "cell_type": "markdown",
      "source": [
        "#Payments"
      ],
      "metadata": {
        "id": "f4RpNU84RDv5"
      }
    },
    {
      "cell_type": "code",
      "source": [
        "SW_sales['Payment'].value_counts()"
      ],
      "metadata": {
        "colab": {
          "base_uri": "https://localhost:8080/"
        },
        "id": "XuRQuyyLQjOm",
        "outputId": "c62efdbe-475a-4dc0-9285-8937892bec42"
      },
      "execution_count": null,
      "outputs": [
        {
          "output_type": "execute_result",
          "data": {
            "text/plain": [
              "Ewallet        345\n",
              "Cash           344\n",
              "Credit card    311\n",
              "Name: Payment, dtype: int64"
            ]
          },
          "metadata": {},
          "execution_count": 42
        }
      ]
    },
    {
      "cell_type": "code",
      "source": [
        "SW_sales['Payment'].value_counts().plot.pie(title='Payment count & types', radius=2600, frame=True)"
      ],
      "metadata": {
        "id": "8kKmuoETRloQ",
        "colab": {
          "base_uri": "https://localhost:8080/",
          "height": 299
        },
        "outputId": "8c929364-e98a-46f9-e95d-65f8cee779eb"
      },
      "execution_count": 45,
      "outputs": [
        {
          "output_type": "execute_result",
          "data": {
            "text/plain": [
              "<Axes: title={'center': 'Payment count & types'}, ylabel='Payment'>"
            ]
          },
          "metadata": {},
          "execution_count": 45
        },
        {
          "output_type": "display_data",
          "data": {
            "text/plain": [
              "<Figure size 432x288 with 1 Axes>"
            ],
            "image/png": "[encoded data removed]"
          },
          "metadata": {
            "needs_background": "light"
          }
        }
      ]
    },
    {
      "cell_type": "markdown",
      "source": [
        "Observations:\n",
        "\n",
        "Most payment methods available is Ewallet, then Cash and lastly Credit card."
      ],
      "metadata": {
        "id": "g6mJgkcxV1MZ"
      }
    },
    {
      "cell_type": "markdown",
      "source": [
        "#When is each production line used?"
      ],
      "metadata": {
        "id": "v3bT8hr0WKKI"
      }
    },
    {
      "cell_type": "code",
      "source": [
        "SW_sales.groupby('month')['Product line'].value_counts()"
      ],
      "metadata": {
        "colab": {
          "base_uri": "https://localhost:8080/"
        },
        "id": "gvQTpPTBV_TO",
        "outputId": "f19c9297-9762-4cb0-95b9-8200ed68590f"
      },
      "execution_count": 53,
      "outputs": [
        {
          "output_type": "execute_result",
          "data": {
            "text/plain": [
              "month  Product line          \n",
              "1      Sports and travel         70\n",
              "       Fashion accessories       64\n",
              "       Home and lifestyle        59\n",
              "       Food and beverages        56\n",
              "       Electronic accessories    54\n",
              "       Health and beauty         49\n",
              "2      Food and beverages        62\n",
              "       Fashion accessories       60\n",
              "       Electronic accessories    54\n",
              "       Health and beauty         46\n",
              "       Sports and travel         43\n",
              "       Home and lifestyle        38\n",
              "3      Home and lifestyle        63\n",
              "       Electronic accessories    62\n",
              "       Health and beauty         57\n",
              "       Food and beverages        56\n",
              "       Fashion accessories       54\n",
              "       Sports and travel         53\n",
              "Name: Product line, dtype: int64"
            ]
          },
          "metadata": {},
          "execution_count": 53
        }
      ]
    },
    {
      "cell_type": "code",
      "source": [
        "SW_sales.head(2)"
      ],
      "metadata": {
        "colab": {
          "base_uri": "https://localhost:8080/",
          "height": 208
        },
        "id": "Zfiuy9wwWY83",
        "outputId": "6ab4532f-9106-4431-ed03-ed94154ceec5"
      },
      "execution_count": 52,
      "outputs": [
        {
          "output_type": "execute_result",
          "data": {
            "text/plain": [
              "  Branch       City Customer type  Gender            Product line  Unit price  \\\n",
              "0      A     Yangon        Member  Female       Health and beauty       74.69   \n",
              "1      C  Naypyitaw        Normal  Female  Electronic accessories       15.28   \n",
              "\n",
              "   Quantity   Tax 5%     Total       Date  month   Time  Payment    cogs  \\\n",
              "0         7  26.1415  548.9715 2019-01-05      1  13:08  Ewallet  522.83   \n",
              "1         5   3.8200   80.2200 2019-03-08      3  10:29     Cash   76.40   \n",
              "\n",
              "   gross margin percentage  gross income  Rating  \n",
              "0                 4.761905       26.1415     9.1  \n",
              "1                 4.761905        3.8200     9.6  "
            ],
            "text/html": [
              "\n",
              "  <div id=\"df-71f82d54-6aa0-4414-a99d-0e206be32852\">\n",
              "    <div class=\"colab-df-container\">\n",
              "      <div>\n",
              "<style scoped>\n",
              "    .dataframe tbody tr th:only-of-type {\n",
              "        vertical-align: middle;\n",
              "    }\n",
              "\n",
              "    .dataframe tbody tr th {\n",
              "        vertical-align: top;\n",
              "    }\n",
              "\n",
              "    .dataframe thead th {\n",
              "        text-align: right;\n",
              "    }\n",
              "</style>\n",
              "<table border=\"1\" class=\"dataframe\">\n",
              "  <thead>\n",
              "    <tr style=\"text-align: right;\">\n",
              "      <th></th>\n",
              "      <th>Branch</th>\n",
              "      <th>City</th>\n",
              "      <th>Customer type</th>\n",
              "      <th>Gender</th>\n",
              "      <th>Product line</th>\n",
              "      <th>Unit price</th>\n",
              "      <th>Quantity</th>\n",
              "      <th>Tax 5%</th>\n",
              "      <th>Total</th>\n",
              "      <th>Date</th>\n",
              "      <th>month</th>\n",
              "      <th>Time</th>\n",
              "      <th>Payment</th>\n",
              "      <th>cogs</th>\n",
              "      <th>gross margin percentage</th>\n",
              "      <th>gross income</th>\n",
              "      <th>Rating</th>\n",
              "    </tr>\n",
              "  </thead>\n",
              "  <tbody>\n",
              "    <tr>\n",
              "      <th>0</th>\n",
              "      <td>A</td>\n",
              "      <td>Yangon</td>\n",
              "      <td>Member</td>\n",
              "      <td>Female</td>\n",
              "      <td>Health and beauty</td>\n",
              "      <td>74.69</td>\n",
              "      <td>7</td>\n",
              "      <td>26.1415</td>\n",
              "      <td>548.9715</td>\n",
              "      <td>2019-01-05</td>\n",
              "      <td>1</td>\n",
              "      <td>13:08</td>\n",
              "      <td>Ewallet</td>\n",
              "      <td>522.83</td>\n",
              "      <td>4.761905</td>\n",
              "      <td>26.1415</td>\n",
              "      <td>9.1</td>\n",
              "    </tr>\n",
              "    <tr>\n",
              "      <th>1</th>\n",
              "      <td>C</td>\n",
              "      <td>Naypyitaw</td>\n",
              "      <td>Normal</td>\n",
              "      <td>Female</td>\n",
              "      <td>Electronic accessories</td>\n",
              "      <td>15.28</td>\n",
              "      <td>5</td>\n",
              "      <td>3.8200</td>\n",
              "      <td>80.2200</td>\n",
              "      <td>2019-03-08</td>\n",
              "      <td>3</td>\n",
              "      <td>10:29</td>\n",
              "      <td>Cash</td>\n",
              "      <td>76.40</td>\n",
              "      <td>4.761905</td>\n",
              "      <td>3.8200</td>\n",
              "      <td>9.6</td>\n",
              "    </tr>\n",
              "  </tbody>\n",
              "</table>\n",
              "</div>\n",
              "      <button class=\"colab-df-convert\" onclick=\"convertToInteractive('df-71f82d54-6aa0-4414-a99d-0e206be32852')\"\n",
              "              title=\"Convert this dataframe to an interactive table.\"\n",
              "              style=\"display:none;\">\n",
              "        \n",
              "  <svg xmlns=\"http://www.w3.org/2000/svg\" height=\"24px\"viewBox=\"0 0 24 24\"\n",
              "       width=\"24px\">\n",
              "    <path d=\"M0 0h24v24H0V0z\" fill=\"none\"/>\n",
              "    <path d=\"M18.56 5.44l.94 2.06.94-2.06 2.06-.94-2.06-.94-.94-2.06-.94 2.06-2.06.94zm-11 1L8.5 8.5l.94-2.06 2.06-.94-2.06-.94L8.5 2.5l-.94 2.06-2.06.94zm10 10l.94 2.06.94-2.06 2.06-.94-2.06-.94-.94-2.06-.94 2.06-2.06.94z\"/><path d=\"M17.41 7.96l-1.37-1.37c-.4-.4-.92-.59-1.43-.59-.52 0-1.04.2-1.43.59L10.3 9.45l-7.72 7.72c-.78.78-.78 2.05 0 2.83L4 21.41c.39.39.9.59 1.41.59.51 0 1.02-.2 1.41-.59l7.78-7.78 2.81-2.81c.8-.78.8-2.07 0-2.86zM5.41 20L4 18.59l7.72-7.72 1.47 1.35L5.41 20z\"/>\n",
              "  </svg>\n",
              "      </button>\n",
              "      \n",
              "  <style>\n",
              "    .colab-df-container {\n",
              "      display:flex;\n",
              "      flex-wrap:wrap;\n",
              "      gap: 12px;\n",
              "    }\n",
              "\n",
              "    .colab-df-convert {\n",
              "      background-color: #E8F0FE;\n",
              "      border: none;\n",
              "      border-radius: 50%;\n",
              "      cursor: pointer;\n",
              "      display: none;\n",
              "      fill: #1967D2;\n",
              "      height: 32px;\n",
              "      padding: 0 0 0 0;\n",
              "      width: 32px;\n",
              "    }\n",
              "\n",
              "    .colab-df-convert:hover {\n",
              "      background-color: #E2EBFA;\n",
              "      box-shadow: 0px 1px 2px rgba(60, 64, 67, 0.3), 0px 1px 3px 1px rgba(60, 64, 67, 0.15);\n",
              "      fill: #174EA6;\n",
              "    }\n",
              "\n",
              "    [theme=dark] .colab-df-convert {\n",
              "      background-color: #3B4455;\n",
              "      fill: #D2E3FC;\n",
              "    }\n",
              "\n",
              "    [theme=dark] .colab-df-convert:hover {\n",
              "      background-color: #434B5C;\n",
              "      box-shadow: 0px 1px 3px 1px rgba(0, 0, 0, 0.15);\n",
              "      filter: drop-shadow(0px 1px 2px rgba(0, 0, 0, 0.3));\n",
              "      fill: #FFFFFF;\n",
              "    }\n",
              "  </style>\n",
              "\n",
              "      <script>\n",
              "        const buttonEl =\n",
              "          document.querySelector('#df-71f82d54-6aa0-4414-a99d-0e206be32852 button.colab-df-convert');\n",
              "        buttonEl.style.display =\n",
              "          google.colab.kernel.accessAllowed ? 'block' : 'none';\n",
              "\n",
              "        async function convertToInteractive(key) {\n",
              "          const element = document.querySelector('#df-71f82d54-6aa0-4414-a99d-0e206be32852');\n",
              "          const dataTable =\n",
              "            await google.colab.kernel.invokeFunction('convertToInteractive',\n",
              "                                                     [key], {});\n",
              "          if (!dataTable) return;\n",
              "\n",
              "          const docLinkHtml = 'Like what you see? Visit the ' +\n",
              "            '<a target=\"_blank\" href=https://colab.research.google.com/notebooks/data_table.ipynb>data table notebook</a>'\n",
              "            + ' to learn more about interactive tables.';\n",
              "          element.innerHTML = '';\n",
              "          dataTable['output_type'] = 'display_data';\n",
              "          await google.colab.output.renderOutput(dataTable, element);\n",
              "          const docLink = document.createElement('div');\n",
              "          docLink.innerHTML = docLinkHtml;\n",
              "          element.appendChild(docLink);\n",
              "        }\n",
              "      </script>\n",
              "    </div>\n",
              "  </div>\n",
              "  "
            ]
          },
          "metadata": {},
          "execution_count": 52
        }
      ]
    }
  ],
  "metadata": {
    "colab": {
      "provenance": [],
      "include_colab_link": true
    },
    "kernelspec": {
      "display_name": "Python 3",
      "name": "python3"
    }
  },
  "nbformat": 4,
  "nbformat_minor": 0
}